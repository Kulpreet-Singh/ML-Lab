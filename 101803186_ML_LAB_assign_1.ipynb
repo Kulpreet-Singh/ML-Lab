{
 "cells": [
  {
   "cell_type": "markdown",
   "metadata": {
    "id": "a_wyFe3Lm0JD"
   },
   "source": [
    "# Assignment-1 Machine Learning Lab\n",
    "**RollNo: 101803186**, \n",
    "**Name: Kulpreet Singh**,\n",
    "**Group: 3COE9**"
   ]
  },
  {
   "cell_type": "code",
   "execution_count": 189,
   "metadata": {
    "id": "RwPY5OgAyQRM"
   },
   "outputs": [],
   "source": [
    "import nltk"
   ]
  },
  {
   "cell_type": "code",
   "execution_count": 190,
   "metadata": {
    "colab": {
     "base_uri": "https://localhost:8080/",
     "height": 0
    },
    "id": "6rHkEFuLycBE",
    "outputId": "a2dab563-dd9f-4c08-87c8-cf5a6601cc5c"
   },
   "outputs": [
    {
     "name": "stdout",
     "output_type": "stream",
     "text": [
      "[nltk_data] Downloading package gutenberg to /root/nltk_data...\n",
      "[nltk_data]   Package gutenberg is already up-to-date!\n",
      "[nltk_data] Downloading package punkt to /root/nltk_data...\n",
      "[nltk_data]   Package punkt is already up-to-date!\n",
      "[nltk_data] Downloading package stopwords to /root/nltk_data...\n",
      "[nltk_data]   Package stopwords is already up-to-date!\n",
      "[nltk_data] Downloading package wordnet to /root/nltk_data...\n",
      "[nltk_data]   Package wordnet is already up-to-date!\n"
     ]
    },
    {
     "data": {
      "text/plain": [
       "True"
      ]
     },
     "execution_count": 190,
     "metadata": {
      "tags": []
     },
     "output_type": "execute_result"
    }
   ],
   "source": [
    "nltk.download('gutenberg')\n",
    "nltk.download('punkt')\n",
    "nltk.download('stopwords')\n",
    "nltk.download('wordnet')"
   ]
  },
  {
   "cell_type": "code",
   "execution_count": 191,
   "metadata": {
    "id": "gpWNPIv_ye2i"
   },
   "outputs": [],
   "source": [
    "from nltk.corpus import gutenberg"
   ]
  },
  {
   "cell_type": "code",
   "execution_count": 192,
   "metadata": {
    "colab": {
     "base_uri": "https://localhost:8080/",
     "height": 0
    },
    "id": "e0R7Y-OMyhv8",
    "outputId": "25be8daa-cdcd-433e-e0b8-921f3fb1d6fe"
   },
   "outputs": [
    {
     "data": {
      "text/plain": [
       "['[', 'Emma', 'by', 'Jane', 'Austen', '1816', ']', ...]"
      ]
     },
     "execution_count": 192,
     "metadata": {
      "tags": []
     },
     "output_type": "execute_result"
    }
   ],
   "source": [
    "gutenberg.words()"
   ]
  },
  {
   "cell_type": "code",
   "execution_count": 193,
   "metadata": {
    "colab": {
     "base_uri": "https://localhost:8080/",
     "height": 0
    },
    "id": "UJv_TmF7yoOD",
    "outputId": "1e3ce99a-51ab-460e-86d6-573d9a274b53"
   },
   "outputs": [
    {
     "data": {
      "text/plain": [
       "['austen-emma.txt',\n",
       " 'austen-persuasion.txt',\n",
       " 'austen-sense.txt',\n",
       " 'bible-kjv.txt',\n",
       " 'blake-poems.txt',\n",
       " 'bryant-stories.txt',\n",
       " 'burgess-busterbrown.txt',\n",
       " 'carroll-alice.txt',\n",
       " 'chesterton-ball.txt',\n",
       " 'chesterton-brown.txt',\n",
       " 'chesterton-thursday.txt',\n",
       " 'edgeworth-parents.txt',\n",
       " 'melville-moby_dick.txt',\n",
       " 'milton-paradise.txt',\n",
       " 'shakespeare-caesar.txt',\n",
       " 'shakespeare-hamlet.txt',\n",
       " 'shakespeare-macbeth.txt',\n",
       " 'whitman-leaves.txt']"
      ]
     },
     "execution_count": 193,
     "metadata": {
      "tags": []
     },
     "output_type": "execute_result"
    }
   ],
   "source": [
    "gutenberg.fileids()"
   ]
  },
  {
   "cell_type": "markdown",
   "metadata": {
    "id": "6vgk4FQoyyDe"
   },
   "source": [
    "#Q1: Load a corpus (of .txt files) of your choice containing at least 10 text files using:"
   ]
  },
  {
   "cell_type": "markdown",
   "metadata": {
    "id": "arbMPN-Wy1FX"
   },
   "source": [
    "**1. File Method**"
   ]
  },
  {
   "cell_type": "code",
   "execution_count": 194,
   "metadata": {
    "colab": {
     "base_uri": "https://localhost:8080/",
     "height": 0
    },
    "id": "rVXsFryFyqh2",
    "outputId": "8397e4fd-2fb9-455c-98a6-b3faedea91b8"
   },
   "outputs": [
    {
     "data": {
      "text/plain": [
       "['Delhi MCD Election Results 2021 Live Updates: The Aam Aadmi Party (AAP) put on a good show in the five bye-elections to the Municipal Corporation of Delhi on Wednesday, winning four seats including Kalyanpuri, Rohini-C, Shalimar Bagh (North), and Trilokpuri. The Congress, on the other hand, won the Chauhan Banger ward.\\n\\nVoting was held in two wards — Rohini-C and Shalimar Bagh (North) — in the North Delhi Municipal Corporation (NDMC), and three wards — Trilokpuri, Kalyanpuri and Chauhan Banger — in the East Delhi Municipal Corporation (EDMC) last Sunday. While Shalimar Bagh (North) is reserved for women, Trilokpuri and Kalyanpuri are reserved for the Scheduled Caste (SC) category. The voter turnout recorded was 50.86 per cent.',\n",
       " 'The ruling Aam Aadmi Party bagged four seats in Municipal Corporations of Delhi (MCD) bypolls on Tuesday. Following the sweeping victory, the AAP convener and Delhi chief minister, Arvind Kejriwal took to Twitter congratulate on the win. \"The people of Delhi once again voted in the name of work. Congratulations to everyone. The 15-year-old BJP\\'s misrule in MCD has disturbed the people. People are now eager to form Aam Aadmi Party government in MCD also,\" he wrote on Twitter.\\n\\nDelhi deputy chief minister Manish Sisodia also congratulated the party workers on the micro-blogging site. \"Congratulations to the Aam Aadmi Party workers on winning 4 out of 5 seats in the MCD by-election. In the municipal elections next year, people in Delhi will bring to power the AAP for its excellent governance model under Arvind Kejriwal,\" the AAP leader said.\\n\\nThe AAP won Rohini-C (Ward No 32N), Trilokpuri (Ward No 02E), Kalyanpuri (Ward 008-E) and Shalimar Bagh North (Ward No 62N); whille Congress\\' Zubair Ahmad Chaudhary bagged Chauhan Banger by 10,642 votes.',\n",
       " 'New Delhi: AAP candidates were leading in four wards as the counting for municipal bypolls began on Wednesday morning, election officials said.\\nThe AAP candidates were leading in Shalimar Bagh North, Kalyanpuri, Trilokpuri and Rohini- C wards.\\n\\nThe Congress candidate was leading in Chauhan Bangar.\\n\\nMore than 50 per cent votes were cast in the bypolls for the five municipal wards held on February 28.',\n",
       " 'Some 237 million doses of AstraZeneca’s COVID-19 vaccine are expected to be delivered to 142 countries by the end of May through the COVAX facility, the head of the World Health Organization (WHO) said on Tuesday.\\n\\nTedros Adhanom Ghebreyesus, WHO director-general, told a news conference that vaccine deliveries were planned on Tuesday to Angola, Cambodia, the Democratic Republic of Congo and Nigeria.\\n\\nGhana’s president Nana Akufo-Addo said his West African country, which has begun its innoculation campaign with COVAX doses, aimed to vaccinate 20 million people by the end of 2021.',\n",
       " 'The Centre on Tuesday permitted all private hospitals to give Covid-19 vaccine if they adhere to the laid down norms and also asked the states and union territories to utilise the optimum capacity of private medical facilities empanelled under three categories.\\n\\nThe states and Union territories were also urged not to store, reserve, conserve or create a buffer stock of the COVID-19 vaccines, the Union Health ministry said in a statement, a day after the start of the second phase of India’s inoculation drive in which the coverage has been expanded to include everyone above 60 and those over 45 with specified co-morbidities.',\n",
       " '\\nAdhir Ranjan Chowdhury is the Congress\\'s president in West Bengal\\n\\n\\n8\\nKolkata: Congressmen who are accusing the party of breaching secularism are those who \"have already extracted their own pound of flesh,\" said the party\\'s angry Bengal chief in an interview to NDTV on Tuesday.\\nAdhir Ranjan Chowdhury, who is the Congress president in Bengal, offered this unflattering appraisal in response to allegations that the party, by allying with a powerful Muslim cleric in Bengal, has abandoned its long-held commitment to secularism. That charge has been levelled by Anand Sharma, former union minister, who is a member of what has been nicknamed the \"G-23 club\", a group of 23 Congress leaders who hold the party\\'s leadership, in particular the Gandhis, of inaccessible and inconsistent direction.',\n",
       " 'West Bengal Assembly Elections Opinion Poll: Mamata Banerjee is set to return as the chief minister for the third consecutive term with a comfortable majority of 157 seats, 9 more than what is required to form the government in the 294-member Assembly of West Bengal. The Bharatiya Janata Party (BJP), on the other hand, will increase its tally by about 100 seats but would still fall short of majority, according to an opinion poll conducted by Times Now-C Voter.\\n\\nThe Trinamool Congress is predicted to get 42.2 per cent vote share and 157 seats, 57 less than what it had got in 2016. The BJP, the key challenger to TMC, is expected to get 37.5 per cent vote share and 107 seats, up by 104 seats from 2016, when it had got just 3. In the previous assembly elections, the saffron party’s vote share was just 10.16 per cent whereas the TMC had the largest vote share of nearly 45 per cent (44.91 to be precise).',\n",
       " 'Last week, Lenovo released the first teaser of the upcoming Lenovo Legion gaming smartphone. The teaser revealed that the handset will come equipped with a dual turbo cooling system for heat dissipation. A new Lenovo smartphone with model number L70081 powered by a flagship chipset has appeared on the Geekbench benchmarking platform (via. Abhishek Yadav). It seems that the L70081 could be the next-generation gaming smartphone from Lenovo. It is yet to be confirmed whether it will be launching as the Legion Pro 2 or Legion 2 Pro.\\n\\nThe Lenovo L70081’s Geekbench listing shows that it is driven by the “lahaina’ codenamed Qualcomm chipset that has a base frequency of 1.80GHz. The codename is associated with the Snapdragon 888 mobile platform.',\n",
       " \"Earlier today, OnePlus announced the date of its announcement of its next flagship smartphones, the 9 series, and that's March 23. The company also made its partnership with Hasselblad official, and a few hours later we have the first official teaser of the OnePlus 9 Pro posted on Twitter by OnePlus itself. You can see it below, the money shot is at the end when we catch a glimpse of what is essentially the top half of the back of the 9 Pro.\",\n",
       " 'A 170-kilometre ring road will be built around Pune at an estimated cost of Rs 26,000 crore as a large number of passenger and goods transport from different parts of the state move through the city, Maharashtra Deputy Chief Minister Ajit Pawar said on Monday while tabling the Budget for 2021-22 in the Assembly.\\n\\nLand acquisition for the project will begin this year, he added.\\n\\nA large number of passenger and goods vehicles from Konkan, Marathwada, north Maharashtra and other par ..\\n\\nRead more at:\\nhttps://economictimes.indiatimes.com/news/economy/infrastructure/maharashtra-budget-170-km-ring-road-planned-for-pune-at-rs-26000-crore/articleshow/81395853.cms?utm_source=contentofinterest&utm_medium=text&utm_campaign=cppst']"
      ]
     },
     "execution_count": 194,
     "metadata": {
      "tags": []
     },
     "output_type": "execute_result"
    }
   ],
   "source": [
    "#Loading my own corpus\n",
    "import os\n",
    "filenames=os.listdir('/content/drive/MyDrive/ownCorpus/')\n",
    "contents=[]\n",
    "for i in range(len(filenames)):\n",
    "  f=open('/content/drive/MyDrive/ownCorpus/'+filenames[i],'r')\n",
    "  text=f.read()\n",
    "  contents.append(text)\n",
    "  f.close()\n",
    "contents"
   ]
  },
  {
   "cell_type": "markdown",
   "metadata": {
    "id": "zp-HQ2X419_-"
   },
   "source": [
    "**2. PlaintextCorpusReader**"
   ]
  },
  {
   "cell_type": "code",
   "execution_count": 195,
   "metadata": {
    "id": "I-YmflQQzNNS"
   },
   "outputs": [],
   "source": [
    "from nltk.corpus import PlaintextCorpusReader\n",
    "dataset=PlaintextCorpusReader('/content/drive/MyDrive/ownCorpus/' ,'.*')"
   ]
  },
  {
   "cell_type": "code",
   "execution_count": 196,
   "metadata": {
    "colab": {
     "base_uri": "https://localhost:8080/",
     "height": 0
    },
    "id": "lrdUiITB18a2",
    "outputId": "5f48f281-29b2-4f85-9ce6-4654468512db"
   },
   "outputs": [
    {
     "data": {
      "text/plain": [
       "<PlaintextCorpusReader in '/content/drive/MyDrive/ownCorpus'>"
      ]
     },
     "execution_count": 196,
     "metadata": {
      "tags": []
     },
     "output_type": "execute_result"
    }
   ],
   "source": [
    "dataset"
   ]
  },
  {
   "cell_type": "code",
   "execution_count": 197,
   "metadata": {
    "colab": {
     "base_uri": "https://localhost:8080/",
     "height": 0
    },
    "id": "br1CWz5e2IMM",
    "outputId": "99ceee8b-02de-4571-e2f9-13136aae9bdc"
   },
   "outputs": [
    {
     "data": {
      "text/plain": [
       "['AAP wins.txt',\n",
       " 'BJP.txt',\n",
       " 'Delhi Civic Bypolls.txt',\n",
       " 'MCD elections.txt',\n",
       " 'covid19.txt',\n",
       " 'lenovo.txt',\n",
       " 'maharashtra.txt',\n",
       " 'oneplus.txt',\n",
       " 'vaccine.txt',\n",
       " 'west bengal.txt']"
      ]
     },
     "execution_count": 197,
     "metadata": {
      "tags": []
     },
     "output_type": "execute_result"
    }
   ],
   "source": [
    "dataset.fileids()"
   ]
  },
  {
   "cell_type": "code",
   "execution_count": 198,
   "metadata": {
    "colab": {
     "base_uri": "https://localhost:8080/",
     "height": 120
    },
    "id": "ItRGP27x2LMq",
    "outputId": "81d3024d-9557-409c-a9c2-2df894433fa0"
   },
   "outputs": [
    {
     "data": {
      "application/vnd.google.colaboratory.intrinsic+json": {
       "type": "string"
      },
      "text/plain": [
       "'The ruling Aam Aadmi Party bagged four seats in Municipal Corporations of Delhi (MCD) bypolls on Tuesday. Following the sweeping victory, the AAP convener and Delhi chief minister, Arvind Kejriwal took to Twitter congratulate on the win. \"The people of Delhi once again voted in the name of work. Congratulations to everyone. The 15-year-old BJP\\'s misrule in MCD has disturbed the people. People are now eager to form Aam Aadmi Party government in MCD also,\" he wrote on Twitter.\\r\\n\\r\\nDelhi deputy chief minister Manish Sisodia also congratulated the party workers on the micro-blogging site. \"Congratulations to the Aam Aadmi Party workers on winning 4 out of 5 seats in the MCD by-election. In the municipal elections next year, people in Delhi will bring to power the AAP for its excellent governance model under Arvind Kejriwal,\" the AAP leader said.\\r\\n\\r\\nThe AAP won Rohini-C (Ward No 32N), Trilokpuri (Ward No 02E), Kalyanpuri (Ward 008-E) and Shalimar Bagh North (Ward No 62N); whille Congress\\' Zubair Ahmad Chaudhary bagged Chauhan Banger by 10,642 votes.\\r\\nAdhir Ranjan Chowdhury is the Congress\\'s president in West Bengal\\r\\n\\r\\n\\r\\n8\\r\\nKolkata: Congressmen who are accusing the party of breaching secularism are those who \"have already extracted their own pound of flesh,\" said the party\\'s angry Bengal chief in an interview to NDTV on Tuesday.\\r\\nAdhir Ranjan Chowdhury, who is the Congress president in Bengal, offered this unflattering appraisal in response to allegations that the party, by allying with a powerful Muslim cleric in Bengal, has abandoned its long-held commitment to secularism. That charge has been levelled by Anand Sharma, former union minister, who is a member of what has been nicknamed the \"G-23 club\", a group of 23 Congress leaders who hold the party\\'s leadership, in particular the Gandhis, of inaccessible and inconsistent direction.New Delhi: AAP candidates were leading in four wards as the counting for municipal bypolls began on Wednesday morning, election officials said.\\r\\nThe AAP candidates were leading in Shalimar Bagh North, Kalyanpuri, Trilokpuri and Rohini- C wards.\\r\\n\\r\\nThe Congress candidate was leading in Chauhan Bangar.\\r\\n\\r\\nMore than 50 per cent votes were cast in the bypolls for the five municipal wards held on February 28.Delhi MCD Election Results 2021 Live Updates: The Aam Aadmi Party (AAP) put on a good show in the five bye-elections to the Municipal Corporation of Delhi on Wednesday, winning four seats including Kalyanpuri, Rohini-C, Shalimar Bagh (North), and Trilokpuri. The Congress, on the other hand, won the Chauhan Banger ward.\\r\\n\\r\\nVoting was held in two wards — Rohini-C and Shalimar Bagh (North) — in the North Delhi Municipal Corporation (NDMC), and three wards — Trilokpuri, Kalyanpuri and Chauhan Banger — in the East Delhi Municipal Corporation (EDMC) last Sunday. While Shalimar Bagh (North) is reserved for women, Trilokpuri and Kalyanpuri are reserved for the Scheduled Caste (SC) category. The voter turnout recorded was 50.86 per cent.The Centre on Tuesday permitted all private hospitals to give Covid-19 vaccine if they adhere to the laid down norms and also asked the states and union territories to utilise the optimum capacity of private medical facilities empanelled under three categories.\\r\\n\\r\\nThe states and Union territories were also urged not to store, reserve, conserve or create a buffer stock of the COVID-19 vaccines, the Union Health ministry said in a statement, a day after the start of the second phase of India’s inoculation drive in which the coverage has been expanded to include everyone above 60 and those over 45 with specified co-morbidities.Last week, Lenovo released the first teaser of the upcoming Lenovo Legion gaming smartphone. The teaser revealed that the handset will come equipped with a dual turbo cooling system for heat dissipation. A new Lenovo smartphone with model number L70081 powered by a flagship chipset has appeared on the Geekbench benchmarking platform (via. Abhishek Yadav). It seems that the L70081 could be the next-generation gaming smartphone from Lenovo. It is yet to be confirmed whether it will be launching as the Legion Pro 2 or Legion 2 Pro.\\n\\nThe Lenovo L70081’s Geekbench listing shows that it is driven by the “lahaina’ codenamed Qualcomm chipset that has a base frequency of 1.80GHz. The codename is associated with the Snapdragon 888 mobile platform.A 170-kilometre ring road will be built around Pune at an estimated cost of Rs 26,000 crore as a large number of passenger and goods transport from different parts of the state move through the city, Maharashtra Deputy Chief Minister Ajit Pawar said on Monday while tabling the Budget for 2021-22 in the Assembly.\\n\\nLand acquisition for the project will begin this year, he added.\\n\\nA large number of passenger and goods vehicles from Konkan, Marathwada, north Maharashtra and other par ..\\n\\nRead more at:\\nhttps://economictimes.indiatimes.com/news/economy/infrastructure/maharashtra-budget-170-km-ring-road-planned-for-pune-at-rs-26000-crore/articleshow/81395853.cms?utm_source=contentofinterest&utm_medium=text&utm_campaign=cppstEarlier today, OnePlus announced the date of its announcement of its next flagship smartphones, the 9 series, and that\\'s March 23. The company also made its partnership with Hasselblad official, and a few hours later we have the first official teaser of the OnePlus 9 Pro posted on Twitter by OnePlus itself. You can see it below, the money shot is at the end when we catch a glimpse of what is essentially the top half of the back of the 9 Pro.Some 237 million doses of AstraZeneca’s COVID-19 vaccine are expected to be delivered to 142 countries by the end of May through the COVAX facility, the head of the World Health Organization (WHO) said on Tuesday.\\r\\n\\r\\nTedros Adhanom Ghebreyesus, WHO director-general, told a news conference that vaccine deliveries were planned on Tuesday to Angola, Cambodia, the Democratic Republic of Congo and Nigeria.\\r\\n\\r\\nGhana’s president Nana Akufo-Addo said his West African country, which has begun its innoculation campaign with COVAX doses, aimed to vaccinate 20 million people by the end of 2021.West Bengal Assembly Elections Opinion Poll: Mamata Banerjee is set to return as the chief minister for the third consecutive term with a comfortable majority of 157 seats, 9 more than what is required to form the government in the 294-member Assembly of West Bengal. The Bharatiya Janata Party (BJP), on the other hand, will increase its tally by about 100 seats but would still fall short of majority, according to an opinion poll conducted by Times Now-C Voter.\\n\\nThe Trinamool Congress is predicted to get 42.2 per cent vote share and 157 seats, 57 less than what it had got in 2016. The BJP, the key challenger to TMC, is expected to get 37.5 per cent vote share and 107 seats, up by 104 seats from 2016, when it had got just 3. In the previous assembly elections, the saffron party’s vote share was just 10.16 per cent whereas the TMC had the largest vote share of nearly 45 per cent (44.91 to be precise).'"
      ]
     },
     "execution_count": 198,
     "metadata": {
      "tags": []
     },
     "output_type": "execute_result"
    }
   ],
   "source": [
    "dataset.raw()"
   ]
  },
  {
   "cell_type": "code",
   "execution_count": 199,
   "metadata": {
    "colab": {
     "base_uri": "https://localhost:8080/",
     "height": 0
    },
    "id": "510lvbEN2Nca",
    "outputId": "4564d83c-ad1b-4872-fc69-210d4ba3a5fc"
   },
   "outputs": [
    {
     "data": {
      "text/plain": [
       "[['The', 'ruling', 'Aam', 'Aadmi', 'Party', 'bagged', 'four', 'seats', 'in', 'Municipal', 'Corporations', 'of', 'Delhi', '(', 'MCD', ')', 'bypolls', 'on', 'Tuesday', '.'], ['Following', 'the', 'sweeping', 'victory', ',', 'the', 'AAP', 'convener', 'and', 'Delhi', 'chief', 'minister', ',', 'Arvind', 'Kejriwal', 'took', 'to', 'Twitter', 'congratulate', 'on', 'the', 'win', '.'], ...]"
      ]
     },
     "execution_count": 199,
     "metadata": {
      "tags": []
     },
     "output_type": "execute_result"
    }
   ],
   "source": [
    "dataset.sents()"
   ]
  },
  {
   "cell_type": "code",
   "execution_count": 200,
   "metadata": {
    "colab": {
     "base_uri": "https://localhost:8080/",
     "height": 0
    },
    "id": "TEca8jKF2PfZ",
    "outputId": "12f30e9f-7387-4ee1-d9d8-d533ae703a63"
   },
   "outputs": [
    {
     "data": {
      "text/plain": [
       "['The', 'ruling', 'Aam', 'Aadmi', 'Party', 'bagged', ...]"
      ]
     },
     "execution_count": 200,
     "metadata": {
      "tags": []
     },
     "output_type": "execute_result"
    }
   ],
   "source": [
    "dataset.words()"
   ]
  },
  {
   "cell_type": "markdown",
   "metadata": {
    "id": "2ozGgF1Z2Z4Q"
   },
   "source": [
    "#Q2: Pre-process the corpus loaded in step 1(apply normalization, tokenization, stopword removal, stemming)"
   ]
  },
  {
   "cell_type": "code",
   "execution_count": 201,
   "metadata": {
    "colab": {
     "base_uri": "https://localhost:8080/",
     "height": 0
    },
    "id": "t5XwyDhq2RH1",
    "outputId": "0d83408f-736f-4548-a694-a80850b66dac"
   },
   "outputs": [
    {
     "name": "stdout",
     "output_type": "stream",
     "text": [
      "['Delhi MCD Election Results 2021 Live Updates: The Aam Aadmi Party (AAP) put on a good show in the five bye-elections to the Municipal Corporation of Delhi on Wednesday, winning four seats including Kalyanpuri, Rohini-C, Shalimar Bagh (North), and Trilokpuri. The Congress, on the other hand, won the Chauhan Banger ward.\\n\\nVoting was held in two wards — Rohini-C and Shalimar Bagh (North) — in the North Delhi Municipal Corporation (NDMC), and three wards — Trilokpuri, Kalyanpuri and Chauhan Banger — in the East Delhi Municipal Corporation (EDMC) last Sunday. While Shalimar Bagh (North) is reserved for women, Trilokpuri and Kalyanpuri are reserved for the Scheduled Caste (SC) category. The voter turnout recorded was 50.86 per cent.', 'The ruling Aam Aadmi Party bagged four seats in Municipal Corporations of Delhi (MCD) bypolls on Tuesday. Following the sweeping victory, the AAP convener and Delhi chief minister, Arvind Kejriwal took to Twitter congratulate on the win. \"The people of Delhi once again voted in the name of work. Congratulations to everyone. The 15-year-old BJP\\'s misrule in MCD has disturbed the people. People are now eager to form Aam Aadmi Party government in MCD also,\" he wrote on Twitter.\\n\\nDelhi deputy chief minister Manish Sisodia also congratulated the party workers on the micro-blogging site. \"Congratulations to the Aam Aadmi Party workers on winning 4 out of 5 seats in the MCD by-election. In the municipal elections next year, people in Delhi will bring to power the AAP for its excellent governance model under Arvind Kejriwal,\" the AAP leader said.\\n\\nThe AAP won Rohini-C (Ward No 32N), Trilokpuri (Ward No 02E), Kalyanpuri (Ward 008-E) and Shalimar Bagh North (Ward No 62N); whille Congress\\' Zubair Ahmad Chaudhary bagged Chauhan Banger by 10,642 votes.', 'New Delhi: AAP candidates were leading in four wards as the counting for municipal bypolls began on Wednesday morning, election officials said.\\nThe AAP candidates were leading in Shalimar Bagh North, Kalyanpuri, Trilokpuri and Rohini- C wards.\\n\\nThe Congress candidate was leading in Chauhan Bangar.\\n\\nMore than 50 per cent votes were cast in the bypolls for the five municipal wards held on February 28.', 'Some 237 million doses of AstraZeneca’s COVID-19 vaccine are expected to be delivered to 142 countries by the end of May through the COVAX facility, the head of the World Health Organization (WHO) said on Tuesday.\\n\\nTedros Adhanom Ghebreyesus, WHO director-general, told a news conference that vaccine deliveries were planned on Tuesday to Angola, Cambodia, the Democratic Republic of Congo and Nigeria.\\n\\nGhana’s president Nana Akufo-Addo said his West African country, which has begun its innoculation campaign with COVAX doses, aimed to vaccinate 20 million people by the end of 2021.', 'The Centre on Tuesday permitted all private hospitals to give Covid-19 vaccine if they adhere to the laid down norms and also asked the states and union territories to utilise the optimum capacity of private medical facilities empanelled under three categories.\\n\\nThe states and Union territories were also urged not to store, reserve, conserve or create a buffer stock of the COVID-19 vaccines, the Union Health ministry said in a statement, a day after the start of the second phase of India’s inoculation drive in which the coverage has been expanded to include everyone above 60 and those over 45 with specified co-morbidities.', '\\nAdhir Ranjan Chowdhury is the Congress\\'s president in West Bengal\\n\\n\\n8\\nKolkata: Congressmen who are accusing the party of breaching secularism are those who \"have already extracted their own pound of flesh,\" said the party\\'s angry Bengal chief in an interview to NDTV on Tuesday.\\nAdhir Ranjan Chowdhury, who is the Congress president in Bengal, offered this unflattering appraisal in response to allegations that the party, by allying with a powerful Muslim cleric in Bengal, has abandoned its long-held commitment to secularism. That charge has been levelled by Anand Sharma, former union minister, who is a member of what has been nicknamed the \"G-23 club\", a group of 23 Congress leaders who hold the party\\'s leadership, in particular the Gandhis, of inaccessible and inconsistent direction.', 'West Bengal Assembly Elections Opinion Poll: Mamata Banerjee is set to return as the chief minister for the third consecutive term with a comfortable majority of 157 seats, 9 more than what is required to form the government in the 294-member Assembly of West Bengal. The Bharatiya Janata Party (BJP), on the other hand, will increase its tally by about 100 seats but would still fall short of majority, according to an opinion poll conducted by Times Now-C Voter.\\n\\nThe Trinamool Congress is predicted to get 42.2 per cent vote share and 157 seats, 57 less than what it had got in 2016. The BJP, the key challenger to TMC, is expected to get 37.5 per cent vote share and 107 seats, up by 104 seats from 2016, when it had got just 3. In the previous assembly elections, the saffron party’s vote share was just 10.16 per cent whereas the TMC had the largest vote share of nearly 45 per cent (44.91 to be precise).', 'Last week, Lenovo released the first teaser of the upcoming Lenovo Legion gaming smartphone. The teaser revealed that the handset will come equipped with a dual turbo cooling system for heat dissipation. A new Lenovo smartphone with model number L70081 powered by a flagship chipset has appeared on the Geekbench benchmarking platform (via. Abhishek Yadav). It seems that the L70081 could be the next-generation gaming smartphone from Lenovo. It is yet to be confirmed whether it will be launching as the Legion Pro 2 or Legion 2 Pro.\\n\\nThe Lenovo L70081’s Geekbench listing shows that it is driven by the “lahaina’ codenamed Qualcomm chipset that has a base frequency of 1.80GHz. The codename is associated with the Snapdragon 888 mobile platform.', \"Earlier today, OnePlus announced the date of its announcement of its next flagship smartphones, the 9 series, and that's March 23. The company also made its partnership with Hasselblad official, and a few hours later we have the first official teaser of the OnePlus 9 Pro posted on Twitter by OnePlus itself. You can see it below, the money shot is at the end when we catch a glimpse of what is essentially the top half of the back of the 9 Pro.\", 'A 170-kilometre ring road will be built around Pune at an estimated cost of Rs 26,000 crore as a large number of passenger and goods transport from different parts of the state move through the city, Maharashtra Deputy Chief Minister Ajit Pawar said on Monday while tabling the Budget for 2021-22 in the Assembly.\\n\\nLand acquisition for the project will begin this year, he added.\\n\\nA large number of passenger and goods vehicles from Konkan, Marathwada, north Maharashtra and other par ..\\n\\nRead more at:\\nhttps://economictimes.indiatimes.com/news/economy/infrastructure/maharashtra-budget-170-km-ring-road-planned-for-pune-at-rs-26000-crore/articleshow/81395853.cms?utm_source=contentofinterest&utm_medium=text&utm_campaign=cppst']\n",
      "['delhi mcd election results 2021 live updates: the aam aadmi party (aap) put on a good show in the five bye-elections to the municipal corporation of delhi on wednesday, winning four seats including kalyanpuri, rohini-c, shalimar bagh (north), and trilokpuri. the congress, on the other hand, won the chauhan banger ward. voting was held in two wards — rohini-c and shalimar bagh (north) — in the north delhi municipal corporation (ndmc), and three wards — trilokpuri, kalyanpuri and chauhan banger — in the east delhi municipal corporation (edmc) last sunday. while shalimar bagh (north) is reserved for women, trilokpuri and kalyanpuri are reserved for the scheduled caste (sc) category. the voter turnout recorded was 50.86 per cent.', 'the ruling aam aadmi party bagged four seats in municipal corporations of delhi (mcd) bypolls on tuesday. following the sweeping victory, the aap convener and delhi chief minister, arvind kejriwal took to twitter congratulate on the win. \"the people of delhi once again voted in the name of work. congratulations to everyone. the 15-year-old bjp\\'s misrule in mcd has disturbed the people. people are now eager to form aam aadmi party government in mcd also,\" he wrote on twitter. delhi deputy chief minister manish sisodia also congratulated the party workers on the micro-blogging site. \"congratulations to the aam aadmi party workers on winning 4 out of 5 seats in the mcd by-election. in the municipal elections next year, people in delhi will bring to power the aap for its excellent governance model under arvind kejriwal,\" the aap leader said. the aap won rohini-c (ward no 32n), trilokpuri (ward no 02e), kalyanpuri (ward 008-e) and shalimar bagh north (ward no 62n); whille congress\\' zubair ahmad chaudhary bagged chauhan banger by 10,642 votes.', 'new delhi: aap candidates were leading in four wards as the counting for municipal bypolls began on wednesday morning, election officials said. the aap candidates were leading in shalimar bagh north, kalyanpuri, trilokpuri and rohini- c wards. the congress candidate was leading in chauhan bangar. more than 50 per cent votes were cast in the bypolls for the five municipal wards held on february 28.', 'some 237 million doses of astrazeneca’s covid-19 vaccine are expected to be delivered to 142 countries by the end of may through the covax facility, the head of the world health organization (who) said on tuesday. tedros adhanom ghebreyesus, who director-general, told a news conference that vaccine deliveries were planned on tuesday to angola, cambodia, the democratic republic of congo and nigeria. ghana’s president nana akufo-addo said his west african country, which has begun its innoculation campaign with covax doses, aimed to vaccinate 20 million people by the end of 2021.', 'the centre on tuesday permitted all private hospitals to give covid-19 vaccine if they adhere to the laid down norms and also asked the states and union territories to utilise the optimum capacity of private medical facilities empanelled under three categories. the states and union territories were also urged not to store, reserve, conserve or create a buffer stock of the covid-19 vaccines, the union health ministry said in a statement, a day after the start of the second phase of india’s inoculation drive in which the coverage has been expanded to include everyone above 60 and those over 45 with specified co-morbidities.', 'adhir ranjan chowdhury is the congress\\'s president in west bengal 8 kolkata: congressmen who are accusing the party of breaching secularism are those who \"have already extracted their own pound of flesh,\" said the party\\'s angry bengal chief in an interview to ndtv on tuesday. adhir ranjan chowdhury, who is the congress president in bengal, offered this unflattering appraisal in response to allegations that the party, by allying with a powerful muslim cleric in bengal, has abandoned its long-held commitment to secularism. that charge has been levelled by anand sharma, former union minister, who is a member of what has been nicknamed the \"g-23 club\", a group of 23 congress leaders who hold the party\\'s leadership, in particular the gandhis, of inaccessible and inconsistent direction.', 'west bengal assembly elections opinion poll: mamata banerjee is set to return as the chief minister for the third consecutive term with a comfortable majority of 157 seats, 9 more than what is required to form the government in the 294-member assembly of west bengal. the bharatiya janata party (bjp), on the other hand, will increase its tally by about 100 seats but would still fall short of majority, according to an opinion poll conducted by times now-c voter. the trinamool congress is predicted to get 42.2 per cent vote share and 157 seats, 57 less than what it had got in 2016. the bjp, the key challenger to tmc, is expected to get 37.5 per cent vote share and 107 seats, up by 104 seats from 2016, when it had got just 3. in the previous assembly elections, the saffron party’s vote share was just 10.16 per cent whereas the tmc had the largest vote share of nearly 45 per cent (44.91 to be precise).', 'last week, lenovo released the first teaser of the upcoming lenovo legion gaming smartphone. the teaser revealed that the handset will come equipped with a dual turbo cooling system for heat dissipation. a new lenovo smartphone with model number l70081 powered by a flagship chipset has appeared on the geekbench benchmarking platform (via. abhishek yadav). it seems that the l70081 could be the next-generation gaming smartphone from lenovo. it is yet to be confirmed whether it will be launching as the legion pro 2 or legion 2 pro. the lenovo l70081’s geekbench listing shows that it is driven by the “lahaina’ codenamed qualcomm chipset that has a base frequency of 1.80ghz. the codename is associated with the snapdragon 888 mobile platform.', \"earlier today, oneplus announced the date of its announcement of its next flagship smartphones, the 9 series, and that's march 23. the company also made its partnership with hasselblad official, and a few hours later we have the first official teaser of the oneplus 9 pro posted on twitter by oneplus itself. you can see it below, the money shot is at the end when we catch a glimpse of what is essentially the top half of the back of the 9 pro.\", 'a 170-kilometre ring road will be built around pune at an estimated cost of rs 26,000 crore as a large number of passenger and goods transport from different parts of the state move through the city, maharashtra deputy chief minister ajit pawar said on monday while tabling the budget for 2021-22 in the assembly. land acquisition for the project will begin this year, he added. a large number of passenger and goods vehicles from konkan, marathwada, north maharashtra and other par .. read more at: https://economictimes.indiatimes.com/news/economy/infrastructure/maharashtra-budget-170-km-ring-road-planned-for-pune-at-rs-26000-crore/articleshow/81395853.cms?utm_source=contentofinterest&utm_medium=text&utm_campaign=cppst']\n"
     ]
    }
   ],
   "source": [
    "# Normalization\n",
    "corpus = contents\n",
    "lower_corpus=[]\n",
    "print(corpus)\n",
    "for i in range(len(corpus)):\n",
    "  lower_corpus.append(' '.join([word.lower() for word in corpus[i].split()]))\n",
    "print(lower_corpus)"
   ]
  },
  {
   "cell_type": "code",
   "execution_count": 202,
   "metadata": {
    "colab": {
     "base_uri": "https://localhost:8080/",
     "height": 0
    },
    "id": "BIvB7Nqm3E3H",
    "outputId": "74c44e26-cb95-4563-8474-5f3b0d1aa74f"
   },
   "outputs": [
    {
     "name": "stdout",
     "output_type": "stream",
     "text": [
      "[['delhi', 'mcd', 'election', 'results', 'live', 'updates', 'the', 'aam', 'aadmi', 'party', 'aap', 'put', 'on', 'a', 'good', 'show', 'in', 'the', 'five', 'to', 'the', 'municipal', 'corporation', 'of', 'delhi', 'on', 'wednesday', 'winning', 'four', 'seats', 'including', 'kalyanpuri', 'shalimar', 'bagh', 'north', 'and', 'trilokpuri', 'the', 'congress', 'on', 'the', 'other', 'hand', 'won', 'the', 'chauhan', 'banger', 'ward', 'voting', 'was', 'held', 'in', 'two', 'wards', 'and', 'shalimar', 'bagh', 'north', 'in', 'the', 'north', 'delhi', 'municipal', 'corporation', 'ndmc', 'and', 'three', 'wards', 'trilokpuri', 'kalyanpuri', 'and', 'chauhan', 'banger', 'in', 'the', 'east', 'delhi', 'municipal', 'corporation', 'edmc', 'last', 'sunday', 'while', 'shalimar', 'bagh', 'north', 'is', 'reserved', 'for', 'women', 'trilokpuri', 'and', 'kalyanpuri', 'are', 'reserved', 'for', 'the', 'scheduled', 'caste', 'sc', 'category', 'the', 'voter', 'turnout', 'recorded', 'was', 'per', 'cent'], ['the', 'ruling', 'aam', 'aadmi', 'party', 'bagged', 'four', 'seats', 'in', 'municipal', 'corporations', 'of', 'delhi', 'mcd', 'bypolls', 'on', 'tuesday', 'following', 'the', 'sweeping', 'victory', 'the', 'aap', 'convener', 'and', 'delhi', 'chief', 'minister', 'arvind', 'kejriwal', 'took', 'to', 'twitter', 'congratulate', 'on', 'the', 'win', 'the', 'people', 'of', 'delhi', 'once', 'again', 'voted', 'in', 'the', 'name', 'of', 'work', 'congratulations', 'to', 'everyone', 'the', 'bjp', 'misrule', 'in', 'mcd', 'has', 'disturbed', 'the', 'people', 'people', 'are', 'now', 'eager', 'to', 'form', 'aam', 'aadmi', 'party', 'government', 'in', 'mcd', 'also', 'he', 'wrote', 'on', 'twitter', 'delhi', 'deputy', 'chief', 'minister', 'manish', 'sisodia', 'also', 'congratulated', 'the', 'party', 'workers', 'on', 'the', 'site', 'congratulations', 'to', 'the', 'aam', 'aadmi', 'party', 'workers', 'on', 'winning', 'out', 'of', 'seats', 'in', 'the', 'mcd', 'in', 'the', 'municipal', 'elections', 'next', 'year', 'people', 'in', 'delhi', 'will', 'bring', 'to', 'power', 'the', 'aap', 'for', 'its', 'excellent', 'governance', 'model', 'under', 'arvind', 'kejriwal', 'the', 'aap', 'leader', 'said', 'the', 'aap', 'won', 'ward', 'no', 'trilokpuri', 'ward', 'no', 'kalyanpuri', 'ward', 'and', 'shalimar', 'bagh', 'north', 'ward', 'no', 'whille', 'congress', 'zubair', 'ahmad', 'chaudhary', 'bagged', 'chauhan', 'banger', 'by', 'votes'], ['new', 'delhi', 'aap', 'candidates', 'were', 'leading', 'in', 'four', 'wards', 'as', 'the', 'counting', 'for', 'municipal', 'bypolls', 'began', 'on', 'wednesday', 'morning', 'election', 'officials', 'said', 'the', 'aap', 'candidates', 'were', 'leading', 'in', 'shalimar', 'bagh', 'north', 'kalyanpuri', 'trilokpuri', 'and', 'c', 'wards', 'the', 'congress', 'candidate', 'was', 'leading', 'in', 'chauhan', 'bangar', 'more', 'than', 'per', 'cent', 'votes', 'were', 'cast', 'in', 'the', 'bypolls', 'for', 'the', 'five', 'municipal', 'wards', 'held', 'on', 'february'], ['some', 'million', 'doses', 'of', 'astrazeneca', 's', 'vaccine', 'are', 'expected', 'to', 'be', 'delivered', 'to', 'countries', 'by', 'the', 'end', 'of', 'may', 'through', 'the', 'covax', 'facility', 'the', 'head', 'of', 'the', 'world', 'health', 'organization', 'who', 'said', 'on', 'tuesday', 'tedros', 'adhanom', 'ghebreyesus', 'who', 'told', 'a', 'news', 'conference', 'that', 'vaccine', 'deliveries', 'were', 'planned', 'on', 'tuesday', 'to', 'angola', 'cambodia', 'the', 'democratic', 'republic', 'of', 'congo', 'and', 'nigeria', 'ghana', 's', 'president', 'nana', 'said', 'his', 'west', 'african', 'country', 'which', 'has', 'begun', 'its', 'innoculation', 'campaign', 'with', 'covax', 'doses', 'aimed', 'to', 'vaccinate', 'million', 'people', 'by', 'the', 'end', 'of'], ['the', 'centre', 'on', 'tuesday', 'permitted', 'all', 'private', 'hospitals', 'to', 'give', 'vaccine', 'if', 'they', 'adhere', 'to', 'the', 'laid', 'down', 'norms', 'and', 'also', 'asked', 'the', 'states', 'and', 'union', 'territories', 'to', 'utilise', 'the', 'optimum', 'capacity', 'of', 'private', 'medical', 'facilities', 'empanelled', 'under', 'three', 'categories', 'the', 'states', 'and', 'union', 'territories', 'were', 'also', 'urged', 'not', 'to', 'store', 'reserve', 'conserve', 'or', 'create', 'a', 'buffer', 'stock', 'of', 'the', 'vaccines', 'the', 'union', 'health', 'ministry', 'said', 'in', 'a', 'statement', 'a', 'day', 'after', 'the', 'start', 'of', 'the', 'second', 'phase', 'of', 'india', 's', 'inoculation', 'drive', 'in', 'which', 'the', 'coverage', 'has', 'been', 'expanded', 'to', 'include', 'everyone', 'above', 'and', 'those', 'over', 'with', 'specified'], ['adhir', 'ranjan', 'chowdhury', 'is', 'the', 'congress', 'president', 'in', 'west', 'bengal', 'kolkata', 'congressmen', 'who', 'are', 'accusing', 'the', 'party', 'of', 'breaching', 'secularism', 'are', 'those', 'who', 'have', 'already', 'extracted', 'their', 'own', 'pound', 'of', 'flesh', 'said', 'the', 'party', 'angry', 'bengal', 'chief', 'in', 'an', 'interview', 'to', 'ndtv', 'on', 'tuesday', 'adhir', 'ranjan', 'chowdhury', 'who', 'is', 'the', 'congress', 'president', 'in', 'bengal', 'offered', 'this', 'unflattering', 'appraisal', 'in', 'response', 'to', 'allegations', 'that', 'the', 'party', 'by', 'allying', 'with', 'a', 'powerful', 'muslim', 'cleric', 'in', 'bengal', 'has', 'abandoned', 'its', 'commitment', 'to', 'secularism', 'that', 'charge', 'has', 'been', 'levelled', 'by', 'anand', 'sharma', 'former', 'union', 'minister', 'who', 'is', 'a', 'member', 'of', 'what', 'has', 'been', 'nicknamed', 'the', 'club', 'a', 'group', 'of', 'congress', 'leaders', 'who', 'hold', 'the', 'party', 'leadership', 'in', 'particular', 'the', 'gandhis', 'of', 'inaccessible', 'and', 'inconsistent', 'direction'], ['west', 'bengal', 'assembly', 'elections', 'opinion', 'poll', 'mamata', 'banerjee', 'is', 'set', 'to', 'return', 'as', 'the', 'chief', 'minister', 'for', 'the', 'third', 'consecutive', 'term', 'with', 'a', 'comfortable', 'majority', 'of', 'seats', 'more', 'than', 'what', 'is', 'required', 'to', 'form', 'the', 'government', 'in', 'the', 'assembly', 'of', 'west', 'bengal', 'the', 'bharatiya', 'janata', 'party', 'bjp', 'on', 'the', 'other', 'hand', 'will', 'increase', 'its', 'tally', 'by', 'about', 'seats', 'but', 'would', 'still', 'fall', 'short', 'of', 'majority', 'according', 'to', 'an', 'opinion', 'poll', 'conducted', 'by', 'times', 'voter', 'the', 'trinamool', 'congress', 'is', 'predicted', 'to', 'get', 'per', 'cent', 'vote', 'share', 'and', 'seats', 'less', 'than', 'what', 'it', 'had', 'got', 'in', 'the', 'bjp', 'the', 'key', 'challenger', 'to', 'tmc', 'is', 'expected', 'to', 'get', 'per', 'cent', 'vote', 'share', 'and', 'seats', 'up', 'by', 'seats', 'from', 'when', 'it', 'had', 'got', 'just', 'in', 'the', 'previous', 'assembly', 'elections', 'the', 'saffron', 'party', 's', 'vote', 'share', 'was', 'just', 'per', 'cent', 'whereas', 'the', 'tmc', 'had', 'the', 'largest', 'vote', 'share', 'of', 'nearly', 'per', 'cent', 'to', 'be', 'precise'], ['last', 'week', 'lenovo', 'released', 'the', 'first', 'teaser', 'of', 'the', 'upcoming', 'lenovo', 'legion', 'gaming', 'smartphone', 'the', 'teaser', 'revealed', 'that', 'the', 'handset', 'will', 'come', 'equipped', 'with', 'a', 'dual', 'turbo', 'cooling', 'system', 'for', 'heat', 'dissipation', 'a', 'new', 'lenovo', 'smartphone', 'with', 'model', 'number', 'powered', 'by', 'a', 'flagship', 'chipset', 'has', 'appeared', 'on', 'the', 'geekbench', 'benchmarking', 'platform', 'via', 'abhishek', 'yadav', 'it', 'seems', 'that', 'the', 'could', 'be', 'the', 'gaming', 'smartphone', 'from', 'lenovo', 'it', 'is', 'yet', 'to', 'be', 'confirmed', 'whether', 'it', 'will', 'be', 'launching', 'as', 'the', 'legion', 'pro', 'or', 'legion', 'pro', 'the', 'lenovo', 's', 'geekbench', 'listing', 'shows', 'that', 'it', 'is', 'driven', 'by', 'the', 'lahaina', 'codenamed', 'qualcomm', 'chipset', 'that', 'has', 'a', 'base', 'frequency', 'of', 'the', 'codename', 'is', 'associated', 'with', 'the', 'snapdragon', 'mobile', 'platform'], ['earlier', 'today', 'oneplus', 'announced', 'the', 'date', 'of', 'its', 'announcement', 'of', 'its', 'next', 'flagship', 'smartphones', 'the', 'series', 'and', 'that', 'march', 'the', 'company', 'also', 'made', 'its', 'partnership', 'with', 'hasselblad', 'official', 'and', 'a', 'few', 'hours', 'later', 'we', 'have', 'the', 'first', 'official', 'teaser', 'of', 'the', 'oneplus', 'pro', 'posted', 'on', 'twitter', 'by', 'oneplus', 'itself', 'you', 'can', 'see', 'it', 'below', 'the', 'money', 'shot', 'is', 'at', 'the', 'end', 'when', 'we', 'catch', 'a', 'glimpse', 'of', 'what', 'is', 'essentially', 'the', 'top', 'half', 'of', 'the', 'back', 'of', 'the', 'pro'], ['a', 'ring', 'road', 'will', 'be', 'built', 'around', 'pune', 'at', 'an', 'estimated', 'cost', 'of', 'rs', 'crore', 'as', 'a', 'large', 'number', 'of', 'passenger', 'and', 'goods', 'transport', 'from', 'different', 'parts', 'of', 'the', 'state', 'move', 'through', 'the', 'city', 'maharashtra', 'deputy', 'chief', 'minister', 'ajit', 'pawar', 'said', 'on', 'monday', 'while', 'tabling', 'the', 'budget', 'for', 'in', 'the', 'assembly', 'land', 'acquisition', 'for', 'the', 'project', 'will', 'begin', 'this', 'year', 'he', 'added', 'a', 'large', 'number', 'of', 'passenger', 'and', 'goods', 'vehicles', 'from', 'konkan', 'marathwada', 'north', 'maharashtra', 'and', 'other', 'par', 'read', 'more', 'at', 'https']]\n"
     ]
    }
   ],
   "source": [
    "# tokenization\n",
    "from nltk.tokenize import word_tokenize\n",
    "tokenized_corpus=[]\n",
    "for i in range(len(lower_corpus)):\n",
    "  tokenized_corpus.append([word for word in word_tokenize(lower_corpus[i]) if word.isalpha()] )\n",
    "print(tokenized_corpus)"
   ]
  },
  {
   "cell_type": "code",
   "execution_count": 203,
   "metadata": {
    "colab": {
     "base_uri": "https://localhost:8080/",
     "height": 0
    },
    "id": "Txc5Ox_Df-mh",
    "outputId": "76dd6485-1f71-4a37-fec9-3d4019f98e87"
   },
   "outputs": [
    {
     "name": "stdout",
     "output_type": "stream",
     "text": [
      "[['the', 'ruling', 'aam', 'aadmi', 'party', 'bagged', 'four', 'seats', 'in', 'municipal', 'corporations', 'of', 'delhi', 'mcd', 'bypolls', 'on', 'tuesday', 'following', 'the', 'sweeping', 'victory', 'the', 'aap', 'convener', 'and', 'delhi', 'chief', 'minister', 'arvind', 'kejriwal', 'took', 'to', 'twitter', 'congratulate', 'on', 'the', 'win', 'the', 'people', 'of', 'delhi', 'once', 'again', 'voted', 'in', 'the', 'name', 'of', 'work', 'congratulations', 'to', 'everyone', 'the', 'year', 'old', 'bjp', 's', 'misrule', 'in', 'mcd', 'has', 'disturbed', 'the', 'people', 'people', 'are', 'now', 'eager', 'to', 'form', 'aam', 'aadmi', 'party', 'government', 'in', 'mcd', 'also', 'he', 'wrote', 'on', 'twitter', 'delhi', 'deputy', 'chief', 'minister', 'manish', 'sisodia', 'also', 'congratulated', 'the', 'party', 'workers', 'on', 'the', 'micro', 'blogging', 'site', 'congratulations', 'to', 'the', 'aam', 'aadmi', 'party', 'workers', 'on', 'winning', 'out', 'of', 'seats', 'in', 'the', 'mcd', 'by', 'election', 'in', 'the', 'municipal', 'elections', 'next', 'year', 'people', 'in', 'delhi', 'will', 'bring', 'to', 'power', 'the', 'aap', 'for', 'its', 'excellent', 'governance', 'model', 'under', 'arvind', 'kejriwal', 'the', 'aap', 'leader', 'said', 'the', 'aap', 'won', 'rohini', 'c', 'ward', 'no', 'trilokpuri', 'ward', 'no', 'kalyanpuri', 'ward', 'e', 'and', 'shalimar', 'bagh', 'north', 'ward', 'no', 'whille', 'congress', 'zubair', 'ahmad', 'chaudhary', 'bagged', 'chauhan', 'banger', 'by', 'votes'], ['adhir', 'ranjan', 'chowdhury', 'is', 'the', 'congress', 's', 'president', 'in', 'west', 'bengal', 'kolkata', 'congressmen', 'who', 'are', 'accusing', 'the', 'party', 'of', 'breaching', 'secularism', 'are', 'those', 'who', 'have', 'already', 'extracted', 'their', 'own', 'pound', 'of', 'flesh', 'said', 'the', 'party', 's', 'angry', 'bengal', 'chief', 'in', 'an', 'interview', 'to', 'ndtv', 'on', 'tuesday', 'adhir', 'ranjan', 'chowdhury', 'who', 'is', 'the', 'congress', 'president', 'in', 'bengal', 'offered', 'this', 'unflattering', 'appraisal', 'in', 'response', 'to', 'allegations', 'that', 'the', 'party', 'by', 'allying', 'with', 'a', 'powerful', 'muslim', 'cleric', 'in', 'bengal', 'has', 'abandoned', 'its', 'long', 'held', 'commitment', 'to', 'secularism', 'that', 'charge', 'has', 'been', 'levelled', 'by', 'anand', 'sharma', 'former', 'union', 'minister', 'who', 'is', 'a', 'member', 'of', 'what', 'has', 'been', 'nicknamed', 'the', 'g', 'club', 'a', 'group', 'of', 'congress', 'leaders', 'who', 'hold', 'the', 'party', 's', 'leadership', 'in', 'particular', 'the', 'gandhis', 'of', 'inaccessible', 'and', 'inconsistent', 'direction'], ['new', 'delhi', 'aap', 'candidates', 'were', 'leading', 'in', 'four', 'wards', 'as', 'the', 'counting', 'for', 'municipal', 'bypolls', 'began', 'on', 'wednesday', 'morning', 'election', 'officials', 'said', 'the', 'aap', 'candidates', 'were', 'leading', 'in', 'shalimar', 'bagh', 'north', 'kalyanpuri', 'trilokpuri', 'and', 'rohini', 'c', 'wards', 'the', 'congress', 'candidate', 'was', 'leading', 'in', 'chauhan', 'bangar', 'more', 'than', 'per', 'cent', 'votes', 'were', 'cast', 'in', 'the', 'bypolls', 'for', 'the', 'five', 'municipal', 'wards', 'held', 'on', 'february'], ['delhi', 'mcd', 'election', 'results', 'live', 'updates', 'the', 'aam', 'aadmi', 'party', 'aap', 'put', 'on', 'a', 'good', 'show', 'in', 'the', 'five', 'bye', 'elections', 'to', 'the', 'municipal', 'corporation', 'of', 'delhi', 'on', 'wednesday', 'winning', 'four', 'seats', 'including', 'kalyanpuri', 'rohini', 'c', 'shalimar', 'bagh', 'north', 'and', 'trilokpuri', 'the', 'congress', 'on', 'the', 'other', 'hand', 'won', 'the', 'chauhan', 'banger', 'ward', 'voting', 'was', 'held', 'in', 'two', 'wards', 'rohini', 'c', 'and', 'shalimar', 'bagh', 'north', 'in', 'the', 'north', 'delhi', 'municipal', 'corporation', 'ndmc', 'and', 'three', 'wards', 'trilokpuri', 'kalyanpuri', 'and', 'chauhan', 'banger', 'in', 'the', 'east', 'delhi', 'municipal', 'corporation', 'edmc', 'last', 'sunday', 'while', 'shalimar', 'bagh', 'north', 'is', 'reserved', 'for', 'women', 'trilokpuri', 'and', 'kalyanpuri', 'are', 'reserved', 'for', 'the', 'scheduled', 'caste', 'sc', 'category', 'the', 'voter', 'turnout', 'recorded', 'was', 'per', 'cent'], ['the', 'centre', 'on', 'tuesday', 'permitted', 'all', 'private', 'hospitals', 'to', 'give', 'covid', 'vaccine', 'if', 'they', 'adhere', 'to', 'the', 'laid', 'down', 'norms', 'and', 'also', 'asked', 'the', 'states', 'and', 'union', 'territories', 'to', 'utilise', 'the', 'optimum', 'capacity', 'of', 'private', 'medical', 'facilities', 'empanelled', 'under', 'three', 'categories', 'the', 'states', 'and', 'union', 'territories', 'were', 'also', 'urged', 'not', 'to', 'store', 'reserve', 'conserve', 'or', 'create', 'a', 'buffer', 'stock', 'of', 'the', 'covid', 'vaccines', 'the', 'union', 'health', 'ministry', 'said', 'in', 'a', 'statement', 'a', 'day', 'after', 'the', 'start', 'of', 'the', 'second', 'phase', 'of', 'india', 's', 'inoculation', 'drive', 'in', 'which', 'the', 'coverage', 'has', 'been', 'expanded', 'to', 'include', 'everyone', 'above', 'and', 'those', 'over', 'with', 'specified', 'co', 'morbidities'], ['last', 'week', 'lenovo', 'released', 'the', 'first', 'teaser', 'of', 'the', 'upcoming', 'lenovo', 'legion', 'gaming', 'smartphone', 'the', 'teaser', 'revealed', 'that', 'the', 'handset', 'will', 'come', 'equipped', 'with', 'a', 'dual', 'turbo', 'cooling', 'system', 'for', 'heat', 'dissipation', 'a', 'new', 'lenovo', 'smartphone', 'with', 'model', 'number', 'powered', 'by', 'a', 'flagship', 'chipset', 'has', 'appeared', 'on', 'the', 'geekbench', 'benchmarking', 'platform', 'via', 'abhishek', 'yadav', 'it', 'seems', 'that', 'the', 'could', 'be', 'the', 'next', 'generation', 'gaming', 'smartphone', 'from', 'lenovo', 'it', 'is', 'yet', 'to', 'be', 'confirmed', 'whether', 'it', 'will', 'be', 'launching', 'as', 'the', 'legion', 'pro', 'or', 'legion', 'pro', 'the', 'lenovo', 's', 'geekbench', 'listing', 'shows', 'that', 'it', 'is', 'driven', 'by', 'the', 'lahaina', 'codenamed', 'qualcomm', 'chipset', 'that', 'has', 'a', 'base', 'frequency', 'of', 'the', 'codename', 'is', 'associated', 'with', 'the', 'snapdragon', 'mobile', 'platform'], ['a', 'kilometre', 'ring', 'road', 'will', 'be', 'built', 'around', 'pune', 'at', 'an', 'estimated', 'cost', 'of', 'rs', 'crore', 'as', 'a', 'large', 'number', 'of', 'passenger', 'and', 'goods', 'transport', 'from', 'different', 'parts', 'of', 'the', 'state', 'move', 'through', 'the', 'city', 'maharashtra', 'deputy', 'chief', 'minister', 'ajit', 'pawar', 'said', 'on', 'monday', 'while', 'tabling', 'the', 'budget', 'for', 'in', 'the', 'assembly', 'land', 'acquisition', 'for', 'the', 'project', 'will', 'begin', 'this', 'year', 'he', 'added', 'a', 'large', 'number', 'of', 'passenger', 'and', 'goods', 'vehicles', 'from', 'konkan', 'marathwada', 'north', 'maharashtra', 'and', 'other', 'par', 'read', 'more', 'at', 'https', 'economictimes', 'indiatimes', 'com', 'news', 'economy', 'infrastructure', 'maharashtra', 'budget', 'km', 'ring', 'road', 'planned', 'for', 'pune', 'at', 'rs', 'crore', 'articleshow', 'cms', 'contentofinterest', 'text', 'cppst'], ['earlier', 'today', 'oneplus', 'announced', 'the', 'date', 'of', 'its', 'announcement', 'of', 'its', 'next', 'flagship', 'smartphones', 'the', 'series', 'and', 'that', 's', 'march', 'the', 'company', 'also', 'made', 'its', 'partnership', 'with', 'hasselblad', 'official', 'and', 'a', 'few', 'hours', 'later', 'we', 'have', 'the', 'first', 'official', 'teaser', 'of', 'the', 'oneplus', 'pro', 'posted', 'on', 'twitter', 'by', 'oneplus', 'itself', 'you', 'can', 'see', 'it', 'below', 'the', 'money', 'shot', 'is', 'at', 'the', 'end', 'when', 'we', 'catch', 'a', 'glimpse', 'of', 'what', 'is', 'essentially', 'the', 'top', 'half', 'of', 'the', 'back', 'of', 'the', 'pro'], ['some', 'million', 'doses', 'of', 'astrazeneca', 's', 'covid', 'vaccine', 'are', 'expected', 'to', 'be', 'delivered', 'to', 'countries', 'by', 'the', 'end', 'of', 'may', 'through', 'the', 'covax', 'facility', 'the', 'head', 'of', 'the', 'world', 'health', 'organization', 'who', 'said', 'on', 'tuesday', 'tedros', 'adhanom', 'ghebreyesus', 'who', 'director', 'general', 'told', 'a', 'news', 'conference', 'that', 'vaccine', 'deliveries', 'were', 'planned', 'on', 'tuesday', 'to', 'angola', 'cambodia', 'the', 'democratic', 'republic', 'of', 'congo', 'and', 'nigeria', 'ghana', 's', 'president', 'nana', 'akufo', 'addo', 'said', 'his', 'west', 'african', 'country', 'which', 'has', 'begun', 'its', 'innoculation', 'campaign', 'with', 'covax', 'doses', 'aimed', 'to', 'vaccinate', 'million', 'people', 'by', 'the', 'end', 'of'], ['west', 'bengal', 'assembly', 'elections', 'opinion', 'poll', 'mamata', 'banerjee', 'is', 'set', 'to', 'return', 'as', 'the', 'chief', 'minister', 'for', 'the', 'third', 'consecutive', 'term', 'with', 'a', 'comfortable', 'majority', 'of', 'seats', 'more', 'than', 'what', 'is', 'required', 'to', 'form', 'the', 'government', 'in', 'the', 'member', 'assembly', 'of', 'west', 'bengal', 'the', 'bharatiya', 'janata', 'party', 'bjp', 'on', 'the', 'other', 'hand', 'will', 'increase', 'its', 'tally', 'by', 'about', 'seats', 'but', 'would', 'still', 'fall', 'short', 'of', 'majority', 'according', 'to', 'an', 'opinion', 'poll', 'conducted', 'by', 'times', 'now', 'c', 'voter', 'the', 'trinamool', 'congress', 'is', 'predicted', 'to', 'get', 'per', 'cent', 'vote', 'share', 'and', 'seats', 'less', 'than', 'what', 'it', 'had', 'got', 'in', 'the', 'bjp', 'the', 'key', 'challenger', 'to', 'tmc', 'is', 'expected', 'to', 'get', 'per', 'cent', 'vote', 'share', 'and', 'seats', 'up', 'by', 'seats', 'from', 'when', 'it', 'had', 'got', 'just', 'in', 'the', 'previous', 'assembly', 'elections', 'the', 'saffron', 'party', 's', 'vote', 'share', 'was', 'just', 'per', 'cent', 'whereas', 'the', 'tmc', 'had', 'the', 'largest', 'vote', 'share', 'of', 'nearly', 'per', 'cent', 'to', 'be', 'precise']]\n"
     ]
    }
   ],
   "source": [
    "# Normalization and Tokenization using PlaintextCorpusReader .words()\n",
    "tokenized_corpus2=[]\n",
    "for i in range(len(dataset.fileids())):\n",
    "  tokenized_corpus2.append([word.lower() for word in dataset.words(dataset.fileids()[i]) if word.isalpha()])\n",
    "print(tokenized_corpus2)"
   ]
  },
  {
   "cell_type": "code",
   "execution_count": 204,
   "metadata": {
    "colab": {
     "base_uri": "https://localhost:8080/",
     "height": 0
    },
    "id": "IFpt5G5egUc2",
    "outputId": "ca0c733b-eca9-4357-b4f6-7ec5cccdb7d3"
   },
   "outputs": [
    {
     "name": "stdout",
     "output_type": "stream",
     "text": [
      "[['delhi', 'mcd', 'election', 'results', 'live', 'updates', 'aam', 'aadmi', 'party', 'aap', 'put', 'good', 'show', 'five', 'municipal', 'corporation', 'delhi', 'wednesday', 'winning', 'four', 'seats', 'including', 'kalyanpuri', 'shalimar', 'bagh', 'north', 'trilokpuri', 'congress', 'hand', 'chauhan', 'banger', 'ward', 'voting', 'held', 'two', 'wards', 'shalimar', 'bagh', 'north', 'north', 'delhi', 'municipal', 'corporation', 'ndmc', 'three', 'wards', 'trilokpuri', 'kalyanpuri', 'chauhan', 'banger', 'east', 'delhi', 'municipal', 'corporation', 'edmc', 'last', 'sunday', 'shalimar', 'bagh', 'north', 'reserved', 'women', 'trilokpuri', 'kalyanpuri', 'reserved', 'scheduled', 'caste', 'sc', 'category', 'voter', 'turnout', 'recorded', 'per', 'cent'], ['ruling', 'aam', 'aadmi', 'party', 'bagged', 'four', 'seats', 'municipal', 'corporations', 'delhi', 'mcd', 'bypolls', 'tuesday', 'following', 'sweeping', 'victory', 'aap', 'convener', 'delhi', 'chief', 'minister', 'arvind', 'kejriwal', 'took', 'twitter', 'congratulate', 'win', 'people', 'delhi', 'voted', 'name', 'work', 'congratulations', 'everyone', 'bjp', 'misrule', 'mcd', 'disturbed', 'people', 'people', 'eager', 'form', 'aam', 'aadmi', 'party', 'government', 'mcd', 'also', 'wrote', 'twitter', 'delhi', 'deputy', 'chief', 'minister', 'manish', 'sisodia', 'also', 'congratulated', 'party', 'workers', 'site', 'congratulations', 'aam', 'aadmi', 'party', 'workers', 'winning', 'seats', 'mcd', 'municipal', 'elections', 'next', 'year', 'people', 'delhi', 'bring', 'power', 'aap', 'excellent', 'governance', 'model', 'arvind', 'kejriwal', 'aap', 'leader', 'said', 'aap', 'ward', 'trilokpuri', 'ward', 'kalyanpuri', 'ward', 'shalimar', 'bagh', 'north', 'ward', 'whille', 'congress', 'zubair', 'ahmad', 'chaudhary', 'bagged', 'chauhan', 'banger', 'votes'], ['new', 'delhi', 'aap', 'candidates', 'leading', 'four', 'wards', 'counting', 'municipal', 'bypolls', 'began', 'wednesday', 'morning', 'election', 'officials', 'said', 'aap', 'candidates', 'leading', 'shalimar', 'bagh', 'north', 'kalyanpuri', 'trilokpuri', 'c', 'wards', 'congress', 'candidate', 'leading', 'chauhan', 'bangar', 'per', 'cent', 'votes', 'cast', 'bypolls', 'five', 'municipal', 'wards', 'held', 'february'], ['million', 'doses', 'astrazeneca', 'vaccine', 'expected', 'delivered', 'countries', 'end', 'may', 'covax', 'facility', 'head', 'world', 'health', 'organization', 'said', 'tuesday', 'tedros', 'adhanom', 'ghebreyesus', 'told', 'news', 'conference', 'vaccine', 'deliveries', 'planned', 'tuesday', 'angola', 'cambodia', 'democratic', 'republic', 'congo', 'nigeria', 'ghana', 'president', 'nana', 'said', 'west', 'african', 'country', 'begun', 'innoculation', 'campaign', 'covax', 'doses', 'aimed', 'vaccinate', 'million', 'people', 'end'], ['centre', 'tuesday', 'permitted', 'private', 'hospitals', 'give', 'vaccine', 'adhere', 'laid', 'norms', 'also', 'asked', 'states', 'union', 'territories', 'utilise', 'optimum', 'capacity', 'private', 'medical', 'facilities', 'empanelled', 'three', 'categories', 'states', 'union', 'territories', 'also', 'urged', 'store', 'reserve', 'conserve', 'create', 'buffer', 'stock', 'vaccines', 'union', 'health', 'ministry', 'said', 'statement', 'day', 'start', 'second', 'phase', 'india', 'inoculation', 'drive', 'coverage', 'expanded', 'include', 'everyone', 'specified'], ['adhir', 'ranjan', 'chowdhury', 'congress', 'president', 'west', 'bengal', 'kolkata', 'congressmen', 'accusing', 'party', 'breaching', 'secularism', 'already', 'extracted', 'pound', 'flesh', 'said', 'party', 'angry', 'bengal', 'chief', 'interview', 'ndtv', 'tuesday', 'adhir', 'ranjan', 'chowdhury', 'congress', 'president', 'bengal', 'offered', 'unflattering', 'appraisal', 'response', 'allegations', 'party', 'allying', 'powerful', 'muslim', 'cleric', 'bengal', 'abandoned', 'commitment', 'secularism', 'charge', 'levelled', 'anand', 'sharma', 'former', 'union', 'minister', 'member', 'nicknamed', 'club', 'group', 'congress', 'leaders', 'hold', 'party', 'leadership', 'particular', 'gandhis', 'inaccessible', 'inconsistent', 'direction'], ['west', 'bengal', 'assembly', 'elections', 'opinion', 'poll', 'mamata', 'banerjee', 'set', 'return', 'chief', 'minister', 'third', 'consecutive', 'term', 'comfortable', 'majority', 'seats', 'required', 'form', 'government', 'assembly', 'west', 'bengal', 'bharatiya', 'janata', 'party', 'bjp', 'hand', 'increase', 'tally', 'seats', 'would', 'still', 'fall', 'short', 'majority', 'according', 'opinion', 'poll', 'conducted', 'times', 'voter', 'trinamool', 'congress', 'predicted', 'get', 'per', 'cent', 'vote', 'share', 'seats', 'less', 'got', 'bjp', 'key', 'challenger', 'tmc', 'expected', 'get', 'per', 'cent', 'vote', 'share', 'seats', 'seats', 'got', 'previous', 'assembly', 'elections', 'saffron', 'party', 'vote', 'share', 'per', 'cent', 'whereas', 'tmc', 'largest', 'vote', 'share', 'nearly', 'per', 'cent', 'precise'], ['last', 'week', 'lenovo', 'released', 'first', 'teaser', 'upcoming', 'lenovo', 'legion', 'gaming', 'smartphone', 'teaser', 'revealed', 'handset', 'come', 'equipped', 'dual', 'turbo', 'cooling', 'system', 'heat', 'dissipation', 'new', 'lenovo', 'smartphone', 'model', 'number', 'powered', 'flagship', 'chipset', 'appeared', 'geekbench', 'benchmarking', 'platform', 'via', 'abhishek', 'yadav', 'seems', 'could', 'gaming', 'smartphone', 'lenovo', 'yet', 'confirmed', 'whether', 'launching', 'legion', 'pro', 'legion', 'pro', 'lenovo', 'geekbench', 'listing', 'shows', 'driven', 'lahaina', 'codenamed', 'qualcomm', 'chipset', 'base', 'frequency', 'codename', 'associated', 'snapdragon', 'mobile', 'platform'], ['earlier', 'today', 'oneplus', 'announced', 'date', 'announcement', 'next', 'flagship', 'smartphones', 'series', 'march', 'company', 'also', 'made', 'partnership', 'hasselblad', 'official', 'hours', 'later', 'first', 'official', 'teaser', 'oneplus', 'pro', 'posted', 'twitter', 'oneplus', 'see', 'money', 'shot', 'end', 'catch', 'glimpse', 'essentially', 'top', 'half', 'back', 'pro'], ['ring', 'road', 'built', 'around', 'pune', 'estimated', 'cost', 'rs', 'crore', 'large', 'number', 'passenger', 'goods', 'transport', 'different', 'parts', 'state', 'move', 'city', 'maharashtra', 'deputy', 'chief', 'minister', 'ajit', 'pawar', 'said', 'monday', 'tabling', 'budget', 'assembly', 'land', 'acquisition', 'project', 'begin', 'year', 'added', 'large', 'number', 'passenger', 'goods', 'vehicles', 'konkan', 'marathwada', 'north', 'maharashtra', 'par', 'read', 'https']]\n"
     ]
    }
   ],
   "source": [
    "# stopwords removal\n",
    "from nltk.corpus import stopwords\n",
    "stop=stopwords.words(fileids='english')\n",
    "tokenized_corpus_nostop=[]\n",
    "for i in range(len(tokenized_corpus)):\n",
    "  tokenized_corpus_nostop.append([word for word in tokenized_corpus[i] if word not in stop])\n",
    "print(tokenized_corpus_nostop)"
   ]
  },
  {
   "cell_type": "code",
   "execution_count": 205,
   "metadata": {
    "colab": {
     "base_uri": "https://localhost:8080/",
     "height": 0
    },
    "id": "Mrlhp5aShVfg",
    "outputId": "9111db5e-73b9-45fa-d474-1983964453be"
   },
   "outputs": [
    {
     "name": "stdout",
     "output_type": "stream",
     "text": [
      "[['delhi', 'mcd', 'elect', 'result', 'live', 'updat', 'aam', 'aadmi', 'parti', 'aap', 'put', 'good', 'show', 'five', 'municip', 'corpor', 'delhi', 'wednesday', 'win', 'four', 'seat', 'includ', 'kalyanpuri', 'shalimar', 'bagh', 'north', 'trilokpuri', 'congress', 'hand', 'chauhan', 'banger', 'ward', 'vote', 'held', 'two', 'ward', 'shalimar', 'bagh', 'north', 'north', 'delhi', 'municip', 'corpor', 'ndmc', 'three', 'ward', 'trilokpuri', 'kalyanpuri', 'chauhan', 'banger', 'east', 'delhi', 'municip', 'corpor', 'edmc', 'last', 'sunday', 'shalimar', 'bagh', 'north', 'reserv', 'women', 'trilokpuri', 'kalyanpuri', 'reserv', 'schedul', 'cast', 'sc', 'categori', 'voter', 'turnout', 'record', 'per', 'cent'], ['rule', 'aam', 'aadmi', 'parti', 'bag', 'four', 'seat', 'municip', 'corpor', 'delhi', 'mcd', 'bypol', 'tuesday', 'follow', 'sweep', 'victori', 'aap', 'conven', 'delhi', 'chief', 'minist', 'arvind', 'kejriw', 'took', 'twitter', 'congratul', 'win', 'peopl', 'delhi', 'vote', 'name', 'work', 'congratul', 'everyon', 'bjp', 'misrul', 'mcd', 'disturb', 'peopl', 'peopl', 'eager', 'form', 'aam', 'aadmi', 'parti', 'govern', 'mcd', 'also', 'wrote', 'twitter', 'delhi', 'deputi', 'chief', 'minist', 'manish', 'sisodia', 'also', 'congratul', 'parti', 'worker', 'site', 'congratul', 'aam', 'aadmi', 'parti', 'worker', 'win', 'seat', 'mcd', 'municip', 'elect', 'next', 'year', 'peopl', 'delhi', 'bring', 'power', 'aap', 'excel', 'govern', 'model', 'arvind', 'kejriw', 'aap', 'leader', 'said', 'aap', 'ward', 'trilokpuri', 'ward', 'kalyanpuri', 'ward', 'shalimar', 'bagh', 'north', 'ward', 'whill', 'congress', 'zubair', 'ahmad', 'chaudhari', 'bag', 'chauhan', 'banger', 'vote'], ['new', 'delhi', 'aap', 'candid', 'lead', 'four', 'ward', 'count', 'municip', 'bypol', 'began', 'wednesday', 'morn', 'elect', 'offici', 'said', 'aap', 'candid', 'lead', 'shalimar', 'bagh', 'north', 'kalyanpuri', 'trilokpuri', 'c', 'ward', 'congress', 'candid', 'lead', 'chauhan', 'bangar', 'per', 'cent', 'vote', 'cast', 'bypol', 'five', 'municip', 'ward', 'held', 'februari'], ['million', 'dose', 'astrazeneca', 'vaccin', 'expect', 'deliv', 'countri', 'end', 'may', 'covax', 'facil', 'head', 'world', 'health', 'organ', 'said', 'tuesday', 'tedro', 'adhanom', 'ghebreyesu', 'told', 'news', 'confer', 'vaccin', 'deliveri', 'plan', 'tuesday', 'angola', 'cambodia', 'democrat', 'republ', 'congo', 'nigeria', 'ghana', 'presid', 'nana', 'said', 'west', 'african', 'countri', 'begun', 'innocul', 'campaign', 'covax', 'dose', 'aim', 'vaccin', 'million', 'peopl', 'end'], ['centr', 'tuesday', 'permit', 'privat', 'hospit', 'give', 'vaccin', 'adher', 'laid', 'norm', 'also', 'ask', 'state', 'union', 'territori', 'utilis', 'optimum', 'capac', 'privat', 'medic', 'facil', 'empanel', 'three', 'categori', 'state', 'union', 'territori', 'also', 'urg', 'store', 'reserv', 'conserv', 'creat', 'buffer', 'stock', 'vaccin', 'union', 'health', 'ministri', 'said', 'statement', 'day', 'start', 'second', 'phase', 'india', 'inocul', 'drive', 'coverag', 'expand', 'includ', 'everyon', 'specifi'], ['adhir', 'ranjan', 'chowdhuri', 'congress', 'presid', 'west', 'bengal', 'kolkata', 'congressmen', 'accus', 'parti', 'breach', 'secular', 'alreadi', 'extract', 'pound', 'flesh', 'said', 'parti', 'angri', 'bengal', 'chief', 'interview', 'ndtv', 'tuesday', 'adhir', 'ranjan', 'chowdhuri', 'congress', 'presid', 'bengal', 'offer', 'unflatt', 'apprais', 'respons', 'alleg', 'parti', 'alli', 'power', 'muslim', 'cleric', 'bengal', 'abandon', 'commit', 'secular', 'charg', 'level', 'anand', 'sharma', 'former', 'union', 'minist', 'member', 'nicknam', 'club', 'group', 'congress', 'leader', 'hold', 'parti', 'leadership', 'particular', 'gandhi', 'inaccess', 'inconsist', 'direct'], ['west', 'bengal', 'assembl', 'elect', 'opinion', 'poll', 'mamata', 'banerje', 'set', 'return', 'chief', 'minist', 'third', 'consecut', 'term', 'comfort', 'major', 'seat', 'requir', 'form', 'govern', 'assembl', 'west', 'bengal', 'bharatiya', 'janata', 'parti', 'bjp', 'hand', 'increas', 'talli', 'seat', 'would', 'still', 'fall', 'short', 'major', 'accord', 'opinion', 'poll', 'conduct', 'time', 'voter', 'trinamool', 'congress', 'predict', 'get', 'per', 'cent', 'vote', 'share', 'seat', 'less', 'got', 'bjp', 'key', 'challeng', 'tmc', 'expect', 'get', 'per', 'cent', 'vote', 'share', 'seat', 'seat', 'got', 'previou', 'assembl', 'elect', 'saffron', 'parti', 'vote', 'share', 'per', 'cent', 'wherea', 'tmc', 'largest', 'vote', 'share', 'nearli', 'per', 'cent', 'precis'], ['last', 'week', 'lenovo', 'releas', 'first', 'teaser', 'upcom', 'lenovo', 'legion', 'game', 'smartphon', 'teaser', 'reveal', 'handset', 'come', 'equip', 'dual', 'turbo', 'cool', 'system', 'heat', 'dissip', 'new', 'lenovo', 'smartphon', 'model', 'number', 'power', 'flagship', 'chipset', 'appear', 'geekbench', 'benchmark', 'platform', 'via', 'abhishek', 'yadav', 'seem', 'could', 'game', 'smartphon', 'lenovo', 'yet', 'confirm', 'whether', 'launch', 'legion', 'pro', 'legion', 'pro', 'lenovo', 'geekbench', 'list', 'show', 'driven', 'lahaina', 'codenam', 'qualcomm', 'chipset', 'base', 'frequenc', 'codenam', 'associ', 'snapdragon', 'mobil', 'platform'], ['earlier', 'today', 'oneplu', 'announc', 'date', 'announc', 'next', 'flagship', 'smartphon', 'seri', 'march', 'compani', 'also', 'made', 'partnership', 'hasselblad', 'offici', 'hour', 'later', 'first', 'offici', 'teaser', 'oneplu', 'pro', 'post', 'twitter', 'oneplu', 'see', 'money', 'shot', 'end', 'catch', 'glimps', 'essenti', 'top', 'half', 'back', 'pro'], ['ring', 'road', 'built', 'around', 'pune', 'estim', 'cost', 'rs', 'crore', 'larg', 'number', 'passeng', 'good', 'transport', 'differ', 'part', 'state', 'move', 'citi', 'maharashtra', 'deputi', 'chief', 'minist', 'ajit', 'pawar', 'said', 'monday', 'tabl', 'budget', 'assembl', 'land', 'acquisit', 'project', 'begin', 'year', 'ad', 'larg', 'number', 'passeng', 'good', 'vehicl', 'konkan', 'marathwada', 'north', 'maharashtra', 'par', 'read', 'http']]\n"
     ]
    }
   ],
   "source": [
    "# stemming\n",
    "from nltk.stem import PorterStemmer\n",
    "ps=PorterStemmer()\n",
    "tokenized_corpus_nostop_stem=[]\n",
    "for i in range(len(tokenized_corpus_nostop)):\n",
    "  tokenized_corpus_nostop_stem.append([ps.stem(word) for word in tokenized_corpus_nostop[i]])\n",
    "print(tokenized_corpus_nostop_stem)"
   ]
  },
  {
   "cell_type": "code",
   "execution_count": 206,
   "metadata": {
    "colab": {
     "base_uri": "https://localhost:8080/",
     "height": 0
    },
    "id": "EiWXK-TFhsgH",
    "outputId": "48198d2c-88ee-49fb-cd8e-d8cfa534e0f9"
   },
   "outputs": [
    {
     "name": "stdout",
     "output_type": "stream",
     "text": [
      "[['delhi', 'mcd', 'election', 'result', 'live', 'update', 'aam', 'aadmi', 'party', 'aap', 'put', 'good', 'show', 'five', 'municipal', 'corporation', 'delhi', 'wednesday', 'winning', 'four', 'seat', 'including', 'kalyanpuri', 'shalimar', 'bagh', 'north', 'trilokpuri', 'congress', 'hand', 'chauhan', 'banger', 'ward', 'voting', 'held', 'two', 'ward', 'shalimar', 'bagh', 'north', 'north', 'delhi', 'municipal', 'corporation', 'ndmc', 'three', 'ward', 'trilokpuri', 'kalyanpuri', 'chauhan', 'banger', 'east', 'delhi', 'municipal', 'corporation', 'edmc', 'last', 'sunday', 'shalimar', 'bagh', 'north', 'reserved', 'woman', 'trilokpuri', 'kalyanpuri', 'reserved', 'scheduled', 'caste', 'sc', 'category', 'voter', 'turnout', 'recorded', 'per', 'cent'], ['ruling', 'aam', 'aadmi', 'party', 'bagged', 'four', 'seat', 'municipal', 'corporation', 'delhi', 'mcd', 'bypolls', 'tuesday', 'following', 'sweeping', 'victory', 'aap', 'convener', 'delhi', 'chief', 'minister', 'arvind', 'kejriwal', 'took', 'twitter', 'congratulate', 'win', 'people', 'delhi', 'voted', 'name', 'work', 'congratulation', 'everyone', 'bjp', 'misrule', 'mcd', 'disturbed', 'people', 'people', 'eager', 'form', 'aam', 'aadmi', 'party', 'government', 'mcd', 'also', 'wrote', 'twitter', 'delhi', 'deputy', 'chief', 'minister', 'manish', 'sisodia', 'also', 'congratulated', 'party', 'worker', 'site', 'congratulation', 'aam', 'aadmi', 'party', 'worker', 'winning', 'seat', 'mcd', 'municipal', 'election', 'next', 'year', 'people', 'delhi', 'bring', 'power', 'aap', 'excellent', 'governance', 'model', 'arvind', 'kejriwal', 'aap', 'leader', 'said', 'aap', 'ward', 'trilokpuri', 'ward', 'kalyanpuri', 'ward', 'shalimar', 'bagh', 'north', 'ward', 'whille', 'congress', 'zubair', 'ahmad', 'chaudhary', 'bagged', 'chauhan', 'banger', 'vote'], ['new', 'delhi', 'aap', 'candidate', 'leading', 'four', 'ward', 'counting', 'municipal', 'bypolls', 'began', 'wednesday', 'morning', 'election', 'official', 'said', 'aap', 'candidate', 'leading', 'shalimar', 'bagh', 'north', 'kalyanpuri', 'trilokpuri', 'c', 'ward', 'congress', 'candidate', 'leading', 'chauhan', 'bangar', 'per', 'cent', 'vote', 'cast', 'bypolls', 'five', 'municipal', 'ward', 'held', 'february'], ['million', 'dos', 'astrazeneca', 'vaccine', 'expected', 'delivered', 'country', 'end', 'may', 'covax', 'facility', 'head', 'world', 'health', 'organization', 'said', 'tuesday', 'tedros', 'adhanom', 'ghebreyesus', 'told', 'news', 'conference', 'vaccine', 'delivery', 'planned', 'tuesday', 'angola', 'cambodia', 'democratic', 'republic', 'congo', 'nigeria', 'ghana', 'president', 'nana', 'said', 'west', 'african', 'country', 'begun', 'innoculation', 'campaign', 'covax', 'dos', 'aimed', 'vaccinate', 'million', 'people', 'end'], ['centre', 'tuesday', 'permitted', 'private', 'hospital', 'give', 'vaccine', 'adhere', 'laid', 'norm', 'also', 'asked', 'state', 'union', 'territory', 'utilise', 'optimum', 'capacity', 'private', 'medical', 'facility', 'empanelled', 'three', 'category', 'state', 'union', 'territory', 'also', 'urged', 'store', 'reserve', 'conserve', 'create', 'buffer', 'stock', 'vaccine', 'union', 'health', 'ministry', 'said', 'statement', 'day', 'start', 'second', 'phase', 'india', 'inoculation', 'drive', 'coverage', 'expanded', 'include', 'everyone', 'specified'], ['adhir', 'ranjan', 'chowdhury', 'congress', 'president', 'west', 'bengal', 'kolkata', 'congressman', 'accusing', 'party', 'breaching', 'secularism', 'already', 'extracted', 'pound', 'flesh', 'said', 'party', 'angry', 'bengal', 'chief', 'interview', 'ndtv', 'tuesday', 'adhir', 'ranjan', 'chowdhury', 'congress', 'president', 'bengal', 'offered', 'unflattering', 'appraisal', 'response', 'allegation', 'party', 'allying', 'powerful', 'muslim', 'cleric', 'bengal', 'abandoned', 'commitment', 'secularism', 'charge', 'levelled', 'anand', 'sharma', 'former', 'union', 'minister', 'member', 'nicknamed', 'club', 'group', 'congress', 'leader', 'hold', 'party', 'leadership', 'particular', 'gandhi', 'inaccessible', 'inconsistent', 'direction'], ['west', 'bengal', 'assembly', 'election', 'opinion', 'poll', 'mamata', 'banerjee', 'set', 'return', 'chief', 'minister', 'third', 'consecutive', 'term', 'comfortable', 'majority', 'seat', 'required', 'form', 'government', 'assembly', 'west', 'bengal', 'bharatiya', 'janata', 'party', 'bjp', 'hand', 'increase', 'tally', 'seat', 'would', 'still', 'fall', 'short', 'majority', 'according', 'opinion', 'poll', 'conducted', 'time', 'voter', 'trinamool', 'congress', 'predicted', 'get', 'per', 'cent', 'vote', 'share', 'seat', 'le', 'got', 'bjp', 'key', 'challenger', 'tmc', 'expected', 'get', 'per', 'cent', 'vote', 'share', 'seat', 'seat', 'got', 'previous', 'assembly', 'election', 'saffron', 'party', 'vote', 'share', 'per', 'cent', 'whereas', 'tmc', 'largest', 'vote', 'share', 'nearly', 'per', 'cent', 'precise'], ['last', 'week', 'lenovo', 'released', 'first', 'teaser', 'upcoming', 'lenovo', 'legion', 'gaming', 'smartphone', 'teaser', 'revealed', 'handset', 'come', 'equipped', 'dual', 'turbo', 'cooling', 'system', 'heat', 'dissipation', 'new', 'lenovo', 'smartphone', 'model', 'number', 'powered', 'flagship', 'chipset', 'appeared', 'geekbench', 'benchmarking', 'platform', 'via', 'abhishek', 'yadav', 'seems', 'could', 'gaming', 'smartphone', 'lenovo', 'yet', 'confirmed', 'whether', 'launching', 'legion', 'pro', 'legion', 'pro', 'lenovo', 'geekbench', 'listing', 'show', 'driven', 'lahaina', 'codenamed', 'qualcomm', 'chipset', 'base', 'frequency', 'codename', 'associated', 'snapdragon', 'mobile', 'platform'], ['earlier', 'today', 'oneplus', 'announced', 'date', 'announcement', 'next', 'flagship', 'smartphones', 'series', 'march', 'company', 'also', 'made', 'partnership', 'hasselblad', 'official', 'hour', 'later', 'first', 'official', 'teaser', 'oneplus', 'pro', 'posted', 'twitter', 'oneplus', 'see', 'money', 'shot', 'end', 'catch', 'glimpse', 'essentially', 'top', 'half', 'back', 'pro'], ['ring', 'road', 'built', 'around', 'pune', 'estimated', 'cost', 'r', 'crore', 'large', 'number', 'passenger', 'good', 'transport', 'different', 'part', 'state', 'move', 'city', 'maharashtra', 'deputy', 'chief', 'minister', 'ajit', 'pawar', 'said', 'monday', 'tabling', 'budget', 'assembly', 'land', 'acquisition', 'project', 'begin', 'year', 'added', 'large', 'number', 'passenger', 'good', 'vehicle', 'konkan', 'marathwada', 'north', 'maharashtra', 'par', 'read', 'http']]\n"
     ]
    }
   ],
   "source": [
    "# lemmatization\n",
    "from nltk.stem import WordNetLemmatizer \n",
    "lemmatizer = WordNetLemmatizer() \n",
    "tokenized_corpus_nostop_lemmatized=[]\n",
    "for i in range(len(tokenized_corpus_nostop)):\n",
    "  tokenized_corpus_nostop_lemmatized.append([lemmatizer.lemmatize(word) for word in tokenized_corpus_nostop[i]])\n",
    "print(tokenized_corpus_nostop_lemmatized)"
   ]
  },
  {
   "cell_type": "code",
   "execution_count": 207,
   "metadata": {
    "colab": {
     "base_uri": "https://localhost:8080/",
     "height": 0
    },
    "id": "QlKzL1wDkIA6",
    "outputId": "3e109398-d815-420d-ceb7-d5dba2d778da"
   },
   "outputs": [
    {
     "name": "stdout",
     "output_type": "stream",
     "text": [
      "['delhi mcd election result live update aam aadmi party aap put good show five municipal corporation delhi wednesday winning four seat including kalyanpuri shalimar bagh north trilokpuri congress hand chauhan banger ward voting held two ward shalimar bagh north north delhi municipal corporation ndmc three ward trilokpuri kalyanpuri chauhan banger east delhi municipal corporation edmc last sunday shalimar bagh north reserved woman trilokpuri kalyanpuri reserved scheduled caste sc category voter turnout recorded per cent', 'ruling aam aadmi party bagged four seat municipal corporation delhi mcd bypolls tuesday following sweeping victory aap convener delhi chief minister arvind kejriwal took twitter congratulate win people delhi voted name work congratulation everyone bjp misrule mcd disturbed people people eager form aam aadmi party government mcd also wrote twitter delhi deputy chief minister manish sisodia also congratulated party worker site congratulation aam aadmi party worker winning seat mcd municipal election next year people delhi bring power aap excellent governance model arvind kejriwal aap leader said aap ward trilokpuri ward kalyanpuri ward shalimar bagh north ward whille congress zubair ahmad chaudhary bagged chauhan banger vote', 'new delhi aap candidate leading four ward counting municipal bypolls began wednesday morning election official said aap candidate leading shalimar bagh north kalyanpuri trilokpuri c ward congress candidate leading chauhan bangar per cent vote cast bypolls five municipal ward held february', 'million dos astrazeneca vaccine expected delivered country end may covax facility head world health organization said tuesday tedros adhanom ghebreyesus told news conference vaccine delivery planned tuesday angola cambodia democratic republic congo nigeria ghana president nana said west african country begun innoculation campaign covax dos aimed vaccinate million people end', 'centre tuesday permitted private hospital give vaccine adhere laid norm also asked state union territory utilise optimum capacity private medical facility empanelled three category state union territory also urged store reserve conserve create buffer stock vaccine union health ministry said statement day start second phase india inoculation drive coverage expanded include everyone specified', 'adhir ranjan chowdhury congress president west bengal kolkata congressman accusing party breaching secularism already extracted pound flesh said party angry bengal chief interview ndtv tuesday adhir ranjan chowdhury congress president bengal offered unflattering appraisal response allegation party allying powerful muslim cleric bengal abandoned commitment secularism charge levelled anand sharma former union minister member nicknamed club group congress leader hold party leadership particular gandhi inaccessible inconsistent direction', 'west bengal assembly election opinion poll mamata banerjee set return chief minister third consecutive term comfortable majority seat required form government assembly west bengal bharatiya janata party bjp hand increase tally seat would still fall short majority according opinion poll conducted time voter trinamool congress predicted get per cent vote share seat le got bjp key challenger tmc expected get per cent vote share seat seat got previous assembly election saffron party vote share per cent whereas tmc largest vote share nearly per cent precise', 'last week lenovo released first teaser upcoming lenovo legion gaming smartphone teaser revealed handset come equipped dual turbo cooling system heat dissipation new lenovo smartphone model number powered flagship chipset appeared geekbench benchmarking platform via abhishek yadav seems could gaming smartphone lenovo yet confirmed whether launching legion pro legion pro lenovo geekbench listing show driven lahaina codenamed qualcomm chipset base frequency codename associated snapdragon mobile platform', 'earlier today oneplus announced date announcement next flagship smartphones series march company also made partnership hasselblad official hour later first official teaser oneplus pro posted twitter oneplus see money shot end catch glimpse essentially top half back pro', 'ring road built around pune estimated cost r crore large number passenger good transport different part state move city maharashtra deputy chief minister ajit pawar said monday tabling budget assembly land acquisition project begin year added large number passenger good vehicle konkan marathwada north maharashtra par read http']\n"
     ]
    }
   ],
   "source": [
    "# cleaned corpus obtained after pre-processing\n",
    "cleaned_corpus = []\n",
    "for i in range(len(tokenized_corpus_nostop_lemmatized)):\n",
    "  cleaned_corpus.append(' '.join([word for word in tokenized_corpus_nostop_lemmatized[i]]))\n",
    "print(cleaned_corpus)"
   ]
  },
  {
   "cell_type": "markdown",
   "metadata": {
    "id": "zQCZaO9iiJfH"
   },
   "source": [
    "# Q3: Convert the corpus into Bag-of-Words and tf-idf feature matrix using:"
   ]
  },
  {
   "cell_type": "markdown",
   "metadata": {
    "id": "93wNXYyiiMMu"
   },
   "source": [
    "**(a) TfidfVectorizer() and CountVectorizer()**"
   ]
  },
  {
   "cell_type": "code",
   "execution_count": 208,
   "metadata": {
    "colab": {
     "base_uri": "https://localhost:8080/",
     "height": 0
    },
    "id": "OcCwBqOliIkU",
    "outputId": "05a8089d-78f3-4dc2-9463-8bae733ed83f"
   },
   "outputs": [
    {
     "name": "stdout",
     "output_type": "stream",
     "text": [
      "['aadmi', 'aam', 'aap', 'abandoned', 'abhishek', 'according', 'accusing', 'acquisition', 'added', 'adhanom', 'adhere', 'adhir', 'african', 'ahmad', 'aimed', 'ajit', 'allegation', 'allying', 'already', 'also', 'anand', 'angola', 'angry', 'announced', 'announcement', 'appeared', 'appraisal', 'around', 'arvind', 'asked', 'assembly', 'associated', 'astrazeneca', 'back', 'bagged', 'bagh', 'banerjee', 'bangar', 'banger', 'base', 'began', 'begin', 'begun', 'benchmarking', 'bengal', 'bharatiya', 'bjp', 'breaching', 'bring', 'budget', 'buffer', 'built', 'bypolls', 'cambodia', 'campaign', 'candidate', 'capacity', 'cast', 'caste', 'catch', 'category', 'cent', 'centre', 'challenger', 'charge', 'chaudhary', 'chauhan', 'chief', 'chipset', 'chowdhury', 'city', 'cleric', 'club', 'codename', 'codenamed', 'come', 'comfortable', 'commitment', 'company', 'conducted', 'conference', 'confirmed', 'congo', 'congratulate', 'congratulated', 'congratulation', 'congress', 'congressman', 'consecutive', 'conserve', 'convener', 'cooling', 'corporation', 'cost', 'could', 'counting', 'country', 'covax', 'coverage', 'create', 'crore', 'date', 'day', 'delhi', 'delivered', 'delivery', 'democratic', 'deputy', 'different', 'direction', 'dissipation', 'disturbed', 'dos', 'drive', 'driven', 'dual', 'eager', 'earlier', 'east', 'edmc', 'election', 'empanelled', 'end', 'equipped', 'essentially', 'estimated', 'everyone', 'excellent', 'expanded', 'expected', 'extracted', 'facility', 'fall', 'february', 'first', 'five', 'flagship', 'flesh', 'following', 'form', 'former', 'four', 'frequency', 'gaming', 'gandhi', 'geekbench', 'get', 'ghana', 'ghebreyesus', 'give', 'glimpse', 'good', 'got', 'governance', 'government', 'group', 'half', 'hand', 'handset', 'hasselblad', 'head', 'health', 'heat', 'held', 'hold', 'hospital', 'hour', 'http', 'inaccessible', 'include', 'including', 'inconsistent', 'increase', 'india', 'innoculation', 'inoculation', 'interview', 'janata', 'kalyanpuri', 'kejriwal', 'key', 'kolkata', 'konkan', 'lahaina', 'laid', 'land', 'large', 'largest', 'last', 'later', 'launching', 'le', 'leader', 'leadership', 'leading', 'legion', 'lenovo', 'levelled', 'listing', 'live', 'made', 'maharashtra', 'majority', 'mamata', 'manish', 'marathwada', 'march', 'may', 'mcd', 'medical', 'member', 'million', 'minister', 'ministry', 'misrule', 'mobile', 'model', 'monday', 'money', 'morning', 'move', 'municipal', 'muslim', 'name', 'nana', 'ndmc', 'ndtv', 'nearly', 'new', 'news', 'next', 'nicknamed', 'nigeria', 'norm', 'north', 'number', 'offered', 'official', 'oneplus', 'opinion', 'optimum', 'organization', 'par', 'part', 'particular', 'partnership', 'party', 'passenger', 'pawar', 'people', 'per', 'permitted', 'phase', 'planned', 'platform', 'poll', 'posted', 'pound', 'power', 'powered', 'powerful', 'precise', 'predicted', 'president', 'previous', 'private', 'pro', 'project', 'pune', 'put', 'qualcomm', 'ranjan', 'read', 'recorded', 'released', 'republic', 'required', 'reserve', 'reserved', 'response', 'result', 'return', 'revealed', 'ring', 'road', 'ruling', 'saffron', 'said', 'sc', 'scheduled', 'seat', 'second', 'secularism', 'see', 'seems', 'series', 'set', 'shalimar', 'share', 'sharma', 'short', 'shot', 'show', 'sisodia', 'site', 'smartphone', 'smartphones', 'snapdragon', 'specified', 'start', 'state', 'statement', 'still', 'stock', 'store', 'sunday', 'sweeping', 'system', 'tabling', 'tally', 'teaser', 'tedros', 'term', 'territory', 'third', 'three', 'time', 'tmc', 'today', 'told', 'took', 'top', 'transport', 'trilokpuri', 'trinamool', 'tuesday', 'turbo', 'turnout', 'twitter', 'two', 'unflattering', 'union', 'upcoming', 'update', 'urged', 'utilise', 'vaccinate', 'vaccine', 'vehicle', 'via', 'victory', 'vote', 'voted', 'voter', 'voting', 'ward', 'wednesday', 'week', 'west', 'whereas', 'whether', 'whille', 'win', 'winning', 'woman', 'work', 'worker', 'world', 'would', 'wrote', 'yadav', 'year', 'yet', 'zubair']\n",
      "[[1 1 1 ... 0 0 0]\n",
      " [3 3 4 ... 1 0 1]\n",
      " [0 0 2 ... 0 0 0]\n",
      " ...\n",
      " [0 0 0 ... 0 1 0]\n",
      " [0 0 0 ... 0 0 0]\n",
      " [0 0 0 ... 1 0 0]]\n"
     ]
    }
   ],
   "source": [
    "# Bag of Words matrix using CountVectorizer()\n",
    "import sklearn\n",
    "from sklearn.feature_extraction.text import CountVectorizer\n",
    "vectorizer = CountVectorizer()\n",
    "x = vectorizer.fit_transform(cleaned_corpus)\n",
    "print(vectorizer.get_feature_names())\n",
    "print(x.toarray())"
   ]
  },
  {
   "cell_type": "code",
   "execution_count": 209,
   "metadata": {
    "colab": {
     "base_uri": "https://localhost:8080/",
     "height": 0
    },
    "id": "GGCpzQIHh0b2",
    "outputId": "7fdf86b7-7cfc-43e5-8bdd-b78cb24fd1bf"
   },
   "outputs": [
    {
     "name": "stdout",
     "output_type": "stream",
     "text": [
      "['aadmi', 'aam', 'aap', 'abandoned', 'abhishek', 'according', 'accusing', 'acquisition', 'added', 'adhanom', 'adhere', 'adhir', 'african', 'ahmad', 'aimed', 'ajit', 'allegation', 'allying', 'already', 'also', 'anand', 'angola', 'angry', 'announced', 'announcement', 'appeared', 'appraisal', 'around', 'arvind', 'asked', 'assembly', 'associated', 'astrazeneca', 'back', 'bagged', 'bagh', 'banerjee', 'bangar', 'banger', 'base', 'began', 'begin', 'begun', 'benchmarking', 'bengal', 'bharatiya', 'bjp', 'breaching', 'bring', 'budget', 'buffer', 'built', 'bypolls', 'cambodia', 'campaign', 'candidate', 'capacity', 'cast', 'caste', 'catch', 'category', 'cent', 'centre', 'challenger', 'charge', 'chaudhary', 'chauhan', 'chief', 'chipset', 'chowdhury', 'city', 'cleric', 'club', 'codename', 'codenamed', 'come', 'comfortable', 'commitment', 'company', 'conducted', 'conference', 'confirmed', 'congo', 'congratulate', 'congratulated', 'congratulation', 'congress', 'congressman', 'consecutive', 'conserve', 'convener', 'cooling', 'corporation', 'cost', 'could', 'counting', 'country', 'covax', 'coverage', 'create', 'crore', 'date', 'day', 'delhi', 'delivered', 'delivery', 'democratic', 'deputy', 'different', 'direction', 'dissipation', 'disturbed', 'dos', 'drive', 'driven', 'dual', 'eager', 'earlier', 'east', 'edmc', 'election', 'empanelled', 'end', 'equipped', 'essentially', 'estimated', 'everyone', 'excellent', 'expanded', 'expected', 'extracted', 'facility', 'fall', 'february', 'first', 'five', 'flagship', 'flesh', 'following', 'form', 'former', 'four', 'frequency', 'gaming', 'gandhi', 'geekbench', 'get', 'ghana', 'ghebreyesus', 'give', 'glimpse', 'good', 'got', 'governance', 'government', 'group', 'half', 'hand', 'handset', 'hasselblad', 'head', 'health', 'heat', 'held', 'hold', 'hospital', 'hour', 'http', 'inaccessible', 'include', 'including', 'inconsistent', 'increase', 'india', 'innoculation', 'inoculation', 'interview', 'janata', 'kalyanpuri', 'kejriwal', 'key', 'kolkata', 'konkan', 'lahaina', 'laid', 'land', 'large', 'largest', 'last', 'later', 'launching', 'le', 'leader', 'leadership', 'leading', 'legion', 'lenovo', 'levelled', 'listing', 'live', 'made', 'maharashtra', 'majority', 'mamata', 'manish', 'marathwada', 'march', 'may', 'mcd', 'medical', 'member', 'million', 'minister', 'ministry', 'misrule', 'mobile', 'model', 'monday', 'money', 'morning', 'move', 'municipal', 'muslim', 'name', 'nana', 'ndmc', 'ndtv', 'nearly', 'new', 'news', 'next', 'nicknamed', 'nigeria', 'norm', 'north', 'number', 'offered', 'official', 'oneplus', 'opinion', 'optimum', 'organization', 'par', 'part', 'particular', 'partnership', 'party', 'passenger', 'pawar', 'people', 'per', 'permitted', 'phase', 'planned', 'platform', 'poll', 'posted', 'pound', 'power', 'powered', 'powerful', 'precise', 'predicted', 'president', 'previous', 'private', 'pro', 'project', 'pune', 'put', 'qualcomm', 'ranjan', 'read', 'recorded', 'released', 'republic', 'required', 'reserve', 'reserved', 'response', 'result', 'return', 'revealed', 'ring', 'road', 'ruling', 'saffron', 'said', 'sc', 'scheduled', 'seat', 'second', 'secularism', 'see', 'seems', 'series', 'set', 'shalimar', 'share', 'sharma', 'short', 'shot', 'show', 'sisodia', 'site', 'smartphone', 'smartphones', 'snapdragon', 'specified', 'start', 'state', 'statement', 'still', 'stock', 'store', 'sunday', 'sweeping', 'system', 'tabling', 'tally', 'teaser', 'tedros', 'term', 'territory', 'third', 'three', 'time', 'tmc', 'today', 'told', 'took', 'top', 'transport', 'trilokpuri', 'trinamool', 'tuesday', 'turbo', 'turnout', 'twitter', 'two', 'unflattering', 'union', 'upcoming', 'update', 'urged', 'utilise', 'vaccinate', 'vaccine', 'vehicle', 'via', 'victory', 'vote', 'voted', 'voter', 'voting', 'ward', 'wednesday', 'week', 'west', 'whereas', 'whether', 'whille', 'win', 'winning', 'woman', 'work', 'worker', 'world', 'would', 'wrote', 'yadav', 'year', 'yet', 'zubair']\n",
      "[[0.08842085 0.08842085 0.07735779 ... 0.         0.         0.        ]\n",
      " [0.20829713 0.20829713 0.2429805  ... 0.06943238 0.         0.08167637]\n",
      " [0.         0.         0.217075   ... 0.         0.         0.        ]\n",
      " ...\n",
      " [0.         0.         0.         ... 0.         0.09720205 0.        ]\n",
      " [0.         0.         0.         ... 0.         0.         0.        ]\n",
      " [0.         0.         0.         ... 0.11872076 0.         0.        ]]\n"
     ]
    }
   ],
   "source": [
    "# tfidf matrix using TfidfVectorizer()\n",
    "from sklearn.feature_extraction.text import TfidfVectorizer\n",
    "tfidfvectorizer = TfidfVectorizer()\n",
    "X = tfidfvectorizer.fit_transform(cleaned_corpus)\n",
    "print(tfidfvectorizer.get_feature_names())\n",
    "print(X.toarray())"
   ]
  },
  {
   "cell_type": "markdown",
   "metadata": {
    "id": "ZY28iwDjmRMG"
   },
   "source": [
    "**(b) Without using in-built functions**"
   ]
  },
  {
   "cell_type": "code",
   "execution_count": 210,
   "metadata": {
    "colab": {
     "base_uri": "https://localhost:8080/",
     "height": 0
    },
    "id": "g5QbzqUKlIJ2",
    "outputId": "3a2ebd57-41c6-4b8b-c07f-ac07d8485369"
   },
   "outputs": [
    {
     "name": "stdout",
     "output_type": "stream",
     "text": [
      "376\n",
      "['aadmi', 'aam', 'aap', 'abandoned', 'abhishek', 'according', 'accusing', 'acquisition', 'added', 'adhanom', 'adhere', 'adhir', 'african', 'ahmad', 'aimed', 'ajit', 'allegation', 'allying', 'already', 'also', 'anand', 'angola', 'angry', 'announced', 'announcement', 'appeared', 'appraisal', 'around', 'arvind', 'asked', 'assembly', 'associated', 'astrazeneca', 'back', 'bagged', 'bagh', 'banerjee', 'bangar', 'banger', 'base', 'began', 'begin', 'begun', 'benchmarking', 'bengal', 'bharatiya', 'bjp', 'breaching', 'bring', 'budget', 'buffer', 'built', 'bypolls', 'c', 'cambodia', 'campaign', 'candidate', 'capacity', 'cast', 'caste', 'catch', 'category', 'cent', 'centre', 'challenger', 'charge', 'chaudhary', 'chauhan', 'chief', 'chipset', 'chowdhury', 'city', 'cleric', 'club', 'codename', 'codenamed', 'come', 'comfortable', 'commitment', 'company', 'conducted', 'conference', 'confirmed', 'congo', 'congratulate', 'congratulated', 'congratulation', 'congress', 'congressman', 'consecutive', 'conserve', 'convener', 'cooling', 'corporation', 'cost', 'could', 'counting', 'country', 'covax', 'coverage', 'create', 'crore', 'date', 'day', 'delhi', 'delivered', 'delivery', 'democratic', 'deputy', 'different', 'direction', 'dissipation', 'disturbed', 'dos', 'drive', 'driven', 'dual', 'eager', 'earlier', 'east', 'edmc', 'election', 'empanelled', 'end', 'equipped', 'essentially', 'estimated', 'everyone', 'excellent', 'expanded', 'expected', 'extracted', 'facility', 'fall', 'february', 'first', 'five', 'flagship', 'flesh', 'following', 'form', 'former', 'four', 'frequency', 'gaming', 'gandhi', 'geekbench', 'get', 'ghana', 'ghebreyesus', 'give', 'glimpse', 'good', 'got', 'governance', 'government', 'group', 'half', 'hand', 'handset', 'hasselblad', 'head', 'health', 'heat', 'held', 'hold', 'hospital', 'hour', 'http', 'inaccessible', 'include', 'including', 'inconsistent', 'increase', 'india', 'innoculation', 'inoculation', 'interview', 'janata', 'kalyanpuri', 'kejriwal', 'key', 'kolkata', 'konkan', 'lahaina', 'laid', 'land', 'large', 'largest', 'last', 'later', 'launching', 'le', 'leader', 'leadership', 'leading', 'legion', 'lenovo', 'levelled', 'listing', 'live', 'made', 'maharashtra', 'majority', 'mamata', 'manish', 'marathwada', 'march', 'may', 'mcd', 'medical', 'member', 'million', 'minister', 'ministry', 'misrule', 'mobile', 'model', 'monday', 'money', 'morning', 'move', 'municipal', 'muslim', 'name', 'nana', 'ndmc', 'ndtv', 'nearly', 'new', 'news', 'next', 'nicknamed', 'nigeria', 'norm', 'north', 'number', 'offered', 'official', 'oneplus', 'opinion', 'optimum', 'organization', 'par', 'part', 'particular', 'partnership', 'party', 'passenger', 'pawar', 'people', 'per', 'permitted', 'phase', 'planned', 'platform', 'poll', 'posted', 'pound', 'power', 'powered', 'powerful', 'precise', 'predicted', 'president', 'previous', 'private', 'pro', 'project', 'pune', 'put', 'qualcomm', 'r', 'ranjan', 'read', 'recorded', 'released', 'republic', 'required', 'reserve', 'reserved', 'response', 'result', 'return', 'revealed', 'ring', 'road', 'ruling', 'saffron', 'said', 'sc', 'scheduled', 'seat', 'second', 'secularism', 'see', 'seems', 'series', 'set', 'shalimar', 'share', 'sharma', 'short', 'shot', 'show', 'sisodia', 'site', 'smartphone', 'smartphones', 'snapdragon', 'specified', 'start', 'state', 'statement', 'still', 'stock', 'store', 'sunday', 'sweeping', 'system', 'tabling', 'tally', 'teaser', 'tedros', 'term', 'territory', 'third', 'three', 'time', 'tmc', 'today', 'told', 'took', 'top', 'transport', 'trilokpuri', 'trinamool', 'tuesday', 'turbo', 'turnout', 'twitter', 'two', 'unflattering', 'union', 'upcoming', 'update', 'urged', 'utilise', 'vaccinate', 'vaccine', 'vehicle', 'via', 'victory', 'vote', 'voted', 'voter', 'voting', 'ward', 'wednesday', 'week', 'west', 'whereas', 'whether', 'whille', 'win', 'winning', 'woman', 'work', 'worker', 'world', 'would', 'wrote', 'yadav', 'year', 'yet', 'zubair']\n"
     ]
    }
   ],
   "source": [
    "features = []\n",
    "for i in range(len(cleaned_corpus)):\n",
    "  for word in cleaned_corpus[i].split():\n",
    "    if word not in features:\n",
    "      features.append(word)\n",
    "features.sort()\n",
    "print(len(features))\n",
    "print(features)"
   ]
  },
  {
   "cell_type": "code",
   "execution_count": 211,
   "metadata": {
    "colab": {
     "base_uri": "https://localhost:8080/",
     "height": 0
    },
    "id": "QVGTLTyypIPG",
    "outputId": "8697fafc-8ea2-4541-8298-dda8ca675ab4"
   },
   "outputs": [
    {
     "name": "stdout",
     "output_type": "stream",
     "text": [
      "[[1. 1. 1. ... 0. 0. 0.]\n",
      " [3. 3. 4. ... 1. 0. 1.]\n",
      " [0. 0. 2. ... 0. 0. 0.]\n",
      " ...\n",
      " [0. 0. 0. ... 0. 1. 0.]\n",
      " [0. 0. 0. ... 0. 0. 0.]\n",
      " [0. 0. 0. ... 1. 0. 0.]]\n"
     ]
    }
   ],
   "source": [
    "# Bag of words without using inbuilt function\n",
    "import numpy as np\n",
    "\n",
    "bow = np.zeros((len(cleaned_corpus), len(features)))\n",
    "for i in range(len(cleaned_corpus)):\n",
    "  for j in range(len(features)):\n",
    "    bow[i][j] = cleaned_corpus[i].split().count(features[j])\n",
    "print(bow)"
   ]
  },
  {
   "cell_type": "code",
   "execution_count": 212,
   "metadata": {
    "colab": {
     "base_uri": "https://localhost:8080/",
     "height": 0
    },
    "id": "hJyd7Qespmf3",
    "outputId": "cee5564c-296e-4ea3-c240-c16744fd7850"
   },
   "outputs": [
    {
     "name": "stdout",
     "output_type": "stream",
     "text": [
      "376\n",
      "[2.29928298 2.29928298 2.01160091 2.70474809 2.70474809 2.70474809\n",
      " 2.70474809 2.70474809 2.70474809 2.70474809 2.70474809 2.70474809\n",
      " 2.70474809 2.70474809 2.70474809 2.70474809 2.70474809 2.70474809\n",
      " 2.70474809 2.01160091 2.70474809 2.70474809 2.70474809 2.70474809\n",
      " 2.70474809 2.70474809 2.70474809 2.70474809 2.70474809 2.70474809\n",
      " 2.29928298 2.70474809 2.70474809 2.70474809 2.70474809 2.01160091\n",
      " 2.70474809 2.70474809 2.29928298 2.70474809 2.70474809 2.70474809\n",
      " 2.70474809 2.70474809 2.29928298 2.70474809 2.29928298 2.70474809\n",
      " 2.70474809 2.70474809 2.70474809 2.70474809 2.29928298 2.70474809\n",
      " 2.70474809 2.70474809 2.70474809 2.70474809 2.70474809 2.70474809\n",
      " 2.70474809 2.29928298 2.01160091 2.70474809 2.70474809 2.70474809\n",
      " 2.70474809 2.01160091 1.78845736 2.70474809 2.70474809 2.70474809\n",
      " 2.70474809 2.70474809 2.70474809 2.70474809 2.70474809 2.70474809\n",
      " 2.70474809 2.70474809 2.70474809 2.70474809 2.70474809 2.70474809\n",
      " 2.70474809 2.70474809 2.70474809 1.6061358  2.70474809 2.70474809\n",
      " 2.70474809 2.70474809 2.70474809 2.29928298 2.70474809 2.70474809\n",
      " 2.70474809 2.70474809 2.70474809 2.70474809 2.70474809 2.70474809\n",
      " 2.70474809 2.70474809 2.01160091 2.70474809 2.70474809 2.70474809\n",
      " 2.29928298 2.70474809 2.70474809 2.70474809 2.70474809 2.70474809\n",
      " 2.70474809 2.70474809 2.70474809 2.70474809 2.70474809 2.70474809\n",
      " 2.70474809 1.78845736 2.70474809 2.29928298 2.70474809 2.70474809\n",
      " 2.70474809 2.29928298 2.70474809 2.70474809 2.29928298 2.70474809\n",
      " 2.29928298 2.70474809 2.70474809 2.29928298 2.29928298 2.29928298\n",
      " 2.70474809 2.70474809 2.29928298 2.70474809 2.01160091 2.70474809\n",
      " 2.70474809 2.70474809 2.70474809 2.70474809 2.70474809 2.70474809\n",
      " 2.70474809 2.70474809 2.29928298 2.70474809 2.70474809 2.29928298\n",
      " 2.70474809 2.70474809 2.29928298 2.70474809 2.70474809 2.70474809\n",
      " 2.29928298 2.70474809 2.29928298 2.70474809 2.70474809 2.70474809\n",
      " 2.70474809 2.70474809 2.70474809 2.70474809 2.70474809 2.70474809\n",
      " 2.70474809 2.70474809 2.70474809 2.70474809 2.70474809 2.01160091\n",
      " 2.70474809 2.70474809 2.70474809 2.70474809 2.70474809 2.70474809\n",
      " 2.70474809 2.70474809 2.70474809 2.29928298 2.70474809 2.70474809\n",
      " 2.70474809 2.29928298 2.70474809 2.70474809 2.70474809 2.70474809\n",
      " 2.70474809 2.70474809 2.70474809 2.70474809 2.70474809 2.70474809\n",
      " 2.70474809 2.70474809 2.70474809 2.70474809 2.70474809 2.29928298\n",
      " 2.70474809 2.70474809 2.70474809 1.78845736 2.70474809 2.70474809\n",
      " 2.70474809 2.29928298 2.70474809 2.70474809 2.70474809 2.70474809\n",
      " 2.01160091 2.70474809 2.70474809 2.70474809 2.70474809 2.70474809\n",
      " 2.70474809 2.29928298 2.70474809 2.29928298 2.70474809 2.70474809\n",
      " 2.70474809 1.78845736 2.29928298 2.70474809 2.29928298 2.70474809\n",
      " 2.70474809 2.70474809 2.70474809 2.70474809 2.70474809 2.70474809\n",
      " 2.70474809 1.78845736 2.70474809 2.70474809 2.29928298 2.01160091\n",
      " 2.70474809 2.70474809 2.70474809 2.70474809 2.70474809 2.70474809\n",
      " 2.70474809 2.70474809 2.70474809 2.70474809 2.70474809 2.70474809\n",
      " 2.29928298 2.70474809 2.70474809 2.29928298 2.70474809 2.70474809\n",
      " 2.70474809 2.70474809 2.70474809 2.70474809 2.70474809 2.70474809\n",
      " 2.70474809 2.70474809 2.70474809 2.70474809 2.70474809 2.70474809\n",
      " 2.70474809 2.70474809 2.70474809 2.70474809 2.70474809 2.70474809\n",
      " 2.70474809 1.45198512 2.70474809 2.70474809 2.01160091 2.70474809\n",
      " 2.70474809 2.70474809 2.70474809 2.70474809 2.70474809 2.01160091\n",
      " 2.70474809 2.70474809 2.70474809 2.70474809 2.29928298 2.70474809\n",
      " 2.70474809 2.70474809 2.70474809 2.70474809 2.70474809 2.70474809\n",
      " 2.29928298 2.70474809 2.70474809 2.70474809 2.70474809 2.70474809\n",
      " 2.70474809 2.70474809 2.70474809 2.70474809 2.29928298 2.70474809\n",
      " 2.70474809 2.70474809 2.70474809 2.29928298 2.70474809 2.70474809\n",
      " 2.70474809 2.70474809 2.70474809 2.70474809 2.70474809 2.01160091\n",
      " 2.70474809 1.78845736 2.70474809 2.70474809 2.29928298 2.70474809\n",
      " 2.70474809 2.29928298 2.70474809 2.70474809 2.70474809 2.70474809\n",
      " 2.70474809 2.29928298 2.70474809 2.70474809 2.70474809 2.01160091\n",
      " 2.70474809 2.29928298 2.70474809 2.01160091 2.29928298 2.70474809\n",
      " 2.01160091 2.70474809 2.70474809 2.70474809 2.70474809 2.29928298\n",
      " 2.70474809 2.70474809 2.70474809 2.70474809 2.70474809 2.70474809\n",
      " 2.70474809 2.29928298 2.70474809 2.70474809]\n"
     ]
    }
   ],
   "source": [
    "# calculating idf matrix\n",
    "idf = np.zeros(len(features))\n",
    "df = np.zeros(len(features))\n",
    "n = len(cleaned_corpus)\n",
    "for i in range(len(features)):\n",
    "  df[i] = 0\n",
    "  for j in range(len(cleaned_corpus)):\n",
    "    if features[i] in cleaned_corpus[j].split():\n",
    "      df[i] += 1\n",
    "  idf[i] = np.log((1+n)/(1+df[i])) + 1\n",
    "print(len(idf))\n",
    "print(idf)"
   ]
  },
  {
   "cell_type": "code",
   "execution_count": 213,
   "metadata": {
    "colab": {
     "base_uri": "https://localhost:8080/",
     "height": 0
    },
    "id": "cjZGRtymA3vi",
    "outputId": "0d2eac15-c5ed-459a-c448-3f1e6d303926"
   },
   "outputs": [
    {
     "name": "stdout",
     "output_type": "stream",
     "text": [
      "[[2.29928298 2.29928298 2.01160091 ... 0.         0.         0.        ]\n",
      " [6.89784895 6.89784895 8.04640365 ... 2.29928298 0.         2.70474809]\n",
      " [0.         0.         4.02320182 ... 0.         0.         0.        ]\n",
      " ...\n",
      " [0.         0.         0.         ... 0.         2.70474809 0.        ]\n",
      " [0.         0.         0.         ... 0.         0.         0.        ]\n",
      " [0.         0.         0.         ... 2.29928298 0.         0.        ]]\n"
     ]
    }
   ],
   "source": [
    "# calculating tfidf matrix\n",
    "tfidf = np.multiply(bow, idf)\n",
    "print(tfidf)"
   ]
  },
  {
   "cell_type": "code",
   "execution_count": 214,
   "metadata": {
    "colab": {
     "base_uri": "https://localhost:8080/",
     "height": 0
    },
    "id": "HtRH95PVDLf5",
    "outputId": "58714d8a-8d03-4e3f-9c35-0287f2e0900e"
   },
   "outputs": [
    {
     "name": "stdout",
     "output_type": "stream",
     "text": [
      "[[0.08842085 0.08842085 0.07735779 ... 0.         0.         0.        ]\n",
      " [0.20829713 0.20829713 0.2429805  ... 0.06943238 0.         0.08167637]\n",
      " [0.         0.         0.2147997  ... 0.         0.         0.        ]\n",
      " ...\n",
      " [0.         0.         0.         ... 0.         0.09720205 0.        ]\n",
      " [0.         0.         0.         ... 0.         0.         0.        ]\n",
      " [0.         0.         0.         ... 0.11757966 0.         0.        ]]\n"
     ]
    }
   ],
   "source": [
    "# normalizing the tfidf matrix\n",
    "import math\n",
    "for i in range(len(tfidf)):\n",
    "  count = 0\n",
    "  for j in range(len(tfidf[i])):\n",
    "    count += pow(tfidf[i][j], 2)\n",
    "  count = math.sqrt(count)\n",
    "  for j in range(len(tfidf[i])):\n",
    "    tfidf[i][j] = tfidf[i][j]/count\n",
    "\n",
    "print(tfidf)"
   ]
  },
  {
   "cell_type": "code",
   "execution_count": 215,
   "metadata": {
    "colab": {
     "base_uri": "https://localhost:8080/",
     "height": 0
    },
    "id": "WmX3lzCoHS7Z",
    "outputId": "352d8cce-0a14-4f3e-b581-607a399bc6bb"
   },
   "outputs": [
    {
     "name": "stdout",
     "output_type": "stream",
     "text": [
      "['aadmi', 'aam', 'aap', 'abandoned', 'abhishek', 'according', 'accusing', 'acquisition', 'added', 'adhanom', 'adhere', 'adhir', 'african', 'ahmad', 'aimed', 'ajit', 'allegation', 'allying', 'already', 'also', 'anand', 'angola', 'angry', 'announced', 'announcement', 'appeared', 'appraisal', 'around', 'arvind', 'asked', 'assembly', 'associated', 'astrazeneca', 'back', 'bagged', 'bagh', 'banerjee', 'bangar', 'banger', 'base', 'began', 'begin', 'begun', 'benchmarking', 'bengal', 'bharatiya', 'bjp', 'breaching', 'bring', 'budget', 'buffer', 'built', 'bypolls', 'cambodia', 'campaign', 'candidate', 'capacity', 'cast', 'caste', 'catch', 'category', 'cent', 'centre', 'challenger', 'charge', 'chaudhary', 'chauhan', 'chief', 'chipset', 'chowdhury', 'city', 'cleric', 'club', 'codename', 'codenamed', 'come', 'comfortable', 'commitment', 'company', 'conducted', 'conference', 'confirmed', 'congo', 'congratulate', 'congratulated', 'congratulation', 'congress', 'congressman', 'consecutive', 'conserve', 'convener', 'cooling', 'corporation', 'cost', 'could', 'counting', 'country', 'covax', 'coverage', 'create', 'crore', 'date', 'day', 'delhi', 'delivered', 'delivery', 'democratic', 'deputy', 'different', 'direction', 'dissipation', 'disturbed', 'dos', 'drive', 'driven', 'dual', 'eager', 'earlier', 'east', 'edmc', 'election', 'empanelled', 'end', 'equipped', 'essentially', 'estimated', 'everyone', 'excellent', 'expanded', 'expected', 'extracted', 'facility', 'fall', 'february', 'first', 'five', 'flagship', 'flesh', 'following', 'form', 'former', 'four', 'frequency', 'gaming', 'gandhi', 'geekbench', 'get', 'ghana', 'ghebreyesus', 'give', 'glimpse', 'good', 'got', 'governance', 'government', 'group', 'half', 'hand', 'handset', 'hasselblad', 'head', 'health', 'heat', 'held', 'hold', 'hospital', 'hour', 'http', 'inaccessible', 'include', 'including', 'inconsistent', 'increase', 'india', 'innoculation', 'inoculation', 'interview', 'janata', 'kalyanpuri', 'kejriwal', 'key', 'kolkata', 'konkan', 'lahaina', 'laid', 'land', 'large', 'largest', 'last', 'later', 'launching', 'le', 'leader', 'leadership', 'leading', 'legion', 'lenovo', 'levelled', 'listing', 'live', 'made', 'maharashtra', 'majority', 'mamata', 'manish', 'marathwada', 'march', 'may', 'mcd', 'medical', 'member', 'million', 'minister', 'ministry', 'misrule', 'mobile', 'model', 'monday', 'money', 'morning', 'move', 'municipal', 'muslim', 'name', 'nana', 'ndmc', 'ndtv', 'nearly', 'new', 'news', 'next', 'nicknamed', 'nigeria', 'norm', 'north', 'number', 'offered', 'official', 'oneplus', 'opinion', 'optimum', 'organization', 'par', 'part', 'particular', 'partnership', 'party', 'passenger', 'pawar', 'people', 'per', 'permitted', 'phase', 'planned', 'platform', 'poll', 'posted', 'pound', 'power', 'powered', 'powerful', 'precise', 'predicted', 'president', 'previous', 'private', 'pro', 'project', 'pune', 'put', 'qualcomm', 'ranjan', 'read', 'recorded', 'released', 'republic', 'required', 'reserve', 'reserved', 'response', 'result', 'return', 'revealed', 'ring', 'road', 'ruling', 'saffron', 'said', 'sc', 'scheduled', 'seat', 'second', 'secularism', 'see', 'seems', 'series', 'set', 'shalimar', 'share', 'sharma', 'short', 'shot', 'show', 'sisodia', 'site', 'smartphone', 'smartphones', 'snapdragon', 'specified', 'start', 'state', 'statement', 'still', 'stock', 'store', 'sunday', 'sweeping', 'system', 'tabling', 'tally', 'teaser', 'tedros', 'term', 'territory', 'third', 'three', 'time', 'tmc', 'today', 'told', 'took', 'top', 'transport', 'trilokpuri', 'trinamool', 'tuesday', 'turbo', 'turnout', 'twitter', 'two', 'unflattering', 'union', 'upcoming', 'update', 'urged', 'utilise', 'vaccinate', 'vaccine', 'vehicle', 'via', 'victory', 'vote', 'voted', 'voter', 'voting', 'ward', 'wednesday', 'week', 'west', 'whereas', 'whether', 'whille', 'win', 'winning', 'woman', 'work', 'worker', 'world', 'would', 'wrote', 'yadav', 'year', 'yet', 'zubair']\n",
      "[[0.08842085 0.08842085 0.07735779 ... 0.         0.         0.        ]\n",
      " [0.20829713 0.20829713 0.2429805  ... 0.06943238 0.         0.08167637]\n",
      " [0.         0.         0.217075   ... 0.         0.         0.        ]\n",
      " ...\n",
      " [0.         0.         0.         ... 0.         0.09720205 0.        ]\n",
      " [0.         0.         0.         ... 0.         0.         0.        ]\n",
      " [0.         0.         0.         ... 0.11872076 0.         0.        ]]\n"
     ]
    }
   ],
   "source": [
    "# tfidf matrix using TfidfVectorizer() for comparison\n",
    "from sklearn.feature_extraction.text import TfidfVectorizer\n",
    "tfidfvectorizer = TfidfVectorizer()\n",
    "X = tfidfvectorizer.fit_transform(cleaned_corpus)\n",
    "print(vectorizer.get_feature_names())\n",
    "print(X.toarray())"
   ]
  },
  {
   "cell_type": "markdown",
   "metadata": {
    "id": "Arbb5acHIxz2"
   },
   "source": [
    "# Q4: Explore how we can access, pre-process and create feature vector for HTML texts?"
   ]
  },
  {
   "cell_type": "code",
   "execution_count": 216,
   "metadata": {
    "id": "GbmiaoKzH4pw"
   },
   "outputs": [],
   "source": [
    "html_doc = [\"\"\"\n",
    "<html><head><title>The Dormouse's story</title></head>\n",
    "<body>\n",
    "<p class=\"title\"><b>The Dormouse's story</b></p>\n",
    "\n",
    "<p class=\"story\">Once upon a time there were three little sisters; and their names were\n",
    "<a href=\"http://example.com/elsie\" class=\"sister\" id=\"link1\">Elsie</a>,\n",
    "<a href=\"http://example.com/lacie\" class=\"sister\" id=\"link2\">Lacie</a> and\n",
    "<a href=\"http://example.com/tillie\" class=\"sister\" id=\"link3\">Tillie</a>;\n",
    "and they lived at the bottom of a well.</p>\n",
    "\n",
    "<p class=\"story\">...</p>\n",
    "\"\"\", \n",
    "\"\"\"\n",
    "<!DOCTYPE html>\n",
    "<html lang=\"en\">\n",
    "<head>\n",
    "<title>Page Title</title>\n",
    "<meta charset=\"UTF-8\">\n",
    "<meta name=\"viewport\" content=\"width=device-width, initial-scale=1\">\n",
    "<style>\n",
    "\n",
    "</style>\n",
    "</head>\n",
    "<body>\n",
    "On UTF-8 encoded pages, <wbr> behaves like the U+200B ZERO-WIDTH SPACE code point. \n",
    "In particular, it behaves like a Unicode bidi BN code point, meaning it has no effect on bidi-ordering: \n",
    "<div dir=rtl>123,<wbr>456</div> displays, when not broken on two lines, 123,456 and not 456,123.\n",
    "\n",
    "For the same reason, the <wbr> element does not introduce a hyphen at the line break point.\n",
    " To make a hyphen appear only at the end of a line, use the soft hyphen character entity (&shy;) instead.\n",
    "<h1>My Website</h1>\n",
    "<p>A website created by me.</p>\n",
    "Lilly was a little girl, castle of walls.\n",
    "Life is good.\n",
    "</body>\n",
    "</html>\n",
    "\"\"\",\n",
    "\"\"\"\n",
    "<!DOCTYPE html>\n",
    "<html lang=\"en\">\n",
    "<head>\n",
    "<title>Page Title</title>\n",
    "<meta charset=\"UTF-8\">\n",
    "<meta name=\"viewport\" content=\"width=device-width, initial-scale=1\">\n",
    "<style>\n",
    "\n",
    "</style>\n",
    "</head>\n",
    "<body>\n",
    "<p>The function <code>selectAll()</code> highlights all the text in the\n",
    "input field so the user can, for example, copy or delete the text.</p>\n",
    "<h1>My Bad</h1>\n",
    "<p>can't find anything better.</p>\n",
    "How can I be this silly, but it doesn't matter anyway, Hahah \n",
    "</body>\n",
    "</html>\n",
    "\"\"\" ]"
   ]
  },
  {
   "cell_type": "code",
   "execution_count": 217,
   "metadata": {
    "colab": {
     "base_uri": "https://localhost:8080/",
     "height": 0
    },
    "id": "1gLpGjI3K4uh",
    "outputId": "545e3e62-8891-4e1b-c012-5292fad173c6"
   },
   "outputs": [
    {
     "data": {
      "text/plain": [
       "[\"\\nThe Dormouse's story\\n\\nThe Dormouse's story\\nOnce upon a time there were three little sisters; and their names were\\nElsie,\\nLacie and\\nTillie;\\nand they lived at the bottom of a well.\\n...\\n\",\n",
       " '\\n\\n\\n\\nPage Title\\n\\n\\n\\n\\n\\n\\nOn UTF-8 encoded pages,  behaves like the U+200B ZERO-WIDTH SPACE code point. \\nIn particular, it behaves like a Unicode bidi BN code point, meaning it has no effect on bidi-ordering: \\n123,456 displays, when not broken on two lines, 123,456 and not 456,123.\\n\\nFor the same reason, the  element does not introduce a hyphen at the line break point.\\n To make a hyphen appear only at the end of a line, use the soft hyphen character entity (\\xad) instead.\\nMy Website\\nA website created by me.\\nLilly was a little girl, castle of walls.\\nLife is good.\\n\\n\\n',\n",
       " \"\\n\\n\\n\\nPage Title\\n\\n\\n\\n\\n\\n\\nThe function selectAll() highlights all the text in the\\ninput field so the user can, for example, copy or delete the text.\\nMy Bad\\ncan't find anything better.\\nHow can I be this silly, but it doesn't matter anyway, Hahah \\n\\n\\n\"]"
      ]
     },
     "execution_count": 217,
     "metadata": {
      "tags": []
     },
     "output_type": "execute_result"
    }
   ],
   "source": [
    "# acccessing html data\n",
    "import bs4\n",
    "from bs4 import BeautifulSoup\n",
    "html_data = []\n",
    "\n",
    "for i in range(len(html_doc)):\n",
    "  soup = BeautifulSoup(html_doc[i], 'html.parser')\n",
    "  html_data.append(soup.get_text())\n",
    "\n",
    "html_data"
   ]
  },
  {
   "cell_type": "code",
   "execution_count": 218,
   "metadata": {
    "colab": {
     "base_uri": "https://localhost:8080/",
     "height": 0
    },
    "id": "HD_DdhfFK6g3",
    "outputId": "fb41be53-afd2-432d-8071-72c2f488ecf8"
   },
   "outputs": [
    {
     "name": "stdout",
     "output_type": "stream",
     "text": [
      "[\"\\nThe Dormouse's story\\n\\nThe Dormouse's story\\nOnce upon a time there were three little sisters; and their names were\\nElsie,\\nLacie and\\nTillie;\\nand they lived at the bottom of a well.\\n...\\n\", '\\n\\n\\n\\nPage Title\\n\\n\\n\\n\\n\\n\\nOn UTF-8 encoded pages,  behaves like the U+200B ZERO-WIDTH SPACE code point. \\nIn particular, it behaves like a Unicode bidi BN code point, meaning it has no effect on bidi-ordering: \\n123,456 displays, when not broken on two lines, 123,456 and not 456,123.\\n\\nFor the same reason, the  element does not introduce a hyphen at the line break point.\\n To make a hyphen appear only at the end of a line, use the soft hyphen character entity (\\xad) instead.\\nMy Website\\nA website created by me.\\nLilly was a little girl, castle of walls.\\nLife is good.\\n\\n\\n', \"\\n\\n\\n\\nPage Title\\n\\n\\n\\n\\n\\n\\nThe function selectAll() highlights all the text in the\\ninput field so the user can, for example, copy or delete the text.\\nMy Bad\\ncan't find anything better.\\nHow can I be this silly, but it doesn't matter anyway, Hahah \\n\\n\\n\"]\n",
      "[\"the dormouse's story the dormouse's story once upon a time there were three little sisters; and their names were elsie, lacie and tillie; and they lived at the bottom of a well. ...\", 'page title on utf-8 encoded pages, behaves like the u+200b zero-width space code point. in particular, it behaves like a unicode bidi bn code point, meaning it has no effect on bidi-ordering: 123,456 displays, when not broken on two lines, 123,456 and not 456,123. for the same reason, the element does not introduce a hyphen at the line break point. to make a hyphen appear only at the end of a line, use the soft hyphen character entity (\\xad) instead. my website a website created by me. lilly was a little girl, castle of walls. life is good.', \"page title the function selectall() highlights all the text in the input field so the user can, for example, copy or delete the text. my bad can't find anything better. how can i be this silly, but it doesn't matter anyway, hahah\"]\n"
     ]
    }
   ],
   "source": [
    "# Normalization\n",
    "corpus = html_data\n",
    "lower_corpus=[]\n",
    "print(corpus)\n",
    "for i in range(len(corpus)):\n",
    "  lower_corpus.append(' '.join([word.lower() for word in corpus[i].split()]))\n",
    "print(lower_corpus)"
   ]
  },
  {
   "cell_type": "code",
   "execution_count": 219,
   "metadata": {
    "colab": {
     "base_uri": "https://localhost:8080/",
     "height": 0
    },
    "id": "yvGIG8aoLM8y",
    "outputId": "60697c5a-3ce4-4875-edb5-5f5727d70268"
   },
   "outputs": [
    {
     "name": "stdout",
     "output_type": "stream",
     "text": [
      "[['the', 'dormouse', 'story', 'the', 'dormouse', 'story', 'once', 'upon', 'a', 'time', 'there', 'were', 'three', 'little', 'sisters', 'and', 'their', 'names', 'were', 'elsie', 'lacie', 'and', 'tillie', 'and', 'they', 'lived', 'at', 'the', 'bottom', 'of', 'a', 'well'], ['page', 'title', 'on', 'encoded', 'pages', 'behaves', 'like', 'the', 'space', 'code', 'point', 'in', 'particular', 'it', 'behaves', 'like', 'a', 'unicode', 'bidi', 'bn', 'code', 'point', 'meaning', 'it', 'has', 'no', 'effect', 'on', 'displays', 'when', 'not', 'broken', 'on', 'two', 'lines', 'and', 'not', 'for', 'the', 'same', 'reason', 'the', 'element', 'does', 'not', 'introduce', 'a', 'hyphen', 'at', 'the', 'line', 'break', 'point', 'to', 'make', 'a', 'hyphen', 'appear', 'only', 'at', 'the', 'end', 'of', 'a', 'line', 'use', 'the', 'soft', 'hyphen', 'character', 'entity', 'instead', 'my', 'website', 'a', 'website', 'created', 'by', 'me', 'lilly', 'was', 'a', 'little', 'girl', 'castle', 'of', 'walls', 'life', 'is', 'good'], ['page', 'title', 'the', 'function', 'selectall', 'highlights', 'all', 'the', 'text', 'in', 'the', 'input', 'field', 'so', 'the', 'user', 'can', 'for', 'example', 'copy', 'or', 'delete', 'the', 'text', 'my', 'bad', 'ca', 'find', 'anything', 'better', 'how', 'can', 'i', 'be', 'this', 'silly', 'but', 'it', 'does', 'matter', 'anyway', 'hahah']]\n"
     ]
    }
   ],
   "source": [
    "# tokenization\n",
    "from nltk.tokenize import word_tokenize\n",
    "tokenized_corpus=[]\n",
    "for i in range(len(lower_corpus)):\n",
    "  tokenized_corpus.append([word for word in word_tokenize(lower_corpus[i]) if word.isalpha()] )\n",
    "print(tokenized_corpus)"
   ]
  },
  {
   "cell_type": "code",
   "execution_count": 220,
   "metadata": {
    "colab": {
     "base_uri": "https://localhost:8080/",
     "height": 0
    },
    "id": "tZomAEwjuduH",
    "outputId": "5fb3054d-52ae-4ce2-a17e-58cc9c267527"
   },
   "outputs": [
    {
     "name": "stdout",
     "output_type": "stream",
     "text": [
      "[['dormouse', 'story', 'dormouse', 'story', 'upon', 'time', 'three', 'little', 'sisters', 'names', 'elsie', 'lacie', 'tillie', 'lived', 'bottom', 'well'], ['page', 'title', 'encoded', 'pages', 'behaves', 'like', 'space', 'code', 'point', 'particular', 'behaves', 'like', 'unicode', 'bidi', 'bn', 'code', 'point', 'meaning', 'effect', 'displays', 'broken', 'two', 'lines', 'reason', 'element', 'introduce', 'hyphen', 'line', 'break', 'point', 'make', 'hyphen', 'appear', 'end', 'line', 'use', 'soft', 'hyphen', 'character', 'entity', 'instead', 'website', 'website', 'created', 'lilly', 'little', 'girl', 'castle', 'walls', 'life', 'good'], ['page', 'title', 'function', 'selectall', 'highlights', 'text', 'input', 'field', 'user', 'example', 'copy', 'delete', 'text', 'bad', 'ca', 'find', 'anything', 'better', 'silly', 'matter', 'anyway', 'hahah']]\n"
     ]
    }
   ],
   "source": [
    "# stopwords removal\n",
    "from nltk.corpus import stopwords\n",
    "stop=stopwords.words(fileids='english')\n",
    "tokenized_corpus_nostop=[]\n",
    "for i in range(len(tokenized_corpus)):\n",
    "  tokenized_corpus_nostop.append([word for word in tokenized_corpus[i] if word not in stop])\n",
    "print(tokenized_corpus_nostop)"
   ]
  },
  {
   "cell_type": "code",
   "execution_count": 221,
   "metadata": {
    "colab": {
     "base_uri": "https://localhost:8080/",
     "height": 0
    },
    "id": "MDHgJTC_ujyJ",
    "outputId": "5af03383-722b-4139-cd0f-952470fb586f"
   },
   "outputs": [
    {
     "name": "stdout",
     "output_type": "stream",
     "text": [
      "[['dormouse', 'story', 'dormouse', 'story', 'upon', 'time', 'three', 'little', 'sister', 'name', 'elsie', 'lacie', 'tillie', 'lived', 'bottom', 'well'], ['page', 'title', 'encoded', 'page', 'behaves', 'like', 'space', 'code', 'point', 'particular', 'behaves', 'like', 'unicode', 'bidi', 'bn', 'code', 'point', 'meaning', 'effect', 'display', 'broken', 'two', 'line', 'reason', 'element', 'introduce', 'hyphen', 'line', 'break', 'point', 'make', 'hyphen', 'appear', 'end', 'line', 'use', 'soft', 'hyphen', 'character', 'entity', 'instead', 'website', 'website', 'created', 'lilly', 'little', 'girl', 'castle', 'wall', 'life', 'good'], ['page', 'title', 'function', 'selectall', 'highlight', 'text', 'input', 'field', 'user', 'example', 'copy', 'delete', 'text', 'bad', 'ca', 'find', 'anything', 'better', 'silly', 'matter', 'anyway', 'hahah']]\n"
     ]
    }
   ],
   "source": [
    "# lemmatization\n",
    "from nltk.stem import WordNetLemmatizer \n",
    "lemmatizer = WordNetLemmatizer() \n",
    "tokenized_corpus_nostop_lemmatized=[]\n",
    "for i in range(len(tokenized_corpus_nostop)):\n",
    "  tokenized_corpus_nostop_lemmatized.append([lemmatizer.lemmatize(word) for word in tokenized_corpus_nostop[i]])\n",
    "print(tokenized_corpus_nostop_lemmatized)"
   ]
  },
  {
   "cell_type": "code",
   "execution_count": 222,
   "metadata": {
    "colab": {
     "base_uri": "https://localhost:8080/",
     "height": 0
    },
    "id": "xDD8BBA_uq6Y",
    "outputId": "0e962133-c573-4cdf-bc7d-7de03c8ed9c5"
   },
   "outputs": [
    {
     "name": "stdout",
     "output_type": "stream",
     "text": [
      "72\n",
      "['anything', 'anyway', 'appear', 'bad', 'behaves', 'better', 'bidi', 'bn', 'bottom', 'break', 'broken', 'ca', 'castle', 'character', 'code', 'copy', 'created', 'delete', 'display', 'dormouse', 'effect', 'element', 'elsie', 'encoded', 'end', 'entity', 'example', 'field', 'find', 'function', 'girl', 'good', 'hahah', 'highlight', 'hyphen', 'input', 'instead', 'introduce', 'lacie', 'life', 'like', 'lilly', 'line', 'little', 'lived', 'make', 'matter', 'meaning', 'name', 'page', 'particular', 'point', 'reason', 'selectall', 'silly', 'sister', 'soft', 'space', 'story', 'text', 'three', 'tillie', 'time', 'title', 'two', 'unicode', 'upon', 'use', 'user', 'wall', 'website', 'well']\n"
     ]
    }
   ],
   "source": [
    "# creating feature vector\n",
    "features = []\n",
    "for i in range(len(tokenized_corpus_nostop_lemmatized)):\n",
    "  for word in tokenized_corpus_nostop_lemmatized[i]:\n",
    "    if word not in features:\n",
    "      features.append(word)\n",
    "features.sort()\n",
    "print(len(features))\n",
    "print(features)"
   ]
  }
 ],
 "metadata": {
  "colab": {
   "collapsed_sections": [],
   "name": "101803186_ML_LAB_assign_1.ipynb",
   "provenance": [],
   "toc_visible": true
  },
  "kernelspec": {
   "display_name": "Python 3",
   "language": "python",
   "name": "python3"
  },
  "language_info": {
   "codemirror_mode": {
    "name": "ipython",
    "version": 3
   },
   "file_extension": ".py",
   "mimetype": "text/x-python",
   "name": "python",
   "nbconvert_exporter": "python",
   "pygments_lexer": "ipython3",
   "version": "3.8.5"
  }
 },
 "nbformat": 4,
 "nbformat_minor": 1
}
