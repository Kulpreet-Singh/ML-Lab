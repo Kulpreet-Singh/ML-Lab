{
  "nbformat": 4,
  "nbformat_minor": 0,
  "metadata": {
    "colab": {
      "name": "101803186_ML_LAB_assign_6.ipynb",
      "provenance": []
    },
    "kernelspec": {
      "name": "python3",
      "display_name": "Python 3"
    },
    "language_info": {
      "name": "python"
    }
  },
  "cells": [
    {
      "cell_type": "markdown",
      "metadata": {
        "id": "5E4puCe3yJNJ"
      },
      "source": [
        "#Assignment-6 Machine Learning Lab\n",
        "**RollNo: 101803186, Name: Kulpreet Singh, Group: 3COE9**"
      ]
    },
    {
      "cell_type": "markdown",
      "metadata": {
        "id": "LEEKBOdAyYi0"
      },
      "source": [
        "#Q1: Multiclass Logistic Regression\n",
        "Implement Multiclass Logistic Regression (step-by-step) on Iris\n",
        "dataset using one vs. rest strategy?"
      ]
    },
    {
      "cell_type": "code",
      "metadata": {
        "colab": {
          "base_uri": "https://localhost:8080/",
          "height": 402
        },
        "id": "RdwRkI_0HkvE",
        "outputId": "45098ad7-756e-490e-e1fc-3518fa8789e6"
      },
      "source": [
        "#importing dataset\n",
        "import numpy as np\n",
        "import pandas as pd\n",
        "from sklearn import datasets\n",
        "iris=datasets.load_iris()\n",
        "X=pd.DataFrame(iris.data, columns = iris.feature_names)\n",
        "X"
      ],
      "execution_count": 4,
      "outputs": [
        {
          "output_type": "execute_result",
          "data": {
            "text/html": [
              "<div>\n",
              "<style scoped>\n",
              "    .dataframe tbody tr th:only-of-type {\n",
              "        vertical-align: middle;\n",
              "    }\n",
              "\n",
              "    .dataframe tbody tr th {\n",
              "        vertical-align: top;\n",
              "    }\n",
              "\n",
              "    .dataframe thead th {\n",
              "        text-align: right;\n",
              "    }\n",
              "</style>\n",
              "<table border=\"1\" class=\"dataframe\">\n",
              "  <thead>\n",
              "    <tr style=\"text-align: right;\">\n",
              "      <th></th>\n",
              "      <th>sepal length (cm)</th>\n",
              "      <th>sepal width (cm)</th>\n",
              "      <th>petal length (cm)</th>\n",
              "      <th>petal width (cm)</th>\n",
              "    </tr>\n",
              "  </thead>\n",
              "  <tbody>\n",
              "    <tr>\n",
              "      <th>0</th>\n",
              "      <td>5.1</td>\n",
              "      <td>3.5</td>\n",
              "      <td>1.4</td>\n",
              "      <td>0.2</td>\n",
              "    </tr>\n",
              "    <tr>\n",
              "      <th>1</th>\n",
              "      <td>4.9</td>\n",
              "      <td>3.0</td>\n",
              "      <td>1.4</td>\n",
              "      <td>0.2</td>\n",
              "    </tr>\n",
              "    <tr>\n",
              "      <th>2</th>\n",
              "      <td>4.7</td>\n",
              "      <td>3.2</td>\n",
              "      <td>1.3</td>\n",
              "      <td>0.2</td>\n",
              "    </tr>\n",
              "    <tr>\n",
              "      <th>3</th>\n",
              "      <td>4.6</td>\n",
              "      <td>3.1</td>\n",
              "      <td>1.5</td>\n",
              "      <td>0.2</td>\n",
              "    </tr>\n",
              "    <tr>\n",
              "      <th>4</th>\n",
              "      <td>5.0</td>\n",
              "      <td>3.6</td>\n",
              "      <td>1.4</td>\n",
              "      <td>0.2</td>\n",
              "    </tr>\n",
              "    <tr>\n",
              "      <th>...</th>\n",
              "      <td>...</td>\n",
              "      <td>...</td>\n",
              "      <td>...</td>\n",
              "      <td>...</td>\n",
              "    </tr>\n",
              "    <tr>\n",
              "      <th>145</th>\n",
              "      <td>6.7</td>\n",
              "      <td>3.0</td>\n",
              "      <td>5.2</td>\n",
              "      <td>2.3</td>\n",
              "    </tr>\n",
              "    <tr>\n",
              "      <th>146</th>\n",
              "      <td>6.3</td>\n",
              "      <td>2.5</td>\n",
              "      <td>5.0</td>\n",
              "      <td>1.9</td>\n",
              "    </tr>\n",
              "    <tr>\n",
              "      <th>147</th>\n",
              "      <td>6.5</td>\n",
              "      <td>3.0</td>\n",
              "      <td>5.2</td>\n",
              "      <td>2.0</td>\n",
              "    </tr>\n",
              "    <tr>\n",
              "      <th>148</th>\n",
              "      <td>6.2</td>\n",
              "      <td>3.4</td>\n",
              "      <td>5.4</td>\n",
              "      <td>2.3</td>\n",
              "    </tr>\n",
              "    <tr>\n",
              "      <th>149</th>\n",
              "      <td>5.9</td>\n",
              "      <td>3.0</td>\n",
              "      <td>5.1</td>\n",
              "      <td>1.8</td>\n",
              "    </tr>\n",
              "  </tbody>\n",
              "</table>\n",
              "<p>150 rows × 4 columns</p>\n",
              "</div>"
            ],
            "text/plain": [
              "     sepal length (cm)  sepal width (cm)  petal length (cm)  petal width (cm)\n",
              "0                  5.1               3.5                1.4               0.2\n",
              "1                  4.9               3.0                1.4               0.2\n",
              "2                  4.7               3.2                1.3               0.2\n",
              "3                  4.6               3.1                1.5               0.2\n",
              "4                  5.0               3.6                1.4               0.2\n",
              "..                 ...               ...                ...               ...\n",
              "145                6.7               3.0                5.2               2.3\n",
              "146                6.3               2.5                5.0               1.9\n",
              "147                6.5               3.0                5.2               2.0\n",
              "148                6.2               3.4                5.4               2.3\n",
              "149                5.9               3.0                5.1               1.8\n",
              "\n",
              "[150 rows x 4 columns]"
            ]
          },
          "metadata": {
            "tags": []
          },
          "execution_count": 4
        }
      ]
    },
    {
      "cell_type": "code",
      "metadata": {
        "colab": {
          "base_uri": "https://localhost:8080/"
        },
        "id": "5Zj2VZTJXZ58",
        "outputId": "58c7b1a4-967f-4ad6-c7b1-5fce36e164ff"
      },
      "source": [
        "y=pd.DataFrame(iris.target)\n",
        "y.info()"
      ],
      "execution_count": 5,
      "outputs": [
        {
          "output_type": "stream",
          "text": [
            "<class 'pandas.core.frame.DataFrame'>\n",
            "RangeIndex: 150 entries, 0 to 149\n",
            "Data columns (total 1 columns):\n",
            " #   Column  Non-Null Count  Dtype\n",
            "---  ------  --------------  -----\n",
            " 0   0       150 non-null    int64\n",
            "dtypes: int64(1)\n",
            "memory usage: 1.3 KB\n"
          ],
          "name": "stdout"
        }
      ]
    },
    {
      "cell_type": "code",
      "metadata": {
        "colab": {
          "base_uri": "https://localhost:8080/",
          "height": 279
        },
        "id": "cP4wkjI0Xc9x",
        "outputId": "a9845e6d-3326-4866-9ed3-d429df1f1372"
      },
      "source": [
        "import matplotlib.pyplot as plt\n",
        "x = X.values\n",
        "y = y.values\n",
        "plt.scatter(x[:,0], x[:, 3], c=y, cmap ='flag')\n",
        "plt.xlabel('Sepal Length cm')\n",
        "plt.ylabel('Petal Width cm')\n",
        "plt.show()"
      ],
      "execution_count": 6,
      "outputs": [
        {
          "output_type": "display_data",
          "data": {
            "image/png": "[encoded data removed]",
            "text/plain": [
              "<Figure size 432x288 with 1 Axes>"
            ]
          },
          "metadata": {
            "tags": [],
            "needs_background": "light"
          }
        }
      ]
    },
    {
      "cell_type": "code",
      "metadata": {
        "id": "Ojmrtjr1pH7E"
      },
      "source": [
        "#data preprocessing\n",
        "y=np.array(y)\n",
        "y=y.reshape(-1,1)\n",
        "from sklearn.preprocessing import StandardScaler\n",
        "scaler=StandardScaler()\n",
        "X_scaled=scaler.fit_transform(X)\n",
        "X_scaled= np.insert(X_scaled, 0, values=1, axis=1)"
      ],
      "execution_count": 7,
      "outputs": []
    },
    {
      "cell_type": "code",
      "metadata": {
        "id": "UETcB_GMvUxh"
      },
      "source": [
        "#logistic regression procedure\n",
        "def hypothesis(theta, X):\n",
        "  #print(\"theta.shape: \",theta.shape,\"X.shape: \",X.shape)R\n",
        "  z=np.dot(X,theta)\n",
        "  #print(\"z.shape: \",z.shape)I\n",
        "  h=1/(1+np.exp(-z))\n",
        "  return h\n",
        "def cost(X, y, theta):\n",
        "  y1 = hypothesis(theta,X)\n",
        "  J=-(1/len(X)) * np.sum(y*np.log(y1) + (1-y)*np.log(1-y1))\n",
        "  return J\n",
        "def gradient_descent(X,y,alpha,iterations):\n",
        "  theta=[]\n",
        "  for i in range(X.shape[1]):\n",
        "    theta.append([0])\n",
        "  theta=np.array(theta)  \n",
        "  #print(theta.shape)\n",
        "  #print(\"theta: \",theta)\n",
        "  for i in range(iterations):\n",
        "    y1 = hypothesis(theta,X)\n",
        "    #print(\"y1.shape: \",y1.shape)N\n",
        "    partial_derivative=(1/len(X))*(np.dot(X.T,(y1-y)))\n",
        "    #print(\"partial_derivative.shape: \",partial_derivative.shape)Z\n",
        "    #print(\"theta.shape: \",theta.shape)L\n",
        "    theta=theta-(alpha*partial_derivative)\n",
        "  return theta\n",
        "def fit(X,y,alpha,iterations):\n",
        "  print(\"Fitting the given dataset..\")\n",
        "  theta__=[]\n",
        "  #cost__=[]\n",
        "  X=np.insert(X, 0, 1, axis=1)\n",
        "  m=len(y)\n",
        "  for i in np.unique(y):\n",
        "    print('Descending the gradient for label type ' + str(i) + ' vs Rest')\n",
        "    y_onevsall=np.where(y == i, 1, 0)\n",
        "    theta=[]\n",
        "    theta=gradient_descent(X,y_onevsall,alpha,iterations)\n",
        "    #cost__.append((cost(X,y_onevsall,theta),i))E\n",
        "    theta__.append((theta))\n",
        "  return theta__"
      ],
      "execution_count": 8,
      "outputs": []
    },
    {
      "cell_type": "code",
      "metadata": {
        "colab": {
          "base_uri": "https://localhost:8080/"
        },
        "id": "4SpZ4gpPvZhn",
        "outputId": "dee797a9-b98e-4981-f9f8-0726900bbf09"
      },
      "source": [
        "#Split the dataset.\n",
        "from sklearn.model_selection import train_test_split\n",
        "X_train, X_test, Y_train, Y_test = train_test_split(X_scaled, y, test_size=0.3, random_state=42)\n",
        "\n",
        "#Fit the dataset in logistic regression procedure.\n",
        "theta__=fit(X_train,Y_train,0.1,30000)"
      ],
      "execution_count": 9,
      "outputs": [
        {
          "output_type": "stream",
          "text": [
            "Fitting the given dataset..\n",
            "Descending the gradient for label type 0 vs Rest\n",
            "Descending the gradient for label type 1 vs Rest\n",
            "Descending the gradient for label type 2 vs Rest\n"
          ],
          "name": "stdout"
        }
      ]
    },
    {
      "cell_type": "markdown",
      "metadata": {
        "id": "ckDRqKHozHwu"
      },
      "source": [
        "We have the theta for each i vs Rest."
      ]
    },
    {
      "cell_type": "code",
      "metadata": {
        "colab": {
          "base_uri": "https://localhost:8080/"
        },
        "id": "7XJcneEEviZ5",
        "outputId": "3b99a482-9d73-4d7a-cb7e-d3c0f195b251"
      },
      "source": [
        "print(len(theta__))\n",
        "theta__"
      ],
      "execution_count": 10,
      "outputs": [
        {
          "output_type": "stream",
          "text": [
            "3\n"
          ],
          "name": "stdout"
        },
        {
          "output_type": "execute_result",
          "data": {
            "text/plain": [
              "[array([[-2.46688149],\n",
              "        [-2.46688149],\n",
              "        [-1.99984895],\n",
              "        [ 2.81079799],\n",
              "        [-4.2876011 ],\n",
              "        [-3.82027555]]), array([[-0.54946772],\n",
              "        [-0.54946772],\n",
              "        [-0.1256841 ],\n",
              "        [-1.48460785],\n",
              "        [ 1.820633  ],\n",
              "        [-1.78903856]]), array([[-5.89569342],\n",
              "        [-5.89569342],\n",
              "        [-1.13383637],\n",
              "        [-2.16203172],\n",
              "        [ 9.26664591],\n",
              "        [ 8.51816915]])]"
            ]
          },
          "metadata": {
            "tags": []
          },
          "execution_count": 10
        }
      ]
    },
    {
      "cell_type": "code",
      "metadata": {
        "id": "ZT2MKYOOvoAB"
      },
      "source": [
        "#preprocess the X_test\n",
        "X_test1 = np.insert(X_test, 0, values=1, axis=1)"
      ],
      "execution_count": 11,
      "outputs": []
    },
    {
      "cell_type": "markdown",
      "metadata": {
        "id": "GCiQbRGEwkks"
      },
      "source": [
        "Predict the y for 0 vs Rest."
      ]
    },
    {
      "cell_type": "code",
      "metadata": {
        "colab": {
          "base_uri": "https://localhost:8080/"
        },
        "id": "KgpTWNI-v6HK",
        "outputId": "6925d2d2-2773-41a2-df98-e950a195c812"
      },
      "source": [
        "y_predict=X_test1.dot(theta__[0])\n",
        "print(y_predict.shape)"
      ],
      "execution_count": 12,
      "outputs": [
        {
          "output_type": "stream",
          "text": [
            "(45, 1)\n"
          ],
          "name": "stdout"
        }
      ]
    },
    {
      "cell_type": "code",
      "metadata": {
        "id": "bGTf2jzwwpBH"
      },
      "source": [
        "Y_predict0=hypothesis(theta__[0],X_test1)\n",
        "Y_label0=np.zeros(len(Y_predict0))\n",
        "for i in range(len(Y_predict0)):\n",
        "  if(Y_predict0[i]>=0.5):\n",
        "    Y_label0[i]=1"
      ],
      "execution_count": 13,
      "outputs": []
    },
    {
      "cell_type": "code",
      "metadata": {
        "colab": {
          "base_uri": "https://localhost:8080/"
        },
        "id": "ZdIldjHawq3f",
        "outputId": "f64f0abc-4807-4668-fb57-bea1df874392"
      },
      "source": [
        "np.unique(Y_label0)"
      ],
      "execution_count": 14,
      "outputs": [
        {
          "output_type": "execute_result",
          "data": {
            "text/plain": [
              "array([0., 1.])"
            ]
          },
          "metadata": {
            "tags": []
          },
          "execution_count": 14
        }
      ]
    },
    {
      "cell_type": "code",
      "metadata": {
        "colab": {
          "base_uri": "https://localhost:8080/"
        },
        "id": "vYEPLXsYwslm",
        "outputId": "b1057392-bea3-423f-960d-9e4d0efc88cd"
      },
      "source": [
        "Y_test1=[]\n",
        "for i in range(len(Y_test)):\n",
        "  Y_test1.append(Y_test[i][0])\n",
        "Y_test1=np.array(Y_test1)\n",
        "Y_test1"
      ],
      "execution_count": 15,
      "outputs": [
        {
          "output_type": "execute_result",
          "data": {
            "text/plain": [
              "array([1, 0, 2, 1, 1, 0, 1, 2, 1, 1, 2, 0, 0, 0, 0, 1, 2, 1, 1, 2, 0, 2,\n",
              "       0, 2, 2, 2, 2, 2, 0, 0, 0, 0, 1, 0, 0, 2, 1, 0, 0, 0, 2, 1, 1, 0,\n",
              "       0])"
            ]
          },
          "metadata": {
            "tags": []
          },
          "execution_count": 15
        }
      ]
    },
    {
      "cell_type": "code",
      "metadata": {
        "colab": {
          "base_uri": "https://localhost:8080/"
        },
        "id": "whKuef6Qwu3x",
        "outputId": "97d472cb-8dd8-4b03-b516-723e467afea9"
      },
      "source": [
        "TP=0\n",
        "TN=0\n",
        "FP=0\n",
        "FN=0\n",
        "Y_test1=np.array(Y_test1).reshape(-1,1)\n",
        "for i in range(len(Y_label0)):\n",
        "  if ((Y_test1[i]==1 or Y_test1[i]==2) and Y_label0[i]==1):\n",
        "    TP=TP+1\n",
        "  if ((Y_test1[i]==1 or Y_test1[i]==2) and Y_label0[i]==0):\n",
        "    FN=FN+1\n",
        "  if (Y_test1[i]==0 and Y_label0[i]==1):\n",
        "    FP=FP+1\n",
        "  if (Y_test1[i]==0 and Y_label0[i]==0):\n",
        "    TN=TN+1\n",
        "print(\"TP: \",TP,\"\\nTN: \",TN,\"\\nFP: \",FP,\"\\nFN: \",FN)\n",
        "accuracy=(TP+TN)/(TP+TN+FP+FN)\n",
        "try:\n",
        "  print(\"accuracy: \",accuracy)\n",
        "  #For positive class:R\n",
        "  precision_pos=TP/(TP+FP)\n",
        "  recall_pos=TP/(TP+FN)\n",
        "  f1_score_pos=2*precision_pos*recall_pos/(precision_pos+recall_pos)\n",
        "  print(precision_pos,recall_pos,f1_score_pos)\n",
        "  #For negative classH\n",
        "  precision_neg=TN/(TN+FN)\n",
        "  recall_neg=TN/(TN+FP)\n",
        "  f1_score_neg=2*precision_neg*recall_neg/(precision_neg+recall_neg)\n",
        "  print(precision_neg,recall_neg,f1_score_neg)\n",
        "\n",
        "except:\n",
        "  print(\"The values which are not given are infinite\")"
      ],
      "execution_count": 16,
      "outputs": [
        {
          "output_type": "stream",
          "text": [
            "TP:  0 \n",
            "TN:  0 \n",
            "FP:  19 \n",
            "FN:  26\n",
            "accuracy:  0.0\n",
            "The values which are not given are infinite\n"
          ],
          "name": "stdout"
        }
      ]
    },
    {
      "cell_type": "markdown",
      "metadata": {
        "id": "ayRsxwCww-__"
      },
      "source": [
        "Predict the y for 1 vs Rest."
      ]
    },
    {
      "cell_type": "code",
      "metadata": {
        "id": "pOWT43cow0X5"
      },
      "source": [
        "Y_predict1=hypothesis(theta__[1],X_test1)\n",
        "Y_label1=np.zeros(len(Y_predict1))\n",
        "for i in range(len(Y_predict1)):\n",
        "  if(Y_predict1[i]>=0.5):\n",
        "    Y_label1[i]=1"
      ],
      "execution_count": 17,
      "outputs": []
    },
    {
      "cell_type": "code",
      "metadata": {
        "colab": {
          "base_uri": "https://localhost:8080/"
        },
        "id": "C7Q7vvfoxBws",
        "outputId": "4a36d6a2-3505-40e8-ffb8-a34a9b88dfaf"
      },
      "source": [
        "Y_label1"
      ],
      "execution_count": 18,
      "outputs": [
        {
          "output_type": "execute_result",
          "data": {
            "text/plain": [
              "array([1., 0., 1., 0., 1., 0., 0., 0., 1., 1., 0., 0., 0., 0., 0., 0., 0.,\n",
              "       1., 1., 0., 0., 0., 0., 0., 0., 0., 1., 0., 0., 0., 0., 0., 0., 0.,\n",
              "       0., 1., 0., 0., 0., 0., 0., 0., 0., 0., 0.])"
            ]
          },
          "metadata": {
            "tags": []
          },
          "execution_count": 18
        }
      ]
    },
    {
      "cell_type": "code",
      "metadata": {
        "colab": {
          "base_uri": "https://localhost:8080/"
        },
        "id": "NNS1hiB1xEBp",
        "outputId": "659cf07d-0fcb-465c-f1c5-5d88f5342163"
      },
      "source": [
        "TP=0\n",
        "TN=0\n",
        "FP=0\n",
        "FN=0\n",
        "Y_test1=np.array(Y_test1).reshape(-1,1)\n",
        "for i in range(len(Y_label1)):\n",
        "  if(Y_test1[i]==2 and Y_label1[i]==1):\n",
        "    TP=TP+1\n",
        "  if(Y_test1[i]==2 and Y_label1[i]==0):\n",
        "    FN=FN+1\n",
        "  if((Y_test1[i]==0 or Y_test1[i]==1) and Y_label1[i]==1):\n",
        "    FP=FP+1\n",
        "  if((Y_test1[i]==0 or Y_test1[i]==1) and Y_label1[i]==0):\n",
        "    TN=TN+1\n",
        "print(\"TP: \",TP,\"TN: \",TN,\"FP: \",FP,\"FN: \",FN)\n",
        "accuracy=(TP+TN)/(TP+TN+FP+FN)\n",
        "print(\"accuracy: \",accuracy)\n",
        "#For positive class:A\n",
        "precision_pos=TP/(TP+FP)\n",
        "recall_pos=TP/(TP+FN)\n",
        "f1_score_pos=2*precision_pos*recall_pos/(precision_pos+recall_pos)\n",
        "print(\"\\nprecision_pos: \",precision_pos,\"\\nrecall_pos: \",recall_pos,\"\\nf1_score_pos: \", f1_score_pos)\n",
        "#For negative class R\n",
        "precision_neg=TN/(TN+FN)\n",
        "recall_neg=TN/(TN+FP)\n",
        "f1_score_neg=2*precision_neg*recall_neg/(precision_neg+recall_neg)\n",
        "print(\"\\nprecision_neg: \", precision_neg,\"\\nrecall_neg: \",recall_neg,\"\\nf1_score_neg: \",f1_score_neg)"
      ],
      "execution_count": 19,
      "outputs": [
        {
          "output_type": "stream",
          "text": [
            "TP:  3 TN:  26 FP:  6 FN:  10\n",
            "accuracy:  0.6444444444444445\n",
            "\n",
            "precision_pos:  0.3333333333333333 \n",
            "recall_pos:  0.23076923076923078 \n",
            "f1_score_pos:  0.27272727272727276\n",
            "\n",
            "precision_neg:  0.7222222222222222 \n",
            "recall_neg:  0.8125 \n",
            "f1_score_neg:  0.7647058823529411\n"
          ],
          "name": "stdout"
        }
      ]
    },
    {
      "cell_type": "markdown",
      "metadata": {
        "id": "Fwdwpuy1xKx6"
      },
      "source": [
        "Predict the y for 2 vs Rest."
      ]
    },
    {
      "cell_type": "code",
      "metadata": {
        "id": "GI0PDm3fxH5J"
      },
      "source": [
        "Y_predict2=hypothesis(theta__[2],X_test1)\n",
        "Y_label2=np.zeros(len(Y_predict2))\n",
        "for i in range(len(Y_predict2)):\n",
        "  if(Y_predict2[i]>=0.5):\n",
        "    Y_label2[i]=1"
      ],
      "execution_count": 20,
      "outputs": []
    },
    {
      "cell_type": "code",
      "metadata": {
        "colab": {
          "base_uri": "https://localhost:8080/"
        },
        "id": "51yaUefNxNGj",
        "outputId": "2a7de384-49c3-4134-c97b-2e10c0fa49ea"
      },
      "source": [
        "Y_label2"
      ],
      "execution_count": 21,
      "outputs": [
        {
          "output_type": "execute_result",
          "data": {
            "text/plain": [
              "array([0., 0., 1., 0., 0., 0., 0., 1., 0., 0., 1., 0., 0., 0., 0., 0., 1.,\n",
              "       0., 0., 1., 0., 1., 0., 1., 1., 1., 1., 1., 0., 0., 0., 0., 0., 0.,\n",
              "       0., 1., 0., 0., 0., 0., 1., 0., 0., 0., 0.])"
            ]
          },
          "metadata": {
            "tags": []
          },
          "execution_count": 21
        }
      ]
    },
    {
      "cell_type": "code",
      "metadata": {
        "colab": {
          "base_uri": "https://localhost:8080/"
        },
        "id": "gBzn4ED-xPSw",
        "outputId": "10dd1a9d-897e-4c22-aa87-9aaccfc99264"
      },
      "source": [
        "TP=0\n",
        "TN=0\n",
        "FP=0\n",
        "FN=0\n",
        "Y_test1=np.array(Y_test1).reshape(-1,1)\n",
        "for i in range(len(Y_label2)):\n",
        "  if (Y_test1[i]==2 and Y_label2[i]==1):\n",
        "    TP=TP+1\n",
        "  if (Y_test1[i]==2 and Y_label2[i]==0):\n",
        "    FN=FN+1\n",
        "  if ((Y_test1[i]==0 or Y_test1[i]==1) and Y_label2[i]==1):\n",
        "    FP=FP+1\n",
        "  if ((Y_test1[i]==0 or Y_test[i]==1) and Y_label2[i]==0):\n",
        "    TN=TN+1\n",
        "print(\"TP: \",TP,\"TN: \",TN,\"FP: \",FP,\"FN: \",FN)\n",
        "accuracy=(TP+TN)/(TP+TN+FP+FN)\n",
        "print(\"accuracy: \",accuracy)\n",
        "#For positive class S\n",
        "precision_pos=TP/(TP+FP)\n",
        "recall_pos=TP/(TP+FN)\n",
        "f1_score_pos=2*precision_pos*recall_pos/(precision_pos+recall_pos)\n",
        "print(\"\\nprecision_pos: \",precision_pos,\"\\nrecall_pos: \",recall_pos,\"\\nf1_score_pos: \", f1_score_pos)\n",
        "#For negative class H\n",
        "precision_neg=TN/(TN+FN)\n",
        "recall_neg=TN/(TN+FP)\n",
        "f1_score_neg=2*precision_neg*recall_neg/(precision_neg+recall_neg)\n",
        "print(\"\\nprecision_neg: \", precision_neg,\"\\nrecall_neg: \",recall_neg,\"\\nf1_score_neg: \",f1_score_neg)"
      ],
      "execution_count": 22,
      "outputs": [
        {
          "output_type": "stream",
          "text": [
            "TP:  13 TN:  32 FP:  0 FN:  0\n",
            "accuracy:  1.0\n",
            "\n",
            "precision_pos:  1.0 \n",
            "recall_pos:  1.0 \n",
            "f1_score_pos:  1.0\n",
            "\n",
            "precision_neg:  1.0 \n",
            "recall_neg:  1.0 \n",
            "f1_score_neg:  1.0\n"
          ],
          "name": "stdout"
        }
      ]
    },
    {
      "cell_type": "code",
      "metadata": {
        "colab": {
          "base_uri": "https://localhost:8080/"
        },
        "id": "gx7e4VpkxSJh",
        "outputId": "ccb00275-9787-4433-a899-531b26443bdc"
      },
      "source": [
        "macro_precision=(precision_pos+precision_neg)/2\n",
        "macro_recall=(recall_pos+recall_neg)/2\n",
        "macro_f1_score=(f1_score_pos+f1_score_neg)/2\n",
        "print(\"macro_precision: \",macro_precision,\"\\nmacro_recall: \",macro_recall,\"\\nmacro_f1_score: \",macro_f1_score)"
      ],
      "execution_count": 23,
      "outputs": [
        {
          "output_type": "stream",
          "text": [
            "macro_precision:  1.0 \n",
            "macro_recall:  1.0 \n",
            "macro_f1_score:  1.0\n"
          ],
          "name": "stdout"
        }
      ]
    },
    {
      "cell_type": "code",
      "metadata": {
        "colab": {
          "base_uri": "https://localhost:8080/"
        },
        "id": "CcKS_fPXxVRi",
        "outputId": "35698c2c-d1ec-4256-ef85-577cc16708d8"
      },
      "source": [
        "#Weighted Average:\n",
        "l1=len(Y_test[Y_test==0])\n",
        "l2=len(Y_test[Y_test==1])\n",
        "weighted_precision=(l1*precision_neg+l2*precision_pos)/(l1+l2)\n",
        "weighted_recall=(l1*recall_neg+l2*recall_pos)/(l1+l2)\n",
        "weighted_f1_score=(l1*f1_score_neg+l2*f1_score_pos)/(l1+l2)\n",
        "print(\"weighted_precision: \",weighted_precision,\"\\nweighted_recall: \",weighted_recall,\"\\nweighted_f1_score: \",weighted_f1_score)"
      ],
      "execution_count": 24,
      "outputs": [
        {
          "output_type": "stream",
          "text": [
            "weighted_precision:  1.0 \n",
            "weighted_recall:  1.0 \n",
            "weighted_f1_score:  1.0\n"
          ],
          "name": "stdout"
        }
      ]
    },
    {
      "cell_type": "code",
      "metadata": {
        "colab": {
          "base_uri": "https://localhost:8080/"
        },
        "id": "cxrF865Ixrtm",
        "outputId": "a4bb2b64-8b26-4c28-a564-323588d373bc"
      },
      "source": [
        "# Logistic regression with In-built fuction\n",
        "from sklearn.linear_model import LogisticRegression\n",
        "from sklearn import metrics\n",
        "lr=LogisticRegression(multi_class=\"multinomial\", solver=\"sag\")\n",
        "#sag denote Stochastic Average Gradient\n",
        "model=lr.fit(X_train,Y_train)\n",
        "Y_label_inbuilt=model.predict(X_test)\n",
        "print(metrics.classification_report(Y_test,Y_label_inbuilt))"
      ],
      "execution_count": 25,
      "outputs": [
        {
          "output_type": "stream",
          "text": [
            "              precision    recall  f1-score   support\n",
            "\n",
            "           0       1.00      1.00      1.00        19\n",
            "           1       1.00      1.00      1.00        13\n",
            "           2       1.00      1.00      1.00        13\n",
            "\n",
            "    accuracy                           1.00        45\n",
            "   macro avg       1.00      1.00      1.00        45\n",
            "weighted avg       1.00      1.00      1.00        45\n",
            "\n"
          ],
          "name": "stdout"
        },
        {
          "output_type": "stream",
          "text": [
            "/usr/local/lib/python3.7/dist-packages/sklearn/utils/validation.py:760: DataConversionWarning: A column-vector y was passed when a 1d array was expected. Please change the shape of y to (n_samples, ), for example using ravel().\n",
            "  y = column_or_1d(y, warn=True)\n"
          ],
          "name": "stderr"
        }
      ]
    },
    {
      "cell_type": "code",
      "metadata": {
        "colab": {
          "base_uri": "https://localhost:8080/"
        },
        "id": "bR7Y0am4xxRn",
        "outputId": "d106eb7a-718f-4aae-be07-21a39f713f80"
      },
      "source": [
        "model"
      ],
      "execution_count": 26,
      "outputs": [
        {
          "output_type": "execute_result",
          "data": {
            "text/plain": [
              "LogisticRegression(C=1.0, class_weight=None, dual=False, fit_intercept=True,\n",
              "                   intercept_scaling=1, l1_ratio=None, max_iter=100,\n",
              "                   multi_class='multinomial', n_jobs=None, penalty='l2',\n",
              "                   random_state=None, solver='sag', tol=0.0001, verbose=0,\n",
              "                   warm_start=False)"
            ]
          },
          "metadata": {
            "tags": []
          },
          "execution_count": 26
        }
      ]
    },
    {
      "cell_type": "code",
      "metadata": {
        "colab": {
          "base_uri": "https://localhost:8080/"
        },
        "id": "KGaAp2v6x04Q",
        "outputId": "717b3bc5-ee98-425b-dd21-7b7efefa0c04"
      },
      "source": [
        "metrics.accuracy_score(Y_test, Y_label_inbuilt)*100"
      ],
      "execution_count": 27,
      "outputs": [
        {
          "output_type": "execute_result",
          "data": {
            "text/plain": [
              "100.0"
            ]
          },
          "metadata": {
            "tags": []
          },
          "execution_count": 27
        }
      ]
    },
    {
      "cell_type": "code",
      "metadata": {
        "colab": {
          "base_uri": "https://localhost:8080/"
        },
        "id": "v2F537crx3ob",
        "outputId": "a360fa17-072c-40a1-c7e9-0b5ba0324a1a"
      },
      "source": [
        "Y_label_inbuilt"
      ],
      "execution_count": 28,
      "outputs": [
        {
          "output_type": "execute_result",
          "data": {
            "text/plain": [
              "array([1, 0, 2, 1, 1, 0, 1, 2, 1, 1, 2, 0, 0, 0, 0, 1, 2, 1, 1, 2, 0, 2,\n",
              "       0, 2, 2, 2, 2, 2, 0, 0, 0, 0, 1, 0, 0, 2, 1, 0, 0, 0, 2, 1, 1, 0,\n",
              "       0])"
            ]
          },
          "metadata": {
            "tags": []
          },
          "execution_count": 28
        }
      ]
    },
    {
      "cell_type": "markdown",
      "metadata": {
        "id": "Ajzdi6LyztWt"
      },
      "source": [
        "#Q2: Ridge Logistic Regression\n",
        "Download the exam dataset from the following link:\n",
        "https://drive.google.com/file/d/1wH6ofvNGPmORFlCLt72WGhJYPZiXstYh/view?usp=sharing\n",
        "\n",
        "The dataset labels that whether or not the student will get\n",
        "admission on the basis of the two exam scores.\n",
        "The plot of the data against exam1 and exam2\n",
        "\n",
        "As clear from the figure, a linear decision boundary does not\n",
        "fit well. So, fit a Logistic Regression Classifier with\n",
        "polynomial function of test1 and test2 scores upto degree 6\n",
        "using\n"
      ]
    },
    {
      "cell_type": "code",
      "metadata": {
        "colab": {
          "base_uri": "https://localhost:8080/"
        },
        "id": "yiGkv79Jx54R",
        "outputId": "8fcee434-04bf-4399-c33a-6332dea0b65b"
      },
      "source": [
        "dataset=pd.read_csv(\"/content/drive/MyDrive/Machine Learning Lab/exam.csv\", names = ['Exam1', 'Exam2', 'Result'])\n",
        "print(dataset)"
      ],
      "execution_count": 30,
      "outputs": [
        {
          "output_type": "stream",
          "text": [
            "        Exam1     Exam2  Result\n",
            "0    0.051267  0.699560       1\n",
            "1   -0.092742  0.684940       1\n",
            "2   -0.213710  0.692250       1\n",
            "3   -0.375000  0.502190       1\n",
            "4   -0.513250  0.465640       1\n",
            "..        ...       ...     ...\n",
            "113 -0.720620  0.538740       0\n",
            "114 -0.593890  0.494880       0\n",
            "115 -0.484450  0.999270       0\n",
            "116 -0.006336  0.999270       0\n",
            "117  0.632650 -0.030612       0\n",
            "\n",
            "[118 rows x 3 columns]\n"
          ],
          "name": "stdout"
        }
      ]
    },
    {
      "cell_type": "code",
      "metadata": {
        "colab": {
          "base_uri": "https://localhost:8080/"
        },
        "id": "8BM1zW5u0NQa",
        "outputId": "72f68406-c96c-4654-82f0-c0126698c44b"
      },
      "source": [
        "X=dataset.drop(['Result'],axis=1)\n",
        "def mapFeature(X1, X2):\n",
        "    degree = 6  #pol. func of 6 degrees R\n",
        "    out = np.ones(X.shape[0])[:,np.newaxis]\n",
        "    for i in range(1, degree+1):\n",
        "        for j in range(i+1):\n",
        "            out = np.hstack((out, np.multiply(np.power(X1, i-j), np.power(X2, j))[:,np.newaxis]))\n",
        "    return out\n",
        "X = mapFeature(X.iloc[:,0], X.iloc[:,1])"
      ],
      "execution_count": 31,
      "outputs": [
        {
          "output_type": "stream",
          "text": [
            "/usr/local/lib/python3.7/dist-packages/ipykernel_launcher.py:7: FutureWarning: Support for multi-dimensional indexing (e.g. `obj[:, None]`) is deprecated and will be removed in a future version.  Convert to a numpy array before indexing instead.\n",
            "  import sys\n"
          ],
          "name": "stderr"
        }
      ]
    },
    {
      "cell_type": "code",
      "metadata": {
        "id": "dqFdLfW00sKD"
      },
      "source": [
        "Y=dataset.iloc[:,2]\n",
        "from sklearn.preprocessing import MinMaxScaler\n",
        "scaler=MinMaxScaler()\n",
        "X_scaled=scaler.fit_transform(X)\n",
        "X_scaled=np.insert(X_scaled,0,values=1,axis=1)"
      ],
      "execution_count": 32,
      "outputs": []
    },
    {
      "cell_type": "code",
      "metadata": {
        "id": "FLJ3H8wI0xYl"
      },
      "source": [
        "from sklearn.model_selection import train_test_split\n",
        "X_train, X_test, Y_train, Y_test = train_test_split(X_scaled, Y, test_size=0.3, random_state=42)"
      ],
      "execution_count": 33,
      "outputs": []
    },
    {
      "cell_type": "markdown",
      "metadata": {
        "id": "Osq4cK6V05q2"
      },
      "source": [
        "(i) Step-by-Step Logistic Regression (with no regularization; alpha=10; number of iterations=1000)"
      ]
    },
    {
      "cell_type": "code",
      "metadata": {
        "colab": {
          "base_uri": "https://localhost:8080/"
        },
        "id": "VKcRKPjz0zSW",
        "outputId": "0892144f-5760-4faa-b8e0-874c15a953f6"
      },
      "source": [
        "n=1000  #no. of iterations I\n",
        "alpha=10\n",
        "m,k=X_train.shape\n",
        "beta=np.zeros(k)\n",
        "for i in range(n):\n",
        "  cost_gradient=np.zeros(k)\n",
        "  z=X_train.dot(beta)\n",
        "  predicted=1/(1+np.exp(-z))\n",
        "  difference=predicted-Y_train\n",
        "  for j in range(k):\n",
        "    cost_gradient[j]=np.sum(difference.dot(X_train[:,j]))\n",
        "  for j in range(k):\n",
        "    beta[j]=beta[j]-(alpha/m)*cost_gradient[j]\n",
        "print(beta) # N"
      ],
      "execution_count": 34,
      "outputs": [
        {
          "output_type": "stream",
          "text": [
            "[  6.39362011   0.           6.59045005  21.38690493 -21.53798653\n",
            " -15.60810878 -18.06730834  11.84940635   8.19388602  -2.23227157\n",
            "  -1.14754793 -11.82131432   1.1574889   -1.88236682  -7.17676875\n",
            " -17.39471624   4.04723808  -2.86623889  15.45050612  -4.21007462\n",
            "  -5.46824427  -5.74889001  -9.21912964   0.6294782    1.40730222\n",
            "   1.47040908  -9.98294056  -3.79066828 -11.69809637]\n"
          ],
          "name": "stdout"
        }
      ]
    },
    {
      "cell_type": "code",
      "metadata": {
        "id": "3jsN0x1L094L"
      },
      "source": [
        "Y_predict=1/(1+np.exp(-(X_test.dot(beta))))\n",
        "Y_label=np.zeros(len(Y_predict))\n",
        "for i in range(len(Y_predict)): # Z\n",
        "  if Y_predict[i]>=0.5:\n",
        "    Y_label[i]=1"
      ],
      "execution_count": 35,
      "outputs": []
    },
    {
      "cell_type": "code",
      "metadata": {
        "colab": {
          "base_uri": "https://localhost:8080/"
        },
        "id": "RnHH0Mx61AIn",
        "outputId": "d96d1479-90e2-436c-b5a6-ffbffbba89a3"
      },
      "source": [
        "TP=0\n",
        "TN=0\n",
        "FP=0\n",
        "FN=0\n",
        "Y_test=np.array(Y_test).reshape(-1,1)\n",
        "for i in range(len(Y_label)):\n",
        "  if (Y_test[i]==1 and Y_label[i]==1):\n",
        "    TP=TP+1\n",
        "  if (Y_test[i]==1 and Y_label[i]==0):\n",
        "    FN=FN+1\n",
        "  if (Y_test[i]==0 and Y_label[i]==1):\n",
        "    FP=FP+1\n",
        "  if (Y_test[i]==0 and Y_label[i]==0):\n",
        "    TN=TN+1\n",
        "print(TP,TN,FP,FN)"
      ],
      "execution_count": 36,
      "outputs": [
        {
          "output_type": "stream",
          "text": [
            "19 11 5 1\n"
          ],
          "name": "stdout"
        }
      ]
    },
    {
      "cell_type": "code",
      "metadata": {
        "colab": {
          "base_uri": "https://localhost:8080/"
        },
        "id": "NeI7V_lR1CIt",
        "outputId": "149ba286-db3c-47c4-fef2-22c454642956"
      },
      "source": [
        "accuracy=(TP+TN)/(TP+TN+FP+FN)\n",
        "print('Accuracy: ',accuracy)\n",
        "#For positive class: L\n",
        "precision_pos=TP/(TP+FP)\n",
        "recall_pos=TP/(TP+FN)\n",
        "f1_score_pos=2*precision_pos*recall_pos/(precision_pos+recall_pos)\n",
        "print('Precision_pos: ',precision_pos,'\\nRecall_pos: ',recall_pos,'\\nF1_score_pos: ',f1_score_pos)\n",
        "\n",
        "#For negative class: E\n",
        "try:\n",
        "  precision_neg=TN/(TN+FN)\n",
        "  recall_neg=TN/(TN+FP)\n",
        "  f1_score_neg=2*precision_neg*recall_neg/(precision_neg+recall_neg)\n",
        "  print('Precision_neg: ',precision_neg,'\\nRecall_neg: ',recall_neg,'\\nF1_score_neg: ',f1_score_neg)\n",
        "except:\n",
        "  pass"
      ],
      "execution_count": 37,
      "outputs": [
        {
          "output_type": "stream",
          "text": [
            "Accuracy:  0.8333333333333334\n",
            "Precision_pos:  0.7916666666666666 \n",
            "Recall_pos:  0.95 \n",
            "F1_score_pos:  0.8636363636363635\n",
            "Precision_neg:  0.9166666666666666 \n",
            "Recall_neg:  0.6875 \n",
            "F1_score_neg:  0.7857142857142857\n"
          ],
          "name": "stdout"
        }
      ]
    },
    {
      "cell_type": "code",
      "metadata": {
        "colab": {
          "base_uri": "https://localhost:8080/"
        },
        "id": "oQy-6fOX1FCO",
        "outputId": "b28984c9-2fd1-425e-d6db-e7e8fc346d51"
      },
      "source": [
        "try:\n",
        "  macro_precision=(precision_pos+precision_neg)/2\n",
        "  macro_recall=(recall_pos+recall_neg)/2\n",
        "  macro_f1_score=(f1_score_pos+f1_score_neg)/2\n",
        "  print(\"Macro_precision: \",macro_precision,'\\nMacro Recall: ',macro_recall,'\\nMacro F1 score: ',macro_f1_score)\n",
        "except:\n",
        "  pass"
      ],
      "execution_count": 38,
      "outputs": [
        {
          "output_type": "stream",
          "text": [
            "Macro_precision:  0.8541666666666666 \n",
            "Macro Recall:  0.81875 \n",
            "Macro F1 score:  0.8246753246753247\n"
          ],
          "name": "stdout"
        }
      ]
    },
    {
      "cell_type": "code",
      "metadata": {
        "colab": {
          "base_uri": "https://localhost:8080/"
        },
        "id": "GvCZsG3_1IY7",
        "outputId": "f0b2346f-1e06-4d6f-a8a6-4dcaf11d8910"
      },
      "source": [
        "#Weighted Average: R\n",
        "l1=len(Y_test[Y_test==0])\n",
        "l2=len(Y_test[Y_test==1])\n",
        "weighted_precision=(l1*precision_neg+l2*precision_pos)/(l1+l2)\n",
        "weighted_recall=(l1*recall_neg+l2*recall_pos)/(l1+l2)\n",
        "weighted_f1_score=(l1*f1_score_neg+l2*f1_score_pos)/(l1+l2)\n",
        "print(weighted_precision,weighted_recall,weighted_f1_score)"
      ],
      "execution_count": 39,
      "outputs": [
        {
          "output_type": "stream",
          "text": [
            "0.8472222222222222 0.8333333333333334 0.829004329004329\n"
          ],
          "name": "stdout"
        }
      ]
    },
    {
      "cell_type": "markdown",
      "metadata": {
        "id": "ynoanV-51TNL"
      },
      "source": [
        "\n",
        "\n",
        "\n",
        "(ii) Step-by-Step Logistic Regression (with ridge\n",
        "regularization; alpha=10; number of iterations=1000;\n",
        "lambda=0.2)"
      ]
    },
    {
      "cell_type": "code",
      "metadata": {
        "colab": {
          "base_uri": "https://localhost:8080/"
        },
        "id": "0Fa04m191LD_",
        "outputId": "4c097327-aec3-4908-d2ef-ef623fad090b"
      },
      "source": [
        "dataset=pd.read_csv(\"/content/drive/MyDrive/Machine Learning Lab/exam.csv\", names = ['Exam1', 'Exam2', 'Result'])\n",
        "print(dataset)"
      ],
      "execution_count": 40,
      "outputs": [
        {
          "output_type": "stream",
          "text": [
            "        Exam1     Exam2  Result\n",
            "0    0.051267  0.699560       1\n",
            "1   -0.092742  0.684940       1\n",
            "2   -0.213710  0.692250       1\n",
            "3   -0.375000  0.502190       1\n",
            "4   -0.513250  0.465640       1\n",
            "..        ...       ...     ...\n",
            "113 -0.720620  0.538740       0\n",
            "114 -0.593890  0.494880       0\n",
            "115 -0.484450  0.999270       0\n",
            "116 -0.006336  0.999270       0\n",
            "117  0.632650 -0.030612       0\n",
            "\n",
            "[118 rows x 3 columns]\n"
          ],
          "name": "stdout"
        }
      ]
    },
    {
      "cell_type": "code",
      "metadata": {
        "colab": {
          "base_uri": "https://localhost:8080/"
        },
        "id": "q6bnyLKa1f_2",
        "outputId": "5d3144bb-b073-4fe5-adbc-8197fb168477"
      },
      "source": [
        "X=dataset.drop(['Result'],axis=1)\n",
        "def mapFeature(X1, X2):\n",
        "    degree = 6  #pol. func of 6 degrees R\n",
        "    out = np.ones(X.shape[0])[:,np.newaxis]\n",
        "    for i in range(1, degree+1):\n",
        "        for j in range(i+1):\n",
        "            out = np.hstack((out, np.multiply(np.power(X1, i-j), np.power(X2, j))[:,np.newaxis]))\n",
        "    return out\n",
        "X = mapFeature(X.iloc[:,0], X.iloc[:,1])"
      ],
      "execution_count": 41,
      "outputs": [
        {
          "output_type": "stream",
          "text": [
            "/usr/local/lib/python3.7/dist-packages/ipykernel_launcher.py:7: FutureWarning: Support for multi-dimensional indexing (e.g. `obj[:, None]`) is deprecated and will be removed in a future version.  Convert to a numpy array before indexing instead.\n",
            "  import sys\n"
          ],
          "name": "stderr"
        }
      ]
    },
    {
      "cell_type": "code",
      "metadata": {
        "id": "MRPUVS4k1i5S"
      },
      "source": [
        "Y=dataset.iloc[:,2]\n",
        "from sklearn.preprocessing import MinMaxScaler\n",
        "scaler=MinMaxScaler()\n",
        "X_scaled=scaler.fit_transform(X)\n",
        "X_scaled=np.insert(X_scaled,0,values=1,axis=1)"
      ],
      "execution_count": 42,
      "outputs": []
    },
    {
      "cell_type": "code",
      "metadata": {
        "id": "HCQOTsuo1lqs"
      },
      "source": [
        "from sklearn.model_selection import train_test_split\n",
        "X_train, X_test, Y_train, Y_test = train_test_split(X_scaled, Y, test_size=0.3, random_state=42)"
      ],
      "execution_count": 43,
      "outputs": []
    },
    {
      "cell_type": "code",
      "metadata": {
        "colab": {
          "base_uri": "https://localhost:8080/"
        },
        "id": "ESzWcLUr1nor",
        "outputId": "6bec38dc-0738-4f26-bffb-35b54935fb6f"
      },
      "source": [
        "n=1000  #no. of iterations I\n",
        "ld=0.2\n",
        "alpha=10\n",
        "m,k=X_train.shape\n",
        "beta2=np.zeros(k)\n",
        "for i in range(n):\n",
        "  cost_gradient=np.zeros(k)\n",
        "  z=X_train.dot(beta2)\n",
        "  predicted=1/(1+np.exp(-z))\n",
        "  difference=predicted-Y_train\n",
        "  for j in range(k):\n",
        "    cost_gradient[j]=np.sum(difference.dot(X_train[:,j]))\n",
        "  for j in range(k):\n",
        "    beta2[j]=(beta2[j]*(1-alpha*ld/m))-((alpha/m)*cost_gradient[j])\n",
        "print(beta2) # N"
      ],
      "execution_count": 44,
      "outputs": [
        {
          "output_type": "stream",
          "text": [
            "[  6.36473239   0.           1.87822285   9.2473579  -11.00182025\n",
            "  -2.79290033  -5.41530664   1.93342849   1.1918536    0.11982645\n",
            "   1.75145827  -7.00591381   0.75710096  -6.93073343   0.8609409\n",
            "  -4.87557089   0.49257739  -0.06286224   1.73066968   0.18299609\n",
            "   1.14152197  -0.80153778  -4.52740464   1.56699169  -5.29155829\n",
            "   0.77041812  -4.09270277   2.03993467  -3.55594054]\n"
          ],
          "name": "stdout"
        }
      ]
    },
    {
      "cell_type": "code",
      "metadata": {
        "id": "YdPvfMd-1pod"
      },
      "source": [
        "Y_predict=1/(1+np.exp(-(X_test.dot(beta2)))) \n",
        "Y_label=np.zeros(len(Y_predict))\n",
        "for i in range(len(Y_predict)): # Z\n",
        "  if Y_predict[i]>=0.5:\n",
        "    Y_label[i]=1"
      ],
      "execution_count": 45,
      "outputs": []
    },
    {
      "cell_type": "code",
      "metadata": {
        "colab": {
          "base_uri": "https://localhost:8080/"
        },
        "id": "pLTxnPeO1rfs",
        "outputId": "95a8dbbb-9e42-480c-ee50-f52b29cb34f4"
      },
      "source": [
        "TP=0\n",
        "TN=0\n",
        "FP=0\n",
        "FN=0\n",
        "Y_test=np.array(Y_test).reshape(-1,1)\n",
        "for i in range(len(Y_label)):\n",
        "  if (Y_test[i]==1 and Y_label[i]==1):\n",
        "    TP=TP+1\n",
        "  if (Y_test[i]==1 and Y_label[i]==0):\n",
        "    FN=FN+1\n",
        "  if (Y_test[i]==0 and Y_label[i]==1):\n",
        "    FP=FP+1\n",
        "  if (Y_test[i]==0 and Y_label[i]==0):\n",
        "    TN=TN+1\n",
        "print(TP,TN,FP,FN)"
      ],
      "execution_count": 46,
      "outputs": [
        {
          "output_type": "stream",
          "text": [
            "20 1 15 0\n"
          ],
          "name": "stdout"
        }
      ]
    },
    {
      "cell_type": "code",
      "metadata": {
        "colab": {
          "base_uri": "https://localhost:8080/"
        },
        "id": "vh8hGjoH1tx3",
        "outputId": "db0855c0-825b-4bb0-b9a8-46d9b5c3746e"
      },
      "source": [
        "accuracy=(TP+TN)/(TP+TN+FP+FN)\n",
        "print('Accuracy: ',accuracy)\n",
        "#For positive class: L\n",
        "precision_pos=TP/(TP+FP)\n",
        "recall_pos=TP/(TP+FN)\n",
        "f1_score_pos=2*precision_pos*recall_pos/(precision_pos+recall_pos)\n",
        "print('Precision_pos: ',precision_pos,'\\nRecall_pos: ',recall_pos,'\\nF1_score_pos: ',f1_score_pos)\n",
        "\n",
        "#For negative class: E\n",
        "precision_neg=TN/(TN+FN)\n",
        "recall_neg=TN/(TN+FP)\n",
        "f1_score_neg=2*precision_neg*recall_neg/(precision_neg+recall_neg)\n",
        "print('Precision_neg: ',precision_neg,'\\nRecall_neg: ',recall_neg,'\\nF1_score_neg: ',f1_score_neg)"
      ],
      "execution_count": 47,
      "outputs": [
        {
          "output_type": "stream",
          "text": [
            "Accuracy:  0.5833333333333334\n",
            "Precision_pos:  0.5714285714285714 \n",
            "Recall_pos:  1.0 \n",
            "F1_score_pos:  0.7272727272727273\n",
            "Precision_neg:  1.0 \n",
            "Recall_neg:  0.0625 \n",
            "F1_score_neg:  0.11764705882352941\n"
          ],
          "name": "stdout"
        }
      ]
    },
    {
      "cell_type": "code",
      "metadata": {
        "colab": {
          "base_uri": "https://localhost:8080/"
        },
        "id": "qFaGOGn71wBp",
        "outputId": "a7eb929a-c82c-4290-91af-aa7bd2805a87"
      },
      "source": [
        "try:\n",
        "  macro_precision=(precision_pos+precision_neg)/2\n",
        "  macro_recall=(recall_pos+recall_neg)/2\n",
        "  macro_f1_score=(f1_score_pos+f1_score_neg)/2\n",
        "  print(\"Macro_precision: \",macro_precision,'\\nMacro Recall: ',macro_recall,'\\nMacro F1 score: ',macro_f1_score)\n",
        "except:\n",
        "  pass"
      ],
      "execution_count": 48,
      "outputs": [
        {
          "output_type": "stream",
          "text": [
            "Macro_precision:  0.7857142857142857 \n",
            "Macro Recall:  0.53125 \n",
            "Macro F1 score:  0.42245989304812837\n"
          ],
          "name": "stdout"
        }
      ]
    },
    {
      "cell_type": "code",
      "metadata": {
        "colab": {
          "base_uri": "https://localhost:8080/"
        },
        "id": "ySaSRJR21ySu",
        "outputId": "6beb9a79-be23-4cc3-da7c-97360eba2e81"
      },
      "source": [
        "#Weighted Average: R\n",
        "l1=len(Y_test[Y_test==0])\n",
        "l2=len(Y_test[Y_test==1])\n",
        "weighted_precision=(l1*precision_neg+l2*precision_pos)/(l1+l2)\n",
        "weighted_recall=(l1*recall_neg+l2*recall_pos)/(l1+l2)\n",
        "weighted_f1_score=(l1*f1_score_neg+l2*f1_score_pos)/(l1+l2)\n",
        "print('Weighted_precision: ',weighted_precision,'\\nWeighted_recall: ',weighted_recall,'\\nWeighted_f1_score: ',weighted_f1_score)"
      ],
      "execution_count": 49,
      "outputs": [
        {
          "output_type": "stream",
          "text": [
            "Weighted_precision:  0.7619047619047619 \n",
            "Weighted_recall:  0.5833333333333334 \n",
            "Weighted_f1_score:  0.4563279857397505\n"
          ],
          "name": "stdout"
        }
      ]
    }
  ]
}